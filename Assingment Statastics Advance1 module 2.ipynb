{
 "cells": [
  {
   "cell_type": "code",
   "execution_count": 1,
   "id": "3cea5bd6-d724-446d-9283-d3334b004460",
   "metadata": {},
   "outputs": [],
   "source": [
    "#Assingment_Statastics Advance 1_Module 2"
   ]
  },
  {
   "cell_type": "code",
   "execution_count": 2,
   "id": "acb584d3-d046-41e9-af8b-3c2966860cf9",
   "metadata": {},
   "outputs": [],
   "source": [
    "#1.What is a random variable in probabilty theory?\n",
    "#Ans:A random variable is a function that assigns a real number to each outcome in a sample space of a random process.\n",
    "#Types of random variables:\n",
    "#Discrete random variable: Takes values from a countable set (e.g., rolling a die → {1,2,3,4,5,6}).\n",
    "#Continuous random variable: Takes values from an interval of real numbers (e.g., the time it takes for a bus to arrive, height of a person).\n",
    "#Example:Tosing of coin having sample spac{Head,Tail}\n",
    "#Random variable X (Head)=1 & X(Tail)=1\n",
    "\n"
   ]
  },
  {
   "cell_type": "code",
   "execution_count": 3,
   "id": "f43ac4d3-56ab-4cc6-9680-86adfd664bd7",
   "metadata": {},
   "outputs": [],
   "source": [
    "#2.What are the types of random variables?\n",
    "#Ans:1. Discrete Random Variable\n",
    "# countable values (finite or countably infinite).\n",
    "#Examples:\n",
    "#Number of heads in 3 coin tosses (0,1,2,3).\n",
    "#Result of rolling a die (1,2,3,4,5,6).\n",
    "\n",
    "#Associated with a Probability Mass Function (PMF):\n",
    "#P(X=x)gives the probability of each outcome.\n",
    "\n",
    "#Continuous Random Variable\n",
    "\n",
    "#values from an interval of real numbers (uncountably infinite).\n",
    "#Examples:\n",
    "#Height of a student (e.g., 160.2 cm, 170.8 cm, etc.).\n",
    "#Time taken for a train to arrive.\n",
    "\n",
    "#Associated with a Probability Density Function (PDF):\n",
    "#Probability of exact value is 0.\n",
    "\n",
    "#Instead, we calculate probabilities over intervals:\n",
    "\n",
    "#P(a≤X≤b)=∫f(x)dx"
   ]
  },
  {
   "cell_type": "code",
   "execution_count": 4,
   "id": "659d5590-d42b-4d35-b867-78c7ac2325b2",
   "metadata": {},
   "outputs": [],
   "source": [
    "#3. Explain the difference between discrete and continuous distribution?\n",
    "#Ans:Discrete Distribution\n",
    "#a)Variable type:Countable values\n",
    "#b)Probability:P(X=x) > 0 for some x\n",
    "#c)Function:PMF (Probability Mass Function)\n",
    "#d)Probability Calculation:Sum: ∑P(X=x)\n",
    "#e)xamples:Binomial, Poisson, Geometric\n",
    "\n",
    "#Continuous Distribution\n",
    "#a)Variable type:Uncountable (real numbers)\n",
    "#b)Probability:P(X=a)=0 for any single a\n",
    "#c)Function:PDF (Probability Density Function)\n",
    "#d)Probability Calculation:Integral: ∫f(x)dx\n",
    "#e)xamples:Normal, Exponential, Uniform\n"
   ]
  },
  {
   "cell_type": "code",
   "execution_count": 5,
   "id": "feb0481b-dbdd-46ad-826e-e01e1ba6e755",
   "metadata": {},
   "outputs": [],
   "source": [
    "#4.What is a binomial distribution and how is it used in probabilty?\n",
    "#Ans:The binomial distribution is a discrete probability distribution that describes the number of “successes” in a fixed number of independent trials, \n",
    "#where each trial has only two possible outcomes: success or failure.\n",
    "#Mathematical Formula\n",
    "#If X is a binomial random variable:\n",
    "#P(X=k)=(n/k)*P to the power k *(1-p) to the power (n-k)\n",
    "# Where n=no oftrial,k= no of sucess,P=probablty of each trail & (n/k) =n!/(k!(n-k)!)\n",
    "# eXAMPLE:Coin Toss:Toss a fair coin 10 times. the probability of getting exactly 6 heads will be calculated with value\n",
    "# n=10, p=.5 & k=6  nad putting the value in above equation\n",
    "\n"
   ]
  },
  {
   "cell_type": "code",
   "execution_count": 6,
   "id": "850334c5-66f3-4468-8464-1fc50bba7ef5",
   "metadata": {},
   "outputs": [],
   "source": [
    "#5.What is the standard normal distribution and why is it important?\n",
    "#Ans:The standard normal distribution is just the normal distribution with mean 0 and standard deviation 1. It is important because it acts as a universal reference distribution, making it easier to calculate probabilities,\n",
    "#compare data, and perform statistical inference."
   ]
  },
  {
   "cell_type": "code",
   "execution_count": 8,
   "id": "3dc0ac47-8945-422d-af08-5dae10700a68",
   "metadata": {},
   "outputs": [],
   "source": [
    "#6.What is the central Limit theoram(CLT) and why is it critical in statistics?\n",
    "#Ans:When independent random samples of sufficiently large size n are taken from any population (with finite mean μ and finite variance\n",
    "#the sampling distribution of the sample mean X will approach a normal distribution with mean μ nd variance 𝜎2//n, regardless of the shape\n",
    "#of the original population distribution.\n",
    "#a)Normal Approximation\n",
    "#b)Foundation for Statistical Inference\n",
    "#c)Practical Applications\n",
    "#d)Bridges Real-World Data to Theory"
   ]
  },
  {
   "cell_type": "code",
   "execution_count": 9,
   "id": "9a0a97da-234c-49e9-b43b-0be16b7d15b1",
   "metadata": {},
   "outputs": [],
   "source": [
    "#7.What is the significance of confidence intervals in statastical analysis?\n",
    "#Ans:A confidence interval is a range of values, derived from sample data, that is likely to contain the true population parameter (such as mean or proportion) with a specified level of confidence.\n",
    "#Example:\n",
    "#if we estimate the average height of students to be 170 cm ± 5 cm at 95% confidence level, it means:\n",
    "#We are 95% confident that the true population mean height lies between 165 cm and 175 cm."
   ]
  },
  {
   "cell_type": "code",
   "execution_count": 10,
   "id": "594714c3-e552-44a4-92b9-187935cb98de",
   "metadata": {},
   "outputs": [],
   "source": [
    "#8.What is the concept of expected value in a probality distribution?\n",
    "#Ans:The expected value of a random variable is the long-run average or mean value you would expect if an experiment were repeated many times.\n",
    "#It’s often denoted as E(X) or μ.\n",
    "\n"
   ]
  },
  {
   "cell_type": "code",
   "execution_count": 11,
   "id": "5143c1ba-856d-46f9-aac5-f47a4a1e799c",
   "metadata": {},
   "outputs": [
    {
     "name": "stdout",
     "output_type": "stream",
     "text": [
      "Computed Mean: 50.05\n",
      "Computed Standard Deviation: 5.04\n"
     ]
    },
    {
     "data": {
      "image/png": "[encoded data removed]",
      "text/plain": [
       "<Figure size 1000x600 with 1 Axes>"
      ]
     },
     "metadata": {},
     "output_type": "display_data"
    }
   ],
   "source": [
    "#9.Write a Python Programe to genrate 1000 random number from a normal distributiom with mean=50 and standard deviation =5.\n",
    "#Comput its mean and standard deviation using Numpy and draw a histograme to visulaize the distribution?\n",
    "import numpy as np\n",
    "import matplotlib.pyplot as plt\n",
    "\n",
    "# Parameters for the normal distribution\n",
    "mean = 50\n",
    "std_dev = 5\n",
    "size = 1000\n",
    "\n",
    "# Generate 1000 random numbers from normal distribution\n",
    "data = np.random.normal(loc=mean, scale=std_dev, size=size)\n",
    "\n",
    "# Compute mean and standard deviation using NumPy\n",
    "computed_mean = np.mean(data)\n",
    "computed_std = np.std(data)\n",
    "\n",
    "print(f\"Computed Mean: {computed_mean:.2f}\")\n",
    "print(f\"Computed Standard Deviation: {computed_std:.2f}\")\n",
    "\n",
    "# Plot histogram to visualize the distribution\n",
    "plt.figure(figsize=(10,6))\n",
    "plt.hist(data, bins=30, color='skyblue', edgecolor='black')\n",
    "plt.title(\"Histogram of Normally Distributed Data\")\n",
    "plt.xlabel(\"Value\")\n",
    "plt.ylabel(\"Frequency\")\n",
    "plt.axvline(computed_mean, color='red', linestyle='dashed', linewidth=2, label=f\"Mean = {computed_mean:.2f}\")\n",
    "plt.legend()\n",
    "plt.show()"
   ]
  },
  {
   "cell_type": "code",
   "execution_count": 12,
   "id": "3b766547-1faf-44d3-b4b6-2c62ad805a26",
   "metadata": {},
   "outputs": [
    {
     "name": "stdout",
     "output_type": "stream",
     "text": [
      "Mean Daily Sales: 248.25\n",
      "95% Confidence Interval: [240.68, 255.82]\n"
     ]
    }
   ],
   "source": [
    "# 10.you are working as a data analyst for retail company. the company has collected daily sales data for 2 years and wants to identify the overall sales trend.\n",
    "#daily_sales=[220,245,210,265,230,250,260,275,240,255,235,260,245,250,225,270,265,255,250,260]\n",
    "#a) Explain how you appply central limit theoram to estimate te average sales with a 95% confidence interval?\n",
    "#b)Write the python code to comupte the mean sales and its confidence interval?\n",
    "#Ans:Step 1: Understand the problem by the daily sales data: daily_sales = [220,245,210,...,260]\n",
    "# to estimate the population mean of daily sales and quantify uncertainty.\n",
    "#Step 2: Apply the CLT\n",
    "#CLT states that for a large enough sample size n, the sampling distribution of the sample mean is approximately normal:\n",
    "#Step 3: Compute 95% Confidence Interval by standard forula\n",
    "\n",
    "#b) code:\n",
    "import numpy as np\n",
    "from scipy import stats\n",
    "\n",
    "# Daily sales data\n",
    "daily_sales = [220,245,210,265,230,250,260,275,240,255,235,260,245,250,225,270,265,255,250,260]\n",
    "\n",
    "# Convert to NumPy array\n",
    "sales = np.array(daily_sales)\n",
    "\n",
    "# Sample statistics\n",
    "n = len(sales)\n",
    "mean_sales = np.mean(sales)\n",
    "std_sales = np.std(sales, ddof=1)  # sample standard deviation\n",
    "\n",
    "# 95% confidence interval using Z-score\n",
    "confidence_level = 0.95\n",
    "alpha = 1 - confidence_level\n",
    "z_score = stats.norm.ppf(1 - alpha/2)  # 1.96 for 95% CI\n",
    "\n",
    "margin_of_error = z_score * (std_sales / np.sqrt(n))\n",
    "ci_lower = mean_sales - margin_of_error\n",
    "ci_upper = mean_sales + margin_of_error\n",
    "\n",
    "print(f\"Mean Daily Sales: {mean_sales:.2f}\")\n",
    "print(f\"95% Confidence Interval: [{ci_lower:.2f}, {ci_upper:.2f}]\")"
   ]
  },
  {
   "cell_type": "code",
   "execution_count": null,
   "id": "e2c32d49-2326-4d9d-85c2-bee8d40c3a3f",
   "metadata": {},
   "outputs": [],
   "source": []
  }
 ],
 "metadata": {
  "kernelspec": {
   "display_name": "Python 3 (ipykernel)",
   "language": "python",
   "name": "python3"
  },
  "language_info": {
   "codemirror_mode": {
    "name": "ipython",
    "version": 3
   },
   "file_extension": ".py",
   "mimetype": "text/x-python",
   "name": "python",
   "nbconvert_exporter": "python",
   "pygments_lexer": "ipython3",
   "version": "3.13.5"
  }
 },
 "nbformat": 4,
 "nbformat_minor": 5
}
