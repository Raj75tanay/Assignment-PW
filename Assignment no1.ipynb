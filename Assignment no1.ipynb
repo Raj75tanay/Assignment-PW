{
 "cells": [
  {
   "cell_type": "code",
   "execution_count": null,
   "id": "44f17369-1c31-4211-9fa6-06420d68d4dc",
   "metadata": {},
   "outputs": [],
   "source": [
    "#Assignment 1\n",
    "#Basic of Python\n",
    "#Theoratical Question\n",
    "#1.What is Python and why is it popular?\n",
    "#Ans-Python is the programming language and is popular because of rich libraries, active community, commonly used, versatility, readability and ease to learn.\n",
    "#2.What is an interpreter?\n",
    "#Ans-Programme that reads and execute python code line by line.\n",
    "#3. What are pre-defined keywords in Python?\n",
    "#Ans-It is predefined words like print() which is used to create logic and cannot be used as variable names, function name or identifier.\n",
    "#4.Can keywords be used as variables names?\n",
    "#Ans-No\n",
    "#5.What is mutability?\n",
    "#Ans-It refers to the object can be changes  after it created.\n",
    "#6.Why are the lists mutables but tuples are immutable?\n",
    "#Ans-Because in list we can add or remove the elements whereas in tuples lists are designed for the dynamic data during the programming.\n",
    "#7.What is the difference between\"==\" and \"is\" opearators in Python?\n",
    "#Ans-”==” means equality and true if value match whereas “is” means identity and true  if same object.\n",
    "#8.What are the logical opearators in python?\n",
    "#Ans-logical operators are used to combine the conditional statement and return the Boolean value.\n",
    "#9.What is type casting?\n",
    "#Ans-Type casting”: changing the data type of a value from one type to another like int to float.\n",
    "#10. What is the difference between implicit and explicit type casting?\n",
    "#Ans-Difference between implicit  and explicit type casting\n",
    "#                                                         Implicit                                                   Explicit\n",
    "##Who perform           Python interpreter(Automatically)              Programmer\n",
    "#Control                       No control                                                               Full control\n",
    "#Risk of data loss        very low                                                                 possible\n",
    "#Syntex                           no casting function                                           use function like int()\n",
    "#Flexibility                   limited                                                                      Flexible\n",
    "\n",
    "#11.What is prpose of conditional statement in python?\n",
    "#Ans-it is used to make decision in the programme and allow different action based on different conditions.\n",
    "#12the elif  is used to check the multiple condition one after another.\n",
    "#13.What is difference between whle and for loop?\n",
    "#Features                                                     for loop                                                    while loop\n",
    "#Purpose                                               used when no. of iteration is known       whem iteration is  \n",
    "#                                                                                                                                                 based on logic\n",
    "#Syntex                                          for x in iteration;                                             while condition:             \n",
    "#Typical use                                iterating own lists , strigs, ranges             looping until condition                    \n",
    "#                                                                                                                                          became false              \n",
    "#Counter                                        often built in                                                      manually updated\n",
    "#Risk of infinity loop                  low                                                                           High\n",
    "\n",
    "#14.Describe a scenario where a while loop is more suitable than for loop?\n",
    "#Ans-While is suitable where we don’t know in how many  times to loop and need loop till certain condition became the false.\n",
    "\n",
    "\n",
    "    "
   ]
  },
  {
   "cell_type": "code",
   "execution_count": 1,
   "id": "65480bdc-148d-4838-8657-b012aa4057da",
   "metadata": {},
   "outputs": [
    {
     "name": "stdout",
     "output_type": "stream",
     "text": [
      "Hello,world!\n"
     ]
    }
   ],
   "source": [
    "#Practical Question\n",
    "# 1. Write a Python Programme to print\"Hello,world!\"\n",
    "print(\"Hello,world!\")"
   ]
  },
  {
   "cell_type": "code",
   "execution_count": 2,
   "id": "549dc670-85a1-4c9a-87b0-0060c952bcd5",
   "metadata": {},
   "outputs": [
    {
     "name": "stdout",
     "output_type": "stream",
     "text": [
      "Rajesh kumar\n",
      "53 years\n"
     ]
    }
   ],
   "source": [
    "#2.Write  a python programme that display your name and age\n",
    "print(\"Rajesh kumar\")\n",
    "print(\"53 years\")"
   ]
  },
  {
   "cell_type": "code",
   "execution_count": 3,
   "id": "5e0b2b06-5375-4401-ac49-d1175beb1b7c",
   "metadata": {},
   "outputs": [
    {
     "name": "stdout",
     "output_type": "stream",
     "text": [
      "\n",
      "Here is a list of the Python keywords.  Enter any keyword to get more help.\n",
      "\n",
      "False               class               from                or\n",
      "None                continue            global              pass\n",
      "True                def                 if                  raise\n",
      "and                 del                 import              return\n",
      "as                  elif                in                  try\n",
      "assert              else                is                  while\n",
      "async               except              lambda              with\n",
      "await               finally             nonlocal            yield\n",
      "break               for                 not                 \n",
      "\n"
     ]
    }
   ],
   "source": [
    "#Write code to print all the predefined keywords\n",
    "help('keywords')"
   ]
  },
  {
   "cell_type": "code",
   "execution_count": 5,
   "id": "136eee21-806d-49d7-aec0-130cb0acae51",
   "metadata": {},
   "outputs": [
    {
     "name": "stdin",
     "output_type": "stream",
     "text": [
      "Enter a word to check if it is a Python keyword:  print\n"
     ]
    },
    {
     "name": "stdout",
     "output_type": "stream",
     "text": [
      "'print' is NOT a Python keyword.\n"
     ]
    }
   ],
   "source": [
    "#Write a programme that checks if a given word is python keyword\n",
    "import keyword\n",
    "\n",
    "# Ask the user to enter a word\n",
    "word = input(\"Enter a word to check if it is a Python keyword: \")\n",
    "\n",
    "# Check if the word is a keyword\n",
    "if keyword.iskeyword(word):\n",
    "    print(f\"'{word}' is a Python keyword.\")\n",
    "else:\n",
    "    print(f\"'{word}' is NOT a Python keyword.\")"
   ]
  },
  {
   "cell_type": "code",
   "execution_count": 6,
   "id": "a1185ba6-9552-4390-9240-c6bdbb620cb5",
   "metadata": {},
   "outputs": [
    {
     "name": "stdout",
     "output_type": "stream",
     "text": [
      "['mango', 'pappaya', 'apple']\n"
     ]
    }
   ],
   "source": [
    "#Create  a list and tuple in Python\n",
    "# creating a list\n",
    "fruits=[\"mango\",\"pappaya\",\"apple\"]\n",
    "\n",
    "\n",
    "print(fruits)\n"
   ]
  },
  {
   "cell_type": "code",
   "execution_count": 7,
   "id": "fca13fc3-9790-4887-84ac-65e8326824b2",
   "metadata": {},
   "outputs": [
    {
     "ename": "NameError",
     "evalue": "name 'coordinate' is not defined",
     "output_type": "error",
     "traceback": [
      "\u001b[1;31m---------------------------------------------------------------------------\u001b[0m",
      "\u001b[1;31mNameError\u001b[0m                                 Traceback (most recent call last)",
      "Cell \u001b[1;32mIn[7], line 2\u001b[0m\n\u001b[0;32m      1\u001b[0m coodinate\u001b[38;5;241m=\u001b[39m(\u001b[38;5;124m'\u001b[39m\u001b[38;5;124m10,11\u001b[39m\u001b[38;5;124m'\u001b[39m)\n\u001b[1;32m----> 2\u001b[0m \u001b[38;5;28mprint\u001b[39m(coordinate)\n",
      "\u001b[1;31mNameError\u001b[0m: name 'coordinate' is not defined"
     ]
    }
   ],
   "source": [
    "coodinate=('10,11')\n",
    "print(coordinate)"
   ]
  },
  {
   "cell_type": "code",
   "execution_count": 8,
   "id": "a1bdb02b-5ded-44c0-95d5-ad0a9678bb5b",
   "metadata": {},
   "outputs": [
    {
     "name": "stdout",
     "output_type": "stream",
     "text": [
      "1\n",
      "2\n",
      "3\n",
      "4\n",
      "5\n",
      "6\n",
      "7\n",
      "8\n",
      "9\n",
      "10\n"
     ]
    }
   ],
   "source": [
    "#Write  a for loop to print from 1 to 10\n",
    "for i in range(1, 11):\n",
    "    print(i)"
   ]
  },
  {
   "cell_type": "code",
   "execution_count": 9,
   "id": "a7d99bcf-b1d6-47ba-aa4a-674a92f0481d",
   "metadata": {},
   "outputs": [
    {
     "name": "stdin",
     "output_type": "stream",
     "text": [
      " Enter your number: 20\n"
     ]
    },
    {
     "name": "stdout",
     "output_type": "stream",
     "text": [
      "positive\n"
     ]
    }
   ],
   "source": [
    "#Write a programme that checks if a number is positive, negative or zero\n",
    "num = float(input(\" Enter your number:\"))\n",
    "if num >0:\n",
    "    print(\"positive\")\n",
    "elif num <0:\n",
    "    print(\"negative\")\n",
    "else:\n",
    "    print(\"equals to zero\")\n"
   ]
  },
  {
   "cell_type": "code",
   "execution_count": 10,
   "id": "963cfa88-6e34-41c1-a6da-bf9eea58d51a",
   "metadata": {},
   "outputs": [
    {
     "name": "stdout",
     "output_type": "stream",
     "text": [
      "Sum of all even numbers from 1 to 50 is: 650\n"
     ]
    }
   ],
   "source": [
    "#write  apython programme to find sum of all even number between 1 to 50\n",
    "# Initialize variables\n",
    "num = 1\n",
    "total = 0\n",
    "\n",
    "# Loop using while\n",
    "while num <= 50:\n",
    "    if num % 2 == 0:\n",
    "        total += num\n",
    "    num += 1\n",
    "\n",
    "# Print the result\n",
    "print(\"Sum of all even numbers from 1 to 50 is:\", total)"
   ]
  },
  {
   "cell_type": "code",
   "execution_count": 11,
   "id": "665fa3f5-4989-4c7d-88cb-ddc04f72b4e5",
   "metadata": {},
   "outputs": [
    {
     "name": "stdin",
     "output_type": "stream",
     "text": [
      "Enter a string:  peskills\n"
     ]
    },
    {
     "name": "stdout",
     "output_type": "stream",
     "text": [
      "Reversed string: slliksep\n"
     ]
    }
   ],
   "source": [
    "# Write a programme to reverse a string using while loop\n",
    "# Input from the user\n",
    "text = input(\"Enter a string: \")\n",
    "\n",
    "# Initialize variables\n",
    "reversed_text = \"\"\n",
    "index = len(text) - 1\n",
    "\n",
    "# Loop to reverse the string\n",
    "while index >= 0:\n",
    "    reversed_text += text[index]\n",
    "    index -= 1\n",
    "\n",
    "# Print the reversed string\n",
    "print(\"Reversed string:\", reversed_text)\n"
   ]
  },
  {
   "cell_type": "code",
   "execution_count": 12,
   "id": "6d74d37d-b472-4a49-8825-d4acc57da0fa",
   "metadata": {},
   "outputs": [
    {
     "name": "stdin",
     "output_type": "stream",
     "text": [
      "Enter a number:  5\n"
     ]
    },
    {
     "name": "stdout",
     "output_type": "stream",
     "text": [
      "Factorial of 5 is 120\n"
     ]
    }
   ],
   "source": [
    "#write a programme to calculate the factorials by using while loop\n",
    "# Input from the user\n",
    "num = int(input(\"Enter a number: \"))\n",
    "\n",
    "# Initialize result\n",
    "factorial = 1\n",
    "i = 1\n",
    "\n",
    "# Calculate factorial using while loop\n",
    "while i <= num:\n",
    "    factorial *= i\n",
    "    i += 1\n",
    "\n",
    "# Print the result\n",
    "print(f\"Factorial of {num} is {factorial}\")"
   ]
  },
  {
   "cell_type": "code",
   "execution_count": 13,
   "id": "cbebb8b0-a80f-4c9d-83f1-4199b56d6681",
   "metadata": {},
   "outputs": [
    {
     "name": "stdout",
     "output_type": "stream",
     "text": [
      "String to Integer: [10, 20, 30, 40]\n",
      "Integer to Float: [10.0, 20.0, 30.0, 40.0]\n",
      "Float to String: ['10.0', '20.0', '30.0', '40.0']\n"
     ]
    }
   ],
   "source": [
    "#Write code to demonstarte type casting with list elements\n",
    "# Original list with string numbers\n",
    "string_list = ['10', '20', '30', '40']\n",
    "\n",
    "# Convert string to integers\n",
    "int_list = [int(x) for x in string_list]\n",
    "print(\"String to Integer:\", int_list)\n",
    "\n",
    "# Convert integers to floats\n",
    "float_list = [float(x) for x in int_list]\n",
    "print(\"Integer to Float:\", float_list)\n",
    "\n",
    "# Convert floats back to strings\n",
    "str_list = [str(x) for x in float_list]\n",
    "print(\"Float to String:\", str_list)"
   ]
  },
  {
   "cell_type": "code",
   "execution_count": 14,
   "id": "56797272-a7c9-470e-99c2-9772571cc076",
   "metadata": {},
   "outputs": [
    {
     "name": "stdout",
     "output_type": "stream",
     "text": [
      "Before function call:\n",
      "x = 5\n",
      "lst = [1, 2, 3]\n",
      "Inside function (num): 15\n",
      "Inside function (num_list): [1, 2, 3, 100]\n",
      "\n",
      "After function call:\n",
      "x = 5\n",
      "lst = [1, 2, 3, 100]\n"
     ]
    }
   ],
   "source": [
    "#Write a function to demostrate the behaviour of mutable and immutable arguments\n",
    "def modify_arguments(num, num_list):\n",
    "    # Try to modify immutable object (int)\n",
    "    num += 10\n",
    "    print(\"Inside function (num):\", num)\n",
    "\n",
    "    # Try to modify mutable object (list)\n",
    "    num_list.append(100)\n",
    "    print(\"Inside function (num_list):\", num_list)\n",
    "\n",
    "# Immutable argument (int)\n",
    "x = 5\n",
    "# Mutable argument (list)\n",
    "lst = [1, 2, 3]\n",
    "\n",
    "print(\"Before function call:\")\n",
    "print(\"x =\", x)\n",
    "print(\"lst =\", lst)\n",
    "\n",
    "modify_arguments(x, lst)\n",
    "\n",
    "print(\"\\nAfter function call:\")\n",
    "print(\"x =\", x)          # Remains unchanged\n",
    "print(\"lst =\", lst)      # Gets modified"
   ]
  },
  {
   "cell_type": "code",
   "execution_count": 15,
   "id": "05fc899f-40e2-49b9-b5de-c39a5fbebeaf",
   "metadata": {},
   "outputs": [
    {
     "name": "stdin",
     "output_type": "stream",
     "text": [
      "Enter first number:  21\n",
      "Enter second number:  34\n"
     ]
    },
    {
     "name": "stdout",
     "output_type": "stream",
     "text": [
      "\n",
      "Results:\n",
      "Addition: 55.0\n",
      "Subtraction: -13.0\n",
      "Multiplication: 714.0\n",
      "Division: 0.6176470588235294\n"
     ]
    }
   ],
   "source": [
    "#write  aprogramme that perform basic arithemetic operataion on two user input numbers\n",
    "# Get input from the user\n",
    "num1 = float(input(\"Enter first number: \"))\n",
    "num2 = float(input(\"Enter second number: \"))\n",
    "\n",
    "# Perform basic arithmetic operations\n",
    "print(\"\\nResults:\")\n",
    "print(\"Addition:\", num1 + num2)\n",
    "print(\"Subtraction:\", num1 - num2)\n",
    "print(\"Multiplication:\", num1 * num2)\n",
    "\n",
    "# Division with zero check\n",
    "if num2 != 0:\n",
    "    print(\"Division:\", num1 / num2)\n",
    "else:\n",
    "    print(\"Division: Cannot divide by zero\")"
   ]
  },
  {
   "cell_type": "code",
   "execution_count": 16,
   "id": "d2470da6-d2da-4dc5-b30a-39fe7acf9953",
   "metadata": {},
   "outputs": [
    {
     "name": "stdin",
     "output_type": "stream",
     "text": [
      "Enter your age:  20\n",
      "Do you have a ticket? (yes/no):  yes\n"
     ]
    },
    {
     "name": "stdout",
     "output_type": "stream",
     "text": [
      "You are allowed to enter the event.\n",
      "You may be allowed with conditions.\n"
     ]
    },
    {
     "name": "stdin",
     "output_type": "stream",
     "text": [
      "Are you a member? (yes/no):  no\n"
     ]
    },
    {
     "name": "stdout",
     "output_type": "stream",
     "text": [
      "You need to buy a membership.\n"
     ]
    }
   ],
   "source": [
    "#write a programme to demonstarte the use of logical opearator\n",
    "# Get input from the user\n",
    "age = int(input(\"Enter your age: \"))\n",
    "has_ticket = input(\"Do you have a ticket? (yes/no): \").lower()\n",
    "\n",
    "# Logical AND\n",
    "if age >= 18 and has_ticket == 'yes':\n",
    "    print(\"You are allowed to enter the event.\")\n",
    "else:\n",
    "    print(\"You are not allowed to enter the event.\")\n",
    "\n",
    "# Logical OR\n",
    "if age >= 18 or has_ticket == 'yes':\n",
    "    print(\"You may be allowed with conditions.\")\n",
    "\n",
    "# Logical NOT\n",
    "is_member = input(\"Are you a member? (yes/no): \").lower()\n",
    "if not is_member == 'yes':\n",
    "    print(\"You need to buy a membership.\")\n",
    "else:\n",
    "    print(\"Welcome, member!\")"
   ]
  },
  {
   "cell_type": "code",
   "execution_count": 17,
   "id": "ebc21e21-04da-44e8-bca0-1e8c7fcfe311",
   "metadata": {},
   "outputs": [
    {
     "name": "stdin",
     "output_type": "stream",
     "text": [
      "Enter a value:  22\n"
     ]
    },
    {
     "name": "stdout",
     "output_type": "stream",
     "text": [
      "Integer value: 22\n",
      "Float value: 22.0\n",
      "Boolean value: True\n"
     ]
    }
   ],
   "source": [
    "#Write a python programme to convert user input from string to integer,float and boolean types\n",
    "# Get input from the user\n",
    "user_input = input(\"Enter a value: \")\n",
    "\n",
    "# Convert to integer\n",
    "try:\n",
    "    int_value = int(user_input)\n",
    "    print(\"Integer value:\", int_value)\n",
    "except ValueError:\n",
    "    print(\"Cannot convert to integer.\")\n",
    "\n",
    "# Convert to float\n",
    "try:\n",
    "    float_value = float(user_input)\n",
    "    print(\"Float value:\", float_value)\n",
    "except ValueError:\n",
    "    print(\"Cannot convert to float.\")\n",
    "\n",
    "# Convert to boolean\n",
    "# Any non-empty string (except \"False\", \"false\", \"0\") is considered True\n",
    "bool_value = user_input.lower() not in [\"false\", \"0\", \"\", \"none\"]\n",
    "print(\"Boolean value:\", bool_value)"
   ]
  },
  {
   "cell_type": "code",
   "execution_count": null,
   "id": "70f936ad-e52e-48ab-ba57-6970a8c96e5d",
   "metadata": {},
   "outputs": [],
   "source": []
  }
 ],
 "metadata": {
  "kernelspec": {
   "display_name": "Python 3 (ipykernel)",
   "language": "python",
   "name": "python3"
  },
  "language_info": {
   "codemirror_mode": {
    "name": "ipython",
    "version": 3
   },
   "file_extension": ".py",
   "mimetype": "text/x-python",
   "name": "python",
   "nbconvert_exporter": "python",
   "pygments_lexer": "ipython3",
   "version": "3.13.5"
  }
 },
 "nbformat": 4,
 "nbformat_minor": 5
}
