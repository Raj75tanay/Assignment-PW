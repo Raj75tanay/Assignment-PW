{
 "cells": [
  {
   "cell_type": "code",
   "execution_count": 1,
   "id": "b41df8e7-d1d8-4f3a-a960-670389f15aba",
   "metadata": {},
   "outputs": [],
   "source": [
    "#Assignment 6: Files, Eception handling and memory management"
   ]
  },
  {
   "cell_type": "code",
   "execution_count": 2,
   "id": "dd38280d-c6e2-4da9-a1d9-d0ea9abcc8e0",
   "metadata": {},
   "outputs": [],
   "source": [
    "#Theoratical Part"
   ]
  },
  {
   "cell_type": "code",
   "execution_count": 3,
   "id": "e6109097-1732-4546-a852-e71128096082",
   "metadata": {},
   "outputs": [],
   "source": [
    "#1. What is the difference between interpreted and compiled language?\n",
    "# Ans-Complied language:Source code is translated into machine code (binary) by a compiler before execution\n",
    "#      while in interpreted language Source code is executed line by line by an interpreter without converting it into a separate executable beforehand."
   ]
  },
  {
   "cell_type": "code",
   "execution_count": 4,
   "id": "9d204bfa-02f1-4e22-9331-42cb61e9e837",
   "metadata": {},
   "outputs": [
    {
     "ename": "ZeroDivisionError",
     "evalue": "division by zero",
     "output_type": "error",
     "traceback": [
      "\u001b[1;31m---------------------------------------------------------------------------\u001b[0m",
      "\u001b[1;31mZeroDivisionError\u001b[0m                         Traceback (most recent call last)",
      "Cell \u001b[1;32mIn[4], line 3\u001b[0m\n\u001b[0;32m      1\u001b[0m \u001b[38;5;66;03m#2.What is exception handling in Python?\u001b[39;00m\n\u001b[0;32m      2\u001b[0m \u001b[38;5;66;03m#Ans:An exception is an event/error that disrupts the normal flow of a program\u001b[39;00m\n\u001b[1;32m----> 3\u001b[0m \u001b[38;5;28mprint\u001b[39m(\u001b[38;5;241m10\u001b[39m \u001b[38;5;241m/\u001b[39m \u001b[38;5;241m0\u001b[39m)   \u001b[38;5;66;03m# ZeroDivisionError\u001b[39;00m\n\u001b[0;32m      4\u001b[0m \u001b[38;5;28mprint\u001b[39m(x)\n",
      "\u001b[1;31mZeroDivisionError\u001b[0m: division by zero"
     ]
    }
   ],
   "source": [
    "#2.What is exception handling in Python?\n",
    "#Ans:An exception is an event/error that disrupts the normal flow of a program\n",
    "print(10 / 0)   # ZeroDivisionError\n",
    "print(x)        # NameError (if x is not defined)"
   ]
  },
  {
   "cell_type": "code",
   "execution_count": 5,
   "id": "81961561-9ee7-4f32-8a03-00c56edf8b80",
   "metadata": {},
   "outputs": [],
   "source": [
    "#3. What is the purpose of the finally block in exception handling?\n",
    "#Ans-Python provides try, except, else, and finally blocks to handle exceptions. it will be fially excuted.\n",
    "#try: Code that might cause an error is placed here.\n",
    "#except: Handles the error if it occurs.\n",
    "#else (optional): Runs if no error occurs.\n",
    "#finally (optional): Always runs, whether an error occurred or not (used for cleanup).\n",
    "\n",
    "#finally block is often used for closing files, releasing resources, or cleaning up."
   ]
  },
  {
   "cell_type": "code",
   "execution_count": 6,
   "id": "e358f11f-f1e9-4f48-9d35-7408381a5c5e",
   "metadata": {},
   "outputs": [],
   "source": [
    "#4. What is logging in python?\n",
    "#Ans-Logging in Python is a way to record messages about events that happen while your program is running.\n",
    "#It helps developers track what the program is doing, debug issues, and keep a record of errors or important information."
   ]
  },
  {
   "cell_type": "code",
   "execution_count": 7,
   "id": "fc5b913e-781b-4631-b697-2e48d4e59741",
   "metadata": {},
   "outputs": [
    {
     "name": "stdin",
     "output_type": "stream",
     "text": [
      "Enter a number:  20\n"
     ]
    }
   ],
   "source": [
    "#7. How can you handle multiple exception in Python?\n",
    "# Ans-we can handle multiple exceptions by:\n",
    "#Using multiple except blocks (specific handling).\n",
    "#Using a tuple of exceptions (same handling).\n",
    "#Using generic Exception (catch-all).\n",
    "#Combining with else/finally for full control.\n",
    "#Example:Multiple except Blocks\n",
    "try:\n",
    "    x = int(input(\"Enter a number: \"))\n",
    "    result = 10 / x\n",
    "except ValueError:\n",
    "    print(\"Invalid input! Please enter a number.\")\n",
    "except ZeroDivisionError:\n",
    "    print(\"Division by zero is not allowed.\")"
   ]
  },
  {
   "cell_type": "code",
   "execution_count": 8,
   "id": "6b850bc6-e868-4810-bb97-a7173264da9c",
   "metadata": {},
   "outputs": [
    {
     "name": "stdin",
     "output_type": "stream",
     "text": [
      "Enter a number:  20\n"
     ]
    }
   ],
   "source": [
    "#Handling Multiple Exceptions in One Block\n",
    "try:\n",
    "    x = int(input(\"Enter a number: \"))\n",
    "    result = 10 / x\n",
    "except (ValueError, ZeroDivisionError) as e:\n",
    "    print(\"Error occurred:\", e)"
   ]
  },
  {
   "cell_type": "code",
   "execution_count": 9,
   "id": "44b82769-1cba-4585-939a-5fb4908548f0",
   "metadata": {},
   "outputs": [
    {
     "name": "stdin",
     "output_type": "stream",
     "text": [
      "Enter a number:  20\n"
     ]
    }
   ],
   "source": [
    "#Using a Generic Exception\n",
    "try:\n",
    "    x = int(input(\"Enter a number: \"))\n",
    "    result = 10 / x\n",
    "except Exception as e:\n",
    "    print(\"An error occurred:\", e)"
   ]
  },
  {
   "cell_type": "code",
   "execution_count": 10,
   "id": "f90f111e-36c7-41e1-8570-745aee8464f3",
   "metadata": {},
   "outputs": [
    {
     "name": "stdin",
     "output_type": "stream",
     "text": [
      "Enter a number:  20\n"
     ]
    },
    {
     "name": "stdout",
     "output_type": "stream",
     "text": [
      "Result is: 0.5\n"
     ]
    }
   ],
   "source": [
    "#Using else with Multiple Exceptions\n",
    "try:\n",
    "    x = int(input(\"Enter a number: \"))\n",
    "    result = 10 / x\n",
    "except ValueError:\n",
    "    print(\"Invalid number entered.\")\n",
    "except ZeroDivisionError:\n",
    "    print(\"Cannot divide by zero.\")\n",
    "else:\n",
    "    print(\"Result is:\", result)"
   ]
  },
  {
   "cell_type": "code",
   "execution_count": 11,
   "id": "9de573af-2f35-4438-a2e4-34f1fb687da4",
   "metadata": {},
   "outputs": [
    {
     "name": "stdout",
     "output_type": "stream",
     "text": [
      "File not found.\n",
      "Execution completed.\n"
     ]
    }
   ],
   "source": [
    "#Using finally for Cleanup\n",
    "try:\n",
    "    f = open(\"data.txt\", \"r\")\n",
    "    content = f.read()\n",
    "except FileNotFoundError:\n",
    "    print(\"File not found.\")\n",
    "except PermissionError:\n",
    "    print(\"No permission to read the file.\")\n",
    "finally:\n",
    "    print(\"Execution completed.\")"
   ]
  },
  {
   "cell_type": "code",
   "execution_count": 13,
   "id": "61af2b25-6cf2-499c-9380-bcbc5d1df62a",
   "metadata": {},
   "outputs": [
    {
     "name": "stdin",
     "output_type": "stream",
     "text": [
      "Enter a number:  20\n"
     ]
    },
    {
     "name": "stdout",
     "output_type": "stream",
     "text": [
      "Result is: 0.5\n",
      "Program ended.\n"
     ]
    }
   ],
   "source": [
    "#12. What are the basic steps involved in exceptionhandling in python?\n",
    "# Steps are as below\n",
    "# 1.Identify risk code\n",
    "# 2.Wrap it in a try block\n",
    "#3.Handle errors with except block(s)\n",
    "# 4.Use else (optional)\n",
    "# 5.Use finally (optional)\n",
    "\n",
    "# Example\n",
    "try:\n",
    "    num = int(input(\"Enter a number: \"))\n",
    "    result = 10 / num\n",
    "except ValueError:\n",
    "    print(\"Invalid input! Please enter a number.\")\n",
    "except ZeroDivisionError:\n",
    "    print(\"Division by zero is not allowed.\")\n",
    "else:\n",
    "    print(\"Result is:\", result)\n",
    "finally:\n",
    "    print(\"Program ended.\")"
   ]
  },
  {
   "cell_type": "code",
   "execution_count": 14,
   "id": "5f2323c1-79a4-4152-971a-553c39c5632b",
   "metadata": {},
   "outputs": [
    {
     "name": "stdin",
     "output_type": "stream",
     "text": [
      "Enter a number:  0\n"
     ]
    },
    {
     "name": "stdout",
     "output_type": "stream",
     "text": [
      "Division by zero is not allowed.\n",
      "Program ended.\n"
     ]
    }
   ],
   "source": [
    "try:\n",
    "    num = int(input(\"Enter a number: \"))\n",
    "    result = 10 / num\n",
    "except ValueError:\n",
    "    print(\"Invalid input! Please enter a number.\")\n",
    "except ZeroDivisionError:\n",
    "    print(\"Division by zero is not allowed.\")\n",
    "else:\n",
    "    print(\"Result is:\", result)\n",
    "finally:\n",
    "    print(\"Program ended.\")"
   ]
  },
  {
   "cell_type": "code",
   "execution_count": 15,
   "id": "38f7b009-83ba-4cf9-913f-b18f78425680",
   "metadata": {},
   "outputs": [],
   "source": [
    "# 14. what is the role of try and except in exception handling?\n",
    "#Ans:The try block contains the risky code that might cause an exception (error).\n",
    "# while The except block contains the code to handle the error.\n"
   ]
  },
  {
   "cell_type": "code",
   "execution_count": 16,
   "id": "31fbf46d-6445-43c5-b741-44e3e5fb7da7",
   "metadata": {},
   "outputs": [],
   "source": [
    "# 16. what is the purpose of the else block in the eceptional handling?\n",
    "#Ans: The else block runs only if no exception occurs in the try block.\n",
    "#It is used for code that should only execute when the try is successful.\n",
    "#Keeps code cleaner by separating error-handling (except) from normal execution (else).\n",
    "# Syntex\n",
    "#try:\n",
    "    # Code that might cause an exception\n",
    "#except SomeError:\n",
    "    # Runs if that error happens\n",
    "#else:\n",
    "    # Runs only if NO exception occurs"
   ]
  },
  {
   "cell_type": "code",
   "execution_count": 17,
   "id": "b3331b4f-5f77-4d29-b5ed-1f930ffdb515",
   "metadata": {},
   "outputs": [
    {
     "name": "stdout",
     "output_type": "stream",
     "text": [
      "Caught an exception: Negative value not allowed\n"
     ]
    }
   ],
   "source": [
    "# 24. How do you raise an exception manually in python?\n",
    "#Ans: we can raise an exception manually using the raise keyword.\n",
    "# Syntex: raise ExceptionType(\"Custom error message\")\n",
    "# Example:\n",
    "try:\n",
    "    x = -1\n",
    "    if x < 0:\n",
    "        raise Exception(\"Negative value not allowed\")\n",
    "except Exception as e:\n",
    "    print(\"Caught an exception:\", e)"
   ]
  },
  {
   "cell_type": "code",
   "execution_count": 18,
   "id": "639367cd-0f10-4286-83e3-5411bfeace0a",
   "metadata": {},
   "outputs": [],
   "source": [
    "#19. What is the importance of closing  a file in python?\n",
    "# Ans: following are the importance\n",
    "# 1.Frees System Resources\n",
    "# 2.Ensures Data is Written (Flushing Buffers)\n",
    "# 3.prevents File Corruption\n",
    "# 4.Allows Other Programs to Access the File"
   ]
  },
  {
   "cell_type": "code",
   "execution_count": 20,
   "id": "ee22f8db-4441-4b6e-a7d6-88da93b3967c",
   "metadata": {},
   "outputs": [],
   "source": [
    "# 20. what is the difference between file.read() and file.readline() in python?\n",
    "# Ans: File.read()\n",
    "#Reads the entire file (or a specified number of characters/bytes).\n",
    "#Returns the content as a single string.\n",
    "\n",
    "#file.readline()\n",
    "#Reads just one line at a time from the file.\n",
    "#Each call moves the file pointer to the next line.\n",
    "\n"
   ]
  },
  {
   "cell_type": "code",
   "execution_count": 21,
   "id": "beee30f2-f61c-4251-a423-a86a54b80db0",
   "metadata": {},
   "outputs": [],
   "source": [
    "#4. What is logging in Pyhton?\n",
    "#Ans: Logging in Python is a built-in way to track events, errors, and important information that happen when your program runs.\n",
    "#It’s like keeping a diary (log file) of what your program is doing — useful for debugging, monitoring, and maintaining applications."
   ]
  },
  {
   "cell_type": "code",
   "execution_count": 22,
   "id": "3309c3fe-ec6b-4811-96da-96830f2a4742",
   "metadata": {},
   "outputs": [],
   "source": [
    "# 5. what is the siginificanvce of the __del__method in python?\n",
    "#Ans:__del__ is a special method in Python, also called a destructor.\n",
    "#__del__ is used to clean up resources (like closing files, releasing memory, disconnecting from databases) before an object is deleted.\n",
    "# Syntex:class MyClass:\n",
    "#    def __del__(self):\n",
    " #       print(\"Destructor called, object deleted\")\n"
   ]
  },
  {
   "cell_type": "code",
   "execution_count": 1,
   "id": "39eec512-ad5e-489c-b6a0-01c677a5ea83",
   "metadata": {},
   "outputs": [],
   "source": [
    "#6. What is the difference between import and from __import in python?\n",
    "#Ans: import: The normal way to include modules in Python.\n",
    "#High-level, simple, and the one you almost always use.\n",
    "#__import\n",
    "#A built-in function in Python.\n",
    "#This is a low-level function that actually gets called internally when you use import.\n",
    "\n"
   ]
  },
  {
   "cell_type": "code",
   "execution_count": 2,
   "id": "00868dee-05c6-458f-bb30-59664e2cb377",
   "metadata": {},
   "outputs": [],
   "source": [
    "#8. What is the purpose of the with statement when handling files in python?\n",
    "#Ans:In Python, the with statement is used to open a file, work with it, and automatically close \n",
    "#it once you’re done — even if an error occurs.\n",
    "# without with\n",
    "#f = open(\"example.txt\", \"w\")\n",
    "#f.write(\"Hello, World!\")\n",
    "#f.close()   # Must remember to close\n",
    "# with with\n",
    "#with open(\"example.txt\", \"w\") as f:\n",
    " #   f.write(\"Hello, World!\")\n",
    "# File is automatically closed here"
   ]
  },
  {
   "cell_type": "code",
   "execution_count": 3,
   "id": "be2707f6-1c4f-4b7b-8ca0-68b658307a18",
   "metadata": {},
   "outputs": [],
   "source": [
    "# 9. What is the difference between muilithreading and multiprocessing?\n",
    "# multithreading:\n",
    "#1.Runs multiple threads (lightweight processes) within the same process.\n",
    "#2.Threads share the same memory space.\n",
    "#3.Easier (shared memory, variables).\n",
    "# multiprocessing\n",
    "#1.Runs multiple separate processes, each with its own Python interpreter and memory space.\n",
    "#2.Each process has its own memory (independent).\n",
    "#3.Harder (need IPC – Inter-Process Communication)."
   ]
  },
  {
   "cell_type": "code",
   "execution_count": 1,
   "id": "78e4d805-55c9-47ba-970b-974d1d96f963",
   "metadata": {},
   "outputs": [],
   "source": [
    "#10. what are the advantages of using logging in a programme?\n",
    "#Ans-Advantages of Using Logging\n",
    "#a)Different Levels of Importance\n",
    "#Logging supports multiple severity levels (DEBUG, INFO, WARNING, ERROR, CRITICAL).\n",
    "#b)Persistent Records\n",
    "#Unlike print(), logs can be written to files, databases, or remote servers.\n",
    "#This makes it easier to investigate bugs or failures after the program has run.\n",
    "# c)Easier Debugging & Troubleshooting\n",
    "#Logs provide a timeline of events, helping developers trace the root cause of issues.\n",
    "#d)Configurability\n",
    "#The logging module lets you change where logs go (console, file, syslog, etc.) without changing your code.\n",
    "#Better for Large Applications\n",
    "#In big projects, print() statements become messy and hard to manage.\n",
    "#Logging allows modular control—each module or class can have its own logger.\n",
    "# e)Performance-Friendly\n",
    "#Logging can be disabled or filtered at runtime (e.g., turn off debug logs in production).\n",
    "#This avoids clutter and unnecessary performance overhead.\n",
    "# f)Professional Standards\n",
    "#Almost all production-ready applications use logging instead of print().\n",
    "#It improves maintainability and helps when multiple developers are working on the same code."
   ]
  },
  {
   "cell_type": "code",
   "execution_count": 2,
   "id": "7644ddb3-7c6b-402c-8047-da2ca083d7c8",
   "metadata": {},
   "outputs": [],
   "source": [
    "# 11.What is memory management in python?\n",
    "#Ans-Memory management in Python refers to how Python handles the allocation and deallocation of memory (RAM) for variables,\n",
    "#objects, and data structures during program execution.\n",
    "#key point:Automatic Memory Management,Private Heap Space,Reference Counting,Garbage Collection (GC),Dynamic Typing,Memory Pools (Pymalloc)"
   ]
  },
  {
   "cell_type": "code",
   "execution_count": 3,
   "id": "340970e1-0634-4643-b7d6-dde5166af258",
   "metadata": {},
   "outputs": [],
   "source": [
    "#13. Why memory management is important in Python?\n",
    "#Ans:Memory management is important in Python because Python is widely used for data-heavy and long-running applications \n",
    "#(like web servers, data science, and machine learning). If memory isn’t managed properly, \n",
    "#it can lead to wasted resources, crashes, or very slow programs."
   ]
  },
  {
   "cell_type": "code",
   "execution_count": 4,
   "id": "81166af6-2d29-480a-8279-5fef3a446a67",
   "metadata": {},
   "outputs": [],
   "source": [
    "#15. how does the python garbage collection system work?\n",
    "#Ans:ython uses a combination of techniques for garbage collection:\n",
    "\n",
    "#1. Reference Counting (Primary Mechanism)\n",
    "#Every Python object has a reference count (how many variables or containers point to it).\n",
    "#When a new reference is made, the count increases. When a reference is deleted, the count decreases.\n",
    "#If the count becomes zero, Python immediately frees that object’s memory.\n",
    "\n",
    "#2. Problem: Circular References\n",
    "#Reference counting alone cannot handle circular references (when objects refer to each other but are otherwise unused).\n",
    "\n",
    "#3. Cyclic Garbage Collector\n",
    "#To fix the above issue, Python has a cyclic garbage collector (part of the gc module).\n",
    "#It tracks containers (like lists, dicts, custom objects) that can hold references to other objects.\n",
    "#It periodically checks for groups of objects that reference each other but are no longer reachable from the main program.\n",
    "#Such cycles are then collected and freed.\n",
    "\n",
    "#4. Generational Garbage Collection\n",
    "#Python optimizes GC with a generational approach (because most objects die young):\n",
    "#Objects are divided into three generations:\n",
    "#Gen 0 → Newly created objects\n",
    "#Gen 1 → Surviving objects from Gen 0\n",
    "#Gen 2 → Long-living objects\n",
    "#The GC:\n",
    "#Runs frequently on Gen 0 (cheap, fast cleanup).\n",
    "#Less frequently on Gen 1 and Gen 2.\n",
    "#Promotes objects that survive collections into older generations.\n",
    "#This way, Python avoids scanning long-living objects too often, improving performance.\n",
    "\n",
    "#5.. Manual Control\n",
    "#we can tune or disable GC manually"
   ]
  },
  {
   "cell_type": "code",
   "execution_count": 5,
   "id": "18dd712e-8b16-4003-be35-3f4a9e529f89",
   "metadata": {},
   "outputs": [],
   "source": [
    "#17. what are the common logging levels in python?\n",
    "#Ans:1.DEBUG-Detailed information, useful for diagnosing problems. Mostly used during development.\n",
    "#2.INFO-Confirmation that things are working as expected (general status updates).\n",
    "#3.WARNING-Something unexpected happened, or a potential problem is detected, but the program can still run.\n",
    "#4.ERROR-A more serious issue – the program failed to do something (e.g., file not found).\n",
    "#5.CRITICAL-A very serious error – the program itself may be unable to continue running.\n",
    "\n"
   ]
  },
  {
   "cell_type": "code",
   "execution_count": 6,
   "id": "9448680e-230c-4d72-9b0a-04619a87c151",
   "metadata": {},
   "outputs": [],
   "source": [
    "# 18.What are the difference between os.fork() and file.readline() in python?\n",
    "#Ans : os.fork():urpose: Used to create a new child process (only available on Unix/Linux, not Windows).\n",
    "#The current process is duplicated into two processes:\n",
    "#Parent process → gets the child’s process ID (PID).\n",
    "#Child process → gets a return value of 0.\n",
    "#Commonly used in parallel execution, multiprocessing, or servers.\n",
    "\n",
    "#filr.readline():urpose: Reads one line at a time from an opened file object.\n",
    "#Returns: A string containing the next line (including the newline character \\n), or an empty string \"\" if the end of the file is reached.\n",
    "#Commonly used in file handling, reading logs, or processing data line by line.\n"
   ]
  },
  {
   "cell_type": "code",
   "execution_count": 7,
   "id": "d3eeadca-a430-4cc9-b5b6-b758717bcc63",
   "metadata": {},
   "outputs": [],
   "source": [
    "#21. what is thw logging module in Python used for?\n",
    "#Ans:To record events, errors, warnings, and debug information.\n",
    "#To help developers understand program flow and diagnose problems.\n",
    "#To allow logs to be saved in different places (console, files, syslog, etc.) with different formats and severity levels.\n",
    "#To provide control over what level of detail is shown (e.g., only errors in production, full debug logs in development)."
   ]
  },
  {
   "cell_type": "code",
   "execution_count": 8,
   "id": "27f5a133-5eb0-4a1b-be5b-2db062cdb161",
   "metadata": {},
   "outputs": [],
   "source": [
    "#22.what is the os module in python used for in file handling?\n",
    "#Ans:The os module in Python is part of the standard library and provides a way to interact with the operating system. \n",
    "#In file handling, it is especially useful because it lets to perform operations on files and directories\n",
    "#that go beyond just opening/reading/writing them with open()."
   ]
  },
  {
   "cell_type": "code",
   "execution_count": 9,
   "id": "f716a597-479a-47de-b900-adcf11501be2",
   "metadata": {},
   "outputs": [],
   "source": [
    "#23.What are the challnges associated with memory mangement in python?\n",
    "#Ans:Challenges Associated with Memory Management in Python\n",
    "#1. Memory Leaks\n",
    "#Python can still suffer from memory leaks when objects are unintentionally kept alive.\n",
    "#Common causes:\n",
    "#Circular references (objects referencing each other, especially with custom __del__ methods).\n",
    "#Global variables holding large objects longer than needed.\n",
    "#Caching / LRU caches that grow too big.\n",
    "\n",
    "#2. Circular References\n",
    "#Reference counting cannot free objects involved in cycles.\n",
    "#Python’s garbage collector handles them, but it may not always work efficiently, especially with complex objects.\n",
    "\n",
    "\n",
    "#3. High Memory Consumption\n",
    "#Python objects have overhead (type info, reference count, etc.).\n",
    "#Storing large amounts of data in Python objects (like lists, dicts) uses more memory than low-level languages (C, C++).\n",
    "#Example: A Python integer takes 28 bytes, whereas a C integer might only take 4 bytes.\n",
    "\n",
    "#4. Fragmentation\n",
    "#Python uses pymalloc (memory allocator) for small objects.\n",
    "#Over time, frequent allocations and deallocations can cause memory fragmentation, where memory is available but in small unusable chunks.\n",
    "#This can increase the program’s memory footprint.\n",
    "\n",
    "#5. Garbage Collector Overhead\n",
    "#The garbage collector runs periodically to free cycles.\n",
    "#In large applications, frequent GC runs can slow down performance.\n",
    "#Sometimes developers disable automatic GC in performance-critical code and run it manually.\n",
    "\n",
    "#6. Not Always Immediate Deallocation\n",
    "#Just because you use del obj doesn’t mean memory is instantly released.\n",
    "#If other references exist (including hidden references from modules, closures, or stack frames), memory is kept until they are gone.\n",
    "#Also, Python may hold freed memory for reuse instead of returning it to the OS.\n",
    "\n",
    "#7. Difficulty in Debugging Memory Issues\n",
    "#Memory leaks or excessive consumption in Python can be tricky to track down.\n",
    "#Developers often need special tools (gc module, tracemalloc, objgraph, memory_profiler) to analyze memory usage."
   ]
  },
  {
   "cell_type": "code",
   "execution_count": 10,
   "id": "cccdb19a-2fc4-4834-a6f7-b96836ab7fbf",
   "metadata": {},
   "outputs": [],
   "source": [
    "#25. why is it important to use multithreading in certain application?\n",
    "#Ans:Multithreading is important in certain applications because it allows a program to perform multiple tasks at \n",
    "#the same time within a single process. Instead of running tasks sequentially, threads let the CPU switch between tasks, \n",
    "#improving responsiveness and performance in specific scenarios."
   ]
  },
  {
   "cell_type": "code",
   "execution_count": 11,
   "id": "d2a8ebc9-c254-4b55-91cd-7ba69647cbfe",
   "metadata": {},
   "outputs": [],
   "source": [
    "# Practical Question"
   ]
  },
  {
   "cell_type": "code",
   "execution_count": 12,
   "id": "bef2d7f0-0a10-40eb-90be-6bf87e7b8358",
   "metadata": {},
   "outputs": [],
   "source": [
    "#1.How can you open a file for writing in python and write  astring to it?\n",
    "#Ans:Use open(\"filename\", \"w\")\n",
    "\n",
    "#\"w\" means write mode → creates a new file or overwrites an existing file.\n",
    "\n",
    "#\"a\" means append mode → adds to the file without overwriting.\n",
    "\n",
    "#Use .write(\"string\") to write text into the file.\n",
    "\n",
    "#Close the file with .close() (or better: use a with block so Python closes it automatically).\n",
    "# Open file in write mode\n",
    "with open(\"example.txt\", \"w\") as f:\n",
    "    f.write(\"Hello, this is my first file write in Python!\")"
   ]
  },
  {
   "cell_type": "code",
   "execution_count": 13,
   "id": "77043d7d-f305-4a15-8836-f469c362a8b2",
   "metadata": {},
   "outputs": [
    {
     "name": "stdout",
     "output_type": "stream",
     "text": [
      "Hello, this is my first file write in Python!"
     ]
    }
   ],
   "source": [
    "#2. Write a python programme to read the contents of a file and print a each line?\n",
    "#Ans:# Open file in read mode\n",
    "with open(\"example.txt\", \"r\") as f:\n",
    "    # Loop through each line in the file\n",
    "    for line in f:\n",
    "        print(line, end=\"\")   # end=\"\" prevents double newlines"
   ]
  },
  {
   "cell_type": "code",
   "execution_count": 14,
   "id": "bb343f8b-6069-4ca2-9922-330f131b405d",
   "metadata": {},
   "outputs": [
    {
     "name": "stdout",
     "output_type": "stream",
     "text": [
      "Error: The file does not exist!\n"
     ]
    }
   ],
   "source": [
    "#3.How would you handle a case where the file doesn't exixt while trying to open it for reading?\n",
    "#Ans: To handle this , we may use exception handling (try-except).\n",
    "try:\n",
    "    with open(\"data.txt\", \"r\") as f:\n",
    "        for line in f:\n",
    "            print(line, end=\"\")\n",
    "except FileNotFoundError:\n",
    "    print(\"Error: The file does not exist!\")"
   ]
  },
  {
   "cell_type": "code",
   "execution_count": 16,
   "id": "6eb2664f-9ddd-40d9-9e0b-54bae61a2bfd",
   "metadata": {},
   "outputs": [],
   "source": [
    "# 4.write a python script that read from one file and write the content to another file?\n",
    "#Ans:\n",
    "# Read from source file and write to destination file\n",
    "\n",
    "# Open source file in read mode\n",
    "#with open(\"source.txt\", \"r\") as src:\n",
    "    # Open destination file in write mode\n",
    "#    with open(\"destination.txt\", \"w\") as dest:\n",
    "        # Read all contents from source\n",
    "#       content = src.read()\n",
    "        # Write the content to destination\n",
    "#        dest.write(content)\n",
    "\n",
    "#print(\"File copied successfully!\")# Read from source file and write to destination file\n",
    "\n",
    "#open(\"source.txt\", \"r\") → Opens the file to read.\n",
    "#open(\"destination.txt\", \"w\") → Opens (or creates) a file to write.\n",
    "#src.read() → Reads all text from the source file.\n",
    "#dest.write(content) → Writes that text into the destination file.\n",
    "\n"
   ]
  },
  {
   "cell_type": "code",
   "execution_count": 17,
   "id": "6f0fe7bc-ba0d-404a-ab73-b25c2670a68e",
   "metadata": {},
   "outputs": [
    {
     "name": "stdout",
     "output_type": "stream",
     "text": [
      "Error: Cannot divide by zero!\n"
     ]
    }
   ],
   "source": [
    "#5. How would you catch and handle division by zero error in python?\n",
    "#Ans-to catch and handle this error we may use a try-except block.\n",
    "try:\n",
    "    num = 10\n",
    "    den = 0\n",
    "    result = num / den\n",
    "    print(\"Result:\", result)\n",
    "except ZeroDivisionError:\n",
    "    print(\"Error: Cannot divide by zero!\")"
   ]
  },
  {
   "cell_type": "code",
   "execution_count": 19,
   "id": "8ff27c23-6bdf-4603-a603-46ee29a12907",
   "metadata": {},
   "outputs": [
    {
     "name": "stdout",
     "output_type": "stream",
     "text": [
      "Error: Cannot divide by zero! (Check error.log for details)\n"
     ]
    }
   ],
   "source": [
    "# 6.Write  a python programme that logs an error message to a loffile when a divison by zero exception occurs?\n",
    "#Ans:\n",
    "import logging\n",
    "\n",
    "# Configure logging to write errors to a file\n",
    "logging.basicConfig(\n",
    "    filename=\"error.log\", \n",
    "    level=logging.ERROR, \n",
    "    format=\"%(asctime)s - %(levelname)s - %(message)s\")\n",
    "def safe_divide(a, b):\n",
    "    try:\n",
    "        return a / b\n",
    "    except ZeroDivisionError as e:\n",
    "        logging.error(\"Division by zero error: %s\", e)\n",
    "        print(\"Error: Cannot divide by zero! (Check error.log for details)\")\n",
    "\n",
    "# Example usage\n",
    "result = safe_divide(10, 0)"
   ]
  },
  {
   "cell_type": "code",
   "execution_count": 21,
   "id": "ff332314-8057-418c-9c0b-c8e96c71a8a3",
   "metadata": {},
   "outputs": [],
   "source": [
    "#7.how do you log information at different level(INFO,ERROR,WARNING) in Python using the logging module?\n",
    "#Ans:\n",
    "import logging\n",
    "\n",
    "# Configure logging\n",
    "logging.basicConfig(\n",
    "    filename=\"app.log\",         # log file\n",
    "    level=logging.DEBUG,        # minimum level to capture\n",
    "    format=\"%(asctime)s - %(levelname)s - %(message)s\"\n",
    ")\n",
    "\n",
    "# Log messages at different levels\n",
    "logging.debug(\"This is a debug message (useful for developers).\")\n",
    "logging.info(\"This is an info message (general program info).\")\n",
    "logging.warning(\"This is a warning (something unexpected).\")\n",
    "logging.error(\"This is an error (operation failed).\")\n",
    "logging.critical(\"This is critical (serious problem).\")"
   ]
  },
  {
   "cell_type": "code",
   "execution_count": 22,
   "id": "09365bd2-fa75-4dd9-ba13-bea3d7b69be5",
   "metadata": {},
   "outputs": [
    {
     "name": "stdout",
     "output_type": "stream",
     "text": [
      "Error: The file was not found!\n"
     ]
    }
   ],
   "source": [
    "#8.Write a programme to handle a file opening error using exception handling?\n",
    "#Ans\n",
    "try:\n",
    "    # Attempt to open a file\n",
    "    with open(\"sample.txt\", \"r\") as f:\n",
    "        content = f.read()\n",
    "        print(content)\n",
    "\n",
    "except FileNotFoundError:\n",
    "    print(\"Error: The file was not found!\")\n",
    "\n",
    "except PermissionError:\n",
    "    print(\"Error: You don’t have permission to open this file!\")\n",
    "\n",
    "except Exception as e:\n",
    "    print(\"An unexpected error occurred:\", e)"
   ]
  },
  {
   "cell_type": "code",
   "execution_count": 23,
   "id": "03433e86-346c-4d75-8c69-16cdf46d6c54",
   "metadata": {},
   "outputs": [
    {
     "name": "stdout",
     "output_type": "stream",
     "text": [
      "['Hello, this is my first file write in Python!']\n"
     ]
    }
   ],
   "source": [
    "#9. How can you read  afile line by line and store its content in a list in python?\n",
    "#Ans 1.Using .readlines()\n",
    "with open(\"example.txt\", \"r\") as f:\n",
    "    lines = f.readlines()\n",
    "\n",
    "print(lines)"
   ]
  },
  {
   "cell_type": "code",
   "execution_count": 24,
   "id": "55e6ee08-be67-44df-87b9-87e144ba9479",
   "metadata": {},
   "outputs": [
    {
     "name": "stdout",
     "output_type": "stream",
     "text": [
      "['Hello, this is my first file write in Python!']\n"
     ]
    }
   ],
   "source": [
    "#b)Using a Loop + strip() (to remove \\n)\n",
    "lines = []\n",
    "with open(\"example.txt\", \"r\") as f:\n",
    "    for line in f:\n",
    "        lines.append(line.strip())   # remove newline\n",
    "\n",
    "print(lines)\n"
   ]
  },
  {
   "cell_type": "code",
   "execution_count": 25,
   "id": "3c302396-742b-4e97-b0ea-0c7bcbfb7529",
   "metadata": {},
   "outputs": [
    {
     "name": "stdout",
     "output_type": "stream",
     "text": [
      "['Hello, this is my first file write in Python!']\n"
     ]
    }
   ],
   "source": [
    "#c)Using List Comprehension\n",
    "with open(\"example.txt\", \"r\") as f:\n",
    "    lines = [line.strip() for line in f]\n",
    "\n",
    "print(lines)"
   ]
  },
  {
   "cell_type": "code",
   "execution_count": 26,
   "id": "bb152f78-6ca3-4df9-bac9-9533f0f4c4ea",
   "metadata": {},
   "outputs": [
    {
     "name": "stdout",
     "output_type": "stream",
     "text": [
      "['Hello, this is my first file write in Python!']\n"
     ]
    }
   ],
   "source": [
    "# d)Using splitlines()\n",
    "with open(\"example.txt\", \"r\") as f:\n",
    "    content = f.read().splitlines()\n",
    "\n",
    "print(content)"
   ]
  },
  {
   "cell_type": "code",
   "execution_count": 27,
   "id": "4d0dd25d-bf81-4c31-8f9a-56afe6b20ac2",
   "metadata": {},
   "outputs": [],
   "source": [
    "#10. How can you append data to an existing file in Python?\n",
    "#Ans-# Open file in append mode\n",
    "with open(\"example.txt\", \"a\") as f:\n",
    "    f.write(\"\\nThis is a new line added at the end.\")"
   ]
  },
  {
   "cell_type": "code",
   "execution_count": 28,
   "id": "f395d602-5720-44cc-98f1-ba35b3430e41",
   "metadata": {},
   "outputs": [
    {
     "name": "stdout",
     "output_type": "stream",
     "text": [
      "Error: The key does not exist in the dictionary.\n"
     ]
    }
   ],
   "source": [
    "#11.Write a python programme that uses a try -except block to handle an error when attempting to acess a dicitonary key that doesn't exist?\n",
    "# Sample dictionary\n",
    "my_dict = {\"name\": \"Alice\", \"age\": 25}\n",
    "\n",
    "try:\n",
    "    # Attempt to access a key that may not exist\n",
    "    value = my_dict[\"address\"]\n",
    "    print(\"Address:\", value)\n",
    "\n",
    "except KeyError:\n",
    "    print(\"Error: The key does not exist in the dictionary.\")"
   ]
  },
  {
   "cell_type": "code",
   "execution_count": 29,
   "id": "3ba68a82-0a50-4baa-83c9-e3a3ad6b3d3d",
   "metadata": {},
   "outputs": [
    {
     "name": "stdin",
     "output_type": "stream",
     "text": [
      "Enter a numerator:  20\n",
      "Enter a denominator:  0\n"
     ]
    },
    {
     "name": "stdout",
     "output_type": "stream",
     "text": [
      "Error: Division by zero is not allowed!\n",
      "Execution complete.\n"
     ]
    }
   ],
   "source": [
    "#12.Write a program that demonstrates using multiple except blocks to handle different types of ecxpectation?\n",
    "#try:\n",
    "   try:\n",
    "    # User input\n",
    "    a = int(input(\"Enter a numerator: \"))\n",
    "    b = int(input(\"Enter a denominator: \"))\n",
    "\n",
    "    # Division operation\n",
    "    result = a / b\n",
    "    print(\"Result:\", result)\n",
    "\n",
    "    # Access a dictionary key\n",
    "    my_dict = {\"name\": \"Alice\"}\n",
    "    print(\"Age:\", my_dict[\"age\"])  # Key might not exist\n",
    "\n",
    "except ZeroDivisionError:\n",
    "    print(\"Error: Division by zero is not allowed!\")\n",
    "\n",
    "except ValueError:\n",
    "    print(\"Error: Please enter a valid integer!\")\n",
    "\n",
    "except KeyError as e:\n",
    "    print(f\"Error: Missing dictionary key - {e}\")\n",
    "\n",
    "except Exception as e:\n",
    "    print(f\"An unexpected error occurred: {e}\")\n",
    "\n",
    "finally:\n",
    "    print(\"Execution complete.\")"
   ]
  },
  {
   "cell_type": "code",
   "execution_count": 30,
   "id": "dc85ce93-7dae-4eec-94e9-bceb3bd73e8d",
   "metadata": {},
   "outputs": [
    {
     "name": "stdout",
     "output_type": "stream",
     "text": [
      "Hello, this is my first file write in Python!\n",
      "This is a new line added at the end.\n"
     ]
    }
   ],
   "source": [
    "#13. How do you check if a file exists before attempting to read it in Python?\n",
    "#Ans:Using os.path.exists()\n",
    "import os\n",
    "\n",
    "filename = \"example.txt\"\n",
    "\n",
    "if os.path.exists(filename):\n",
    "    with open(filename, \"r\") as f:\n",
    "        content = f.read()\n",
    "        print(content)\n",
    "else:\n",
    "    print(f\"File '{filename}' does not exist.\")"
   ]
  },
  {
   "cell_type": "code",
   "execution_count": 31,
   "id": "592fae6b-0408-4ab3-ac0c-734531f320be",
   "metadata": {},
   "outputs": [],
   "source": [
    "#14. write a programme that uses the logging module to log both informational and error message?\n",
    "import logging\n",
    "\n",
    "# Configure logging\n",
    "logging.basicConfig(\n",
    "    filename=\"app.log\",          # Log file\n",
    "    level=logging.DEBUG,         # Capture all levels DEBUG and above\n",
    "    format=\"%(asctime)s - %(levelname)s - %(message)s\"\n",
    ")\n",
    "\n",
    "# Log an informational message\n",
    "logging.info(\"The program has started successfully.\")\n",
    "\n",
    "try:\n",
    "    # Simulate a division operation\n",
    "    a = 10\n",
    "    b = 0\n",
    "    result = a / b\n",
    "except ZeroDivisionError as e:\n",
    "    # Log the error\n",
    "    logging.error(\"Division by zero error occurred: %s\", e)\n",
    "\n",
    "# Another informational message\n",
    "logging.info(\"The program has finished execution.\")\n"
   ]
  },
  {
   "cell_type": "code",
   "execution_count": 32,
   "id": "a58cb5b8-c857-4c1f-a7e4-9eafb7e4674c",
   "metadata": {},
   "outputs": [
    {
     "name": "stdout",
     "output_type": "stream",
     "text": [
      "File content:\n",
      " Hello, this is my first file write in Python!\n",
      "This is a new line added at the end.\n"
     ]
    }
   ],
   "source": [
    "#15. write a programme that prints the content of a file and handles the case when file is empty?\n",
    "import os\n",
    "\n",
    "filename = \"example.txt\"\n",
    "\n",
    "try:\n",
    "    if not os.path.exists(filename):\n",
    "        raise FileNotFoundError(f\"File '{filename}' does not exist.\")\n",
    "\n",
    "    with open(filename, \"r\") as f:\n",
    "        content = f.read()\n",
    "        if not content:\n",
    "            print(\"The file is empty.\")\n",
    "        else:\n",
    "            print(\"File content:\\n\", content)\n",
    "\n",
    "except FileNotFoundError as e:\n",
    "    print(e)\n",
    "\n",
    "except Exception as e:\n",
    "    print(\"An unexpected error occurred:\", e)\n"
   ]
  },
  {
   "cell_type": "code",
   "execution_count": 33,
   "id": "f1d33fa5-27e8-416f-a998-9c0b4702245d",
   "metadata": {},
   "outputs": [
    {
     "ename": "SyntaxError",
     "evalue": "invalid syntax (1896206833.py, line 3)",
     "output_type": "error",
     "traceback": [
      "\u001b[1;36m  Cell \u001b[1;32mIn[33], line 3\u001b[1;36m\u001b[0m\n\u001b[1;33m    pip install memory-profiler\u001b[0m\n\u001b[1;37m        ^\u001b[0m\n\u001b[1;31mSyntaxError\u001b[0m\u001b[1;31m:\u001b[0m invalid syntax\n"
     ]
    }
   ],
   "source": [
    "#16. Demonstarate how to use memmory profiling to check the memory usage of a small programme?\n",
    "#Install memory_profiler\n",
    "pip install memory-profiler\n",
    "#Use @profile decorator or memory_usage function\n",
    "from memory_profiler import profile\n",
    "\n",
    "@profile\n",
    "def create_list():\n",
    "    # Function that uses some memory\n",
    "    my_list = [i for i in range(100000)]\n",
    "    print(\"List created with 100000 elements\")\n",
    "    return my_list\n",
    "\n",
    "if __name__ == \"__main__\":\n",
    "    create_list()"
   ]
  },
  {
   "cell_type": "code",
   "execution_count": 34,
   "id": "ef39a79e-5cc4-4715-bfeb-deb81b34df76",
   "metadata": {},
   "outputs": [
    {
     "name": "stdout",
     "output_type": "stream",
     "text": [
      "Numbers have been written to 'numbers.txt'.\n"
     ]
    }
   ],
   "source": [
    "#17. Write  apython programme to create and write alist or number to a file ,one number per line?\n",
    "# List of numbers\n",
    "numbers = [10, 20, 30, 40, 50]\n",
    "\n",
    "# Open file in write mode\n",
    "with open(\"numbers.txt\", \"w\") as f:\n",
    "    for num in numbers:\n",
    "        f.write(f\"{num}\\n\")   # Write each number on a new line\n",
    "\n",
    "print(\"Numbers have been written to 'numbers.txt'.\")"
   ]
  },
  {
   "cell_type": "code",
   "execution_count": 35,
   "id": "64239886-3ff1-45b8-b31d-0baf519ddcdf",
   "metadata": {},
   "outputs": [],
   "source": [
    "#18.How would you implement a basic logging setup that logs to afile with rotation after 1 MB?\n",
    "import logging\n",
    "from logging.handlers import RotatingFileHandler\n",
    "\n",
    "# Create a logger\n",
    "logger = logging.getLogger(\"MyLogger\")\n",
    "logger.setLevel(logging.DEBUG)  # Capture all levels\n",
    "\n",
    "# Create a rotating file handler\n",
    "handler = RotatingFileHandler(\n",
    "    \"app.log\",       # Log file name\n",
    "    maxBytes=1*1024*1024,  # 1 MB\n",
    "    backupCount=3          # Keep up to 3 old log files\n",
    ")\n",
    "\n",
    "# Create a formatter and set it for the handler\n",
    "formatter = logging.Formatter(\"%(asctime)s - %(levelname)s - %(message)s\")\n",
    "handler.setFormatter(formatter)\n",
    "\n",
    "# Add the handler to the logger\n",
    "logger.addHandler(handler)\n",
    "\n",
    "# Log some messages\n",
    "logger.info(\"This is an info message.\")\n",
    "logger.warning(\"This is a warning message.\")\n",
    "logger.error(\"This is an error message.\")"
   ]
  },
  {
   "cell_type": "code",
   "execution_count": 36,
   "id": "e2c30268-c014-4e8d-aebb-48a3c0f813f5",
   "metadata": {},
   "outputs": [
    {
     "name": "stdout",
     "output_type": "stream",
     "text": [
      "Error: List index is out of range!\n"
     ]
    }
   ],
   "source": [
    "#19. Write a programe that handles both indexError and keyerror using a try-except block?\n",
    "# Sample list and dictionary\n",
    "my_list = [10, 20, 30]\n",
    "my_dict = {\"name\": \"Alice\", \"age\": 25}\n",
    "\n",
    "try:\n",
    "    # Attempt to access an index that may not exist\n",
    "    print(\"Accessing list element:\", my_list[5])\n",
    "\n",
    "    # Attempt to access a dictionary key that may not exist\n",
    "    print(\"Accessing dictionary key:\", my_dict[\"address\"])\n",
    "\n",
    "except IndexError:\n",
    "    print(\"Error: List index is out of range!\")\n",
    "\n",
    "except KeyError:\n",
    "    print(\"Error: Dictionary key does not exist!\")\n",
    "\n",
    "except Exception as e:\n",
    "    print(\"An unexpected error occurred:\", e)"
   ]
  },
  {
   "cell_type": "code",
   "execution_count": 37,
   "id": "7d12be28-ae37-426b-a3ce-7b5a80fd95b5",
   "metadata": {},
   "outputs": [
    {
     "name": "stdout",
     "output_type": "stream",
     "text": [
      "Hello, this is my first file write in Python!\n",
      "This is a new line added at the end.\n"
     ]
    }
   ],
   "source": [
    "# 20.How would you open a file and read its contents using a context manager in Python?\n",
    "filename = \"example.txt\"\n",
    "\n",
    "with open(filename, \"r\") as f:\n",
    "    content = f.read()   # Read the entire file\n",
    "    print(content)"
   ]
  },
  {
   "cell_type": "code",
   "execution_count": 38,
   "id": "12c12f6d-9ff8-406b-b62a-c491a7c6726f",
   "metadata": {},
   "outputs": [
    {
     "name": "stdout",
     "output_type": "stream",
     "text": [
      "The word 'Python' occurs 0 time(s) in the file.\n"
     ]
    }
   ],
   "source": [
    "# 21.Write a python program that reads a file and prints the number of occurance of a specific words ?\n",
    "# Specify the word to search\n",
    "word_to_count = \"Python\"\n",
    "\n",
    "# Open the file in read mode using a context manager\n",
    "try:\n",
    "    with open(\"example.txt\", \"r\") as f:\n",
    "        content = f.read()  # Read the entire file\n",
    "\n",
    "    # Convert content to lowercase (optional, for case-insensitive count)\n",
    "    content_lower = content.lower()\n",
    "    word_lower = word_to_count.lower()\n",
    "\n",
    "    # Count occurrences\n",
    "    count = content_lower.split().count(word_lower)\n",
    "    print(f\"The word '{word_to_count}' occurs {count} time(s) in the file.\")\n",
    "\n",
    "except FileNotFoundError:\n",
    "    print(\"Error: The file does not exist.\")"
   ]
  },
  {
   "cell_type": "code",
   "execution_count": 39,
   "id": "3476007a-11aa-457d-9a9e-e57236d0ca98",
   "metadata": {},
   "outputs": [
    {
     "name": "stdout",
     "output_type": "stream",
     "text": [
      "Hello, this is my first file write in Python!\n",
      "This is a new line added at the end.\n"
     ]
    }
   ],
   "source": [
    "#22. How can you check if a file is empty before attempting to read its contents?\n",
    "import os\n",
    "\n",
    "filename = \"example.txt\"\n",
    "\n",
    "# Check if file exists and is not empty\n",
    "if os.path.exists(filename) and os.path.getsize(filename) > 0:\n",
    "    with open(filename, \"r\") as f:\n",
    "        content = f.read()\n",
    "        print(content)\n",
    "else:\n",
    "    print(f\"The file '{filename}' is empty or does not exist.\")"
   ]
  },
  {
   "cell_type": "code",
   "execution_count": 40,
   "id": "e8b9a6f2-fd37-4b69-98d7-dea18b5f812b",
   "metadata": {},
   "outputs": [
    {
     "name": "stdout",
     "output_type": "stream",
     "text": [
      "Error: File not found. Check file_errors.log for details.\n"
     ]
    }
   ],
   "source": [
    "#23 write  apython programe that writes to a log file when an error occurs during during file handling?\n",
    "import logging\n",
    "\n",
    "# Configure logging\n",
    "logging.basicConfig(\n",
    "    filename=\"file_errors.log\",     # Log file\n",
    "    level=logging.ERROR,            # Log only errors\n",
    "    format=\"%(asctime)s - %(levelname)s - %(message)s\"\n",
    ")\n",
    "\n",
    "try:\n",
    "    # Attempt to open a file in read mode\n",
    "    with open(\"nonexistent_file.txt\", \"r\") as f:\n",
    "        content = f.read()\n",
    "        print(content)\n",
    "\n",
    "except FileNotFoundError as e:\n",
    "    logging.error(\"File not found error: %s\", e)\n",
    "    print(\"Error: File not found. Check file_errors.log for details.\")\n",
    "\n",
    "except PermissionError as e:\n",
    "    logging.error(\"Permission error: %s\", e)\n",
    "    print(\"Error: Permission denied. Check file_errors.log for details.\")\n",
    "\n",
    "except Exception as e:\n",
    "    logging.error(\"Unexpected error: %s\", e)\n",
    "    print(\"An unexpected error occurred. Check file_errors.log for details.\")"
   ]
  },
  {
   "cell_type": "code",
   "execution_count": null,
   "id": "ce7236d1-1916-4c83-b00c-6ae856de91ed",
   "metadata": {},
   "outputs": [],
   "source": []
  }
 ],
 "metadata": {
  "kernelspec": {
   "display_name": "Python 3 (ipykernel)",
   "language": "python",
   "name": "python3"
  },
  "language_info": {
   "codemirror_mode": {
    "name": "ipython",
    "version": 3
   },
   "file_extension": ".py",
   "mimetype": "text/x-python",
   "name": "python",
   "nbconvert_exporter": "python",
   "pygments_lexer": "ipython3",
   "version": "3.13.5"
  }
 },
 "nbformat": 4,
 "nbformat_minor": 5
}
