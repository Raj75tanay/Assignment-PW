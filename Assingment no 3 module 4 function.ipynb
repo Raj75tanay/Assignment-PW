{
 "cells": [
  {
   "cell_type": "code",
   "execution_count": 1,
   "id": "039572af-4f21-4d04-b09f-d78ce480687d",
   "metadata": {},
   "outputs": [],
   "source": [
    "#Assingment 3: Module 4:Function\n",
    "#Theory Question"
   ]
  },
  {
   "cell_type": "code",
   "execution_count": null,
   "id": "b7e2d277-b602-4c49-aa82-edabb0f3e482",
   "metadata": {},
   "outputs": [],
   "source": [
    "#1. what is the difference between function and method in python?\n",
    "#Ans-difference between function and method in python as below\n",
    "#Function is block of reusable code defined using def or lambda not necessary to any object whereas  the function\n",
    "#that is associated with an objectcalled as method."
   ]
  },
  {
   "cell_type": "code",
   "execution_count": 2,
   "id": "646e8e85-8a66-4673-82d8-b7f8b5422bee",
   "metadata": {},
   "outputs": [
    {
     "name": "stdout",
     "output_type": "stream",
     "text": [
      "Hello, Bhavya!\n"
     ]
    }
   ],
   "source": [
    "#2.Explain the concept of function argument and parametersin python?\n",
    "#Ans-Parameters → Variables defined in the function signature (inside parentheses) that act as placeholders for input.\n",
    "#    Arguments → The actual values you pass to those parameters when calling the function.\n",
    "def greet(name):   # 'name' is a parameter\n",
    "    print(f\"Hello, {name}!\")\n",
    "\n",
    "greet(\"Bhavya\")    # \"Bhavya\" is an argument"
   ]
  },
  {
   "cell_type": "code",
   "execution_count": 3,
   "id": "e4cb294b-489a-4580-955e-bbb6b2d6b484",
   "metadata": {},
   "outputs": [],
   "source": [
    "#3.what are the different way to define and call a function in python?\n",
    "#Ans-Function can be defined  in different ways like standardard function,function with parameters,function with default \n",
    "#parameters,with variables like *arg or **krags,lambda function,nested function ,function with return statement using pass etc\n",
    "#whereas function can be call by simple direct calling,call with positional argument,with argument, with keywords,mixed argument,\n",
    "#using *args and **kwrags and lambda.\n"
   ]
  },
  {
   "cell_type": "code",
   "execution_count": 4,
   "id": "56166d30-52c9-48d3-a3d7-12e3688f53b8",
   "metadata": {},
   "outputs": [],
   "source": [
    "#4. What is piurpose of return statement?\n",
    "#Ans-The purpose of the return statement in Python is to send a value back from a function to the place where the function was called.\n",
    "# it will return the data,ends the function,may return multiple value as required and none also."
   ]
  },
  {
   "cell_type": "code",
   "execution_count": 5,
   "id": "c16f0a01-051e-4558-b156-b8dd612a82fc",
   "metadata": {},
   "outputs": [],
   "source": [
    "#5.What is iterators in pyhton and how it differ from iterables?\n",
    "# itrables: object cabale of returning its element one at time like list,tuples,strings etc.\n",
    "#These objects implement the __iter__() method, which returns an iterator.\n",
    "#itrators:An object that actually produces the next value when you ask for it.\n",
    "#It implements two methods:\n",
    "\n",
    "#__iter__() → returns itself\n",
    "\n",
    "#__next__() → returns the next item, and raises StopIteration when done\n"
   ]
  },
  {
   "cell_type": "code",
   "execution_count": 8,
   "id": "abb00177-42eb-44e9-ba50-4914a51959e0",
   "metadata": {},
   "outputs": [],
   "source": [
    "#6. Explain the concept of genrators in python?\n",
    "#Ans-A generator is a special kind of function in Python that produces a sequence of values lazily, meaning it generates values one at a time instead of creating them all in memory at once.\n",
    "#Generators are a type of iterator.\n",
    "#Instead of return, they use yield to give back a value and pause the function.\n",
    "#They are memory-efficient for large datasets."
   ]
  },
  {
   "cell_type": "code",
   "execution_count": 9,
   "id": "29fa0099-8098-41c5-938a-74d8a40b15bd",
   "metadata": {},
   "outputs": [],
   "source": [
    "#7.Advantage of genrator overregular function?\n",
    "#Ans-Memory Efficient → Doesn’t store the entire sequence in memory.\n",
    "# Infinite Sequences → Can model streams or endless data without using too much RAM.\n",
    "# Lazy Evaluation → Values are generated only when needed."
   ]
  },
  {
   "cell_type": "code",
   "execution_count": 10,
   "id": "fd557a89-acf2-485a-8ede-9ae0c7213c1a",
   "metadata": {},
   "outputs": [
    {
     "name": "stdout",
     "output_type": "stream",
     "text": [
      "25\n"
     ]
    }
   ],
   "source": [
    "#8.What is lambda function ?\n",
    "#Ans-A lambda function in Python is a small, anonymous function defined without a name, using the keyword lambda.\n",
    "#It’s mainly used for short, simple operations where defining a full def function would be overkill.\n",
    "#Syntx:lambda arguments: expression\n",
    "square = lambda x: x * x\n",
    "print(square(5))  "
   ]
  },
  {
   "cell_type": "code",
   "execution_count": 11,
   "id": "a16c1648-b496-4179-8dc4-6a2d40288726",
   "metadata": {},
   "outputs": [
    {
     "name": "stdout",
     "output_type": "stream",
     "text": [
      "[1, 4, 9, 16]\n"
     ]
    }
   ],
   "source": [
    "#9.Explain the purpose of using map() function?\n",
    "#Ans-The purpose of map() in Python is to apply a function to every item in an iterable (like a list, tuple, etc.) \n",
    "#and return an iterator of the results.\n",
    "numbers = [1, 2, 3, 4]\n",
    "result = map(lambda x: x * x, numbers)\n",
    "print(list(result))  "
   ]
  },
  {
   "cell_type": "code",
   "execution_count": 12,
   "id": "79b191d4-118a-477c-83fd-502fd6c43ccb",
   "metadata": {},
   "outputs": [],
   "source": [
    "#10.What is difference between map(),reduce() and filter() function?\n",
    "#Ans-                     Function\t                                 Purpose\t                          Function’s Output\t                    Function Argument\tReturns\n",
    "#map()\tTransforms each item in an iterable using a function\tApplies function to all elements\tFunction that takes one or more args\tIterator of transformed items\n",
    "#filter()\tSelects items from an iterable that satisfy a condition\tKeeps only items where function returns True\tFunction that returns bool\tIterator of filtered items\n",
    "#reduce() (in functools)\tCombines elements into a single value\tRepeatedly applies function to reduce iterable to one value\tFunction that takes two args\tSingle accumulated value"
   ]
  },
  {
   "cell_type": "code",
   "execution_count": 13,
   "id": "c6e8758f-0486-40f5-bdf6-82d6bb58912e",
   "metadata": {},
   "outputs": [
    {
     "data": {
      "text/plain": [
       "113"
      ]
     },
     "execution_count": 13,
     "metadata": {},
     "output_type": "execute_result"
    }
   ],
   "source": [
    "#11.using pen and paper write the internal mechanism for sum opeartion using reduce function on this list:{47,11,42,13];\n",
    "from functools import reduce\n",
    "reduce(lambda x, y: x + y, [47, 11, 42, 13])"
   ]
  },
  {
   "cell_type": "code",
   "execution_count": 14,
   "id": "31479939-8eb6-4373-a90c-859913e4c9ed",
   "metadata": {},
   "outputs": [],
   "source": [
    "#Step 1: Take first two items → (47, 11)\n",
    "#Apply lambda x, y: x + y → 47 + 11 = 58\n",
    "\n",
    "#Step 2: Take result from Step 1 (58) and next item (42)\n",
    "#Apply function → 58 + 42 = 100\n",
    "\n",
    "#Step 3: Take result from Step 2 (100) and next item (13)\n",
    "#Apply function → 100 + 13 = 113"
   ]
  },
  {
   "cell_type": "code",
   "execution_count": 33,
   "id": "bd2f126c-899b-4a0c-88b1-ffd9e1bbfd33",
   "metadata": {},
   "outputs": [
    {
     "name": "stdout",
     "output_type": "stream",
     "text": [
      "Sum of even numbers: 60\n"
     ]
    }
   ],
   "source": [
    "#Practical Questions\n",
    "#1, Write  a python function that takes a list of numbers as input and returns the sum of all even numbers in the list?\n",
    "#Ans-\n",
    "def sum_of_even_numbers(numbers):\n",
    "    even_sum = 0\n",
    "    for num in numbers:\n",
    "        if num % 2 == 0:  # Check if number is even\n",
    "            even_sum += num\n",
    "    return even_sum\n",
    "\n",
    "# Example usage\n",
    "nums = [10, 15, 20, 25, 30]\n",
    "result = sum_of_even_numbers(nums)\n",
    "print(\"Sum of even numbers:\", result)"
   ]
  },
  {
   "cell_type": "code",
   "execution_count": 34,
   "id": "fc8f8e93-209b-4376-b498-82c571656e55",
   "metadata": {},
   "outputs": [
    {
     "name": "stdout",
     "output_type": "stream",
     "text": [
      "Reversed string: nohtyP\n"
     ]
    }
   ],
   "source": [
    "#C2.reate  apyhton function that accept a string and return the reverse of that string?\n",
    "def reverse_string(text):\n",
    "    return text[::-1]  # Using slicing to reverse\n",
    "\n",
    "# Example usage\n",
    "user_input = \"Python\"\n",
    "reversed_text = reverse_string(user_input)\n",
    "print(\"Reversed string:\", reversed_text)"
   ]
  },
  {
   "cell_type": "code",
   "execution_count": 35,
   "id": "b302000e-ccdd-4c71-b887-1dbf92126198",
   "metadata": {},
   "outputs": [
    {
     "name": "stdout",
     "output_type": "stream",
     "text": [
      "[[1, 2, 3], [1, 2, 3, 4, 5], [1, 2]]\n"
     ]
    }
   ],
   "source": [
    "#3.implement a python function that takes a list of integer and return anew list containing the sequnce of each number?\n",
    "def number_sequences(numbers):\n",
    "    result = []\n",
    "    for num in numbers:\n",
    "        sequence = list(range(1, num + 1))  # Create sequence from 1 to num\n",
    "        result.append(sequence)\n",
    "    return result\n",
    "\n",
    "# Example usage\n",
    "nums = [3, 5, 2]\n",
    "print(number_sequences(nums))"
   ]
  },
  {
   "cell_type": "code",
   "execution_count": 36,
   "id": "1d6cf103-5da7-4a37-a2e5-a2d40d48db9a",
   "metadata": {},
   "outputs": [
    {
     "name": "stdout",
     "output_type": "stream",
     "text": [
      "2 3 5 7 11 13 17 19 23 29 31 37 41 43 47 53 59 61 67 71 73 79 83 89 97 101 103 107 109 113 127 131 137 139 149 151 157 163 167 173 179 181 191 193 197 199 "
     ]
    }
   ],
   "source": [
    "#4. write a function that checks if a given number is prime or not from 1 to 200\n",
    "def is_prime(num):\n",
    "    if num < 2:  # 0 and 1 are not prime\n",
    "        return False\n",
    "    for i in range(2, int(num ** 0.5) + 1):  # Check up to sqrt(num)\n",
    "        if num % i == 0:\n",
    "            return False\n",
    "    return True\n",
    "\n",
    "# Print prime numbers from 1 to 200\n",
    "for n in range(1, 201):\n",
    "    if is_prime(n):\n",
    "        print(n, end=\" \")"
   ]
  },
  {
   "cell_type": "code",
   "execution_count": 37,
   "id": "55dc3437-d242-41d9-8204-9ceb51fdf784",
   "metadata": {},
   "outputs": [
    {
     "name": "stdout",
     "output_type": "stream",
     "text": [
      "0 1 1 2 3 5 8 13 21 34 "
     ]
    }
   ],
   "source": [
    "#5.Create an iterator class in python that generatesthe fibonacci sequence upto specified numbers of term?\n",
    "class Fibonacci:\n",
    "    def __init__(self, terms):\n",
    "        self.terms = terms\n",
    "        self.count = 0\n",
    "        self.a, self.b = 0, 1  # Starting values\n",
    "\n",
    "    def __iter__(self):\n",
    "        return self  # The iterator object returns itself\n",
    "\n",
    "    def __next__(self):\n",
    "        if self.count >= self.terms:\n",
    "            raise StopIteration  # End iteration\n",
    "        if self.count == 0:\n",
    "            self.count += 1\n",
    "            return 0\n",
    "        elif self.count == 1:\n",
    "            self.count += 1\n",
    "            return 1\n",
    "        else:\n",
    "            self.a, self.b = self.b, self.a + self.b\n",
    "            self.count += 1\n",
    "            return self.b\n",
    "\n",
    "# Example usage:\n",
    "fib = Fibonacci(10)\n",
    "for num in fib:\n",
    "    print(num, end=\" \")"
   ]
  },
  {
   "cell_type": "code",
   "execution_count": 38,
   "id": "92a2f53f-57e5-4244-8ee8-35b1c2c18a53",
   "metadata": {},
   "outputs": [
    {
     "name": "stdout",
     "output_type": "stream",
     "text": [
      "1 2 4 8 16 32 "
     ]
    }
   ],
   "source": [
    "#6.write  a genrator function in python that yeilds the poer of 2 upto given exponent?\n",
    "def powers_of_two(max_exp):\n",
    "    for exp in range(max_exp + 1):\n",
    "        yield 2 ** exp\n",
    "\n",
    "# Example usage:\n",
    "for value in powers_of_two(5):\n",
    "    print(value, end=\" \")"
   ]
  },
  {
   "cell_type": "code",
   "execution_count": null,
   "id": "c0d12954-6094-4774-9945-3e8ab3c31303",
   "metadata": {},
   "outputs": [],
   "source": [
    "#7.implement a genrator function that reads a file line by line and yeild each line as string .\n",
    "def read_file_lines(file_path):\n",
    "    with open(file_path, 'r') as file:\n",
    "        for line in file:\n",
    "            yield line.rstrip('\\n')  # Remove trailing newline\n",
    "\n",
    "# Example usage:\n",
    "for line in read_file_lines(\"example.txt\"):\n",
    "    print(line)"
   ]
  },
  {
   "cell_type": "code",
   "execution_count": 40,
   "id": "d25fb377-1715-4f30-9dc2-edbb4d085d0d",
   "metadata": {},
   "outputs": [
    {
     "name": "stdout",
     "output_type": "stream",
     "text": [
      "[(3, 1), (2, 3), (1, 5), (4, 7)]\n"
     ]
    }
   ],
   "source": [
    "#8.use a lambda function in python to sort a list of tuples based on the second element at each tuple.\n",
    "# Sample list of tuples\n",
    "data = [(1, 5), (3, 1), (4, 7), (2, 3)]\n",
    "\n",
    "# Sort by second element\n",
    "sorted_data = sorted(data, key=lambda x: x[1])\n",
    "\n",
    "print(sorted_data)"
   ]
  },
  {
   "cell_type": "code",
   "execution_count": 43,
   "id": "f691959a-d22e-4cea-99c3-1969a3c95c6f",
   "metadata": {},
   "outputs": [
    {
     "name": "stdout",
     "output_type": "stream",
     "text": [
      "Celsius: [0, 20, 37, 100]\n",
      "Fahrenheit: [32.0, 68.0, 98.6, 212.0]\n"
     ]
    }
   ],
   "source": [
    "#9.Write a python programme that uses map() to convert a list of temprature from celsious to Fahrenheit?\n",
    "#Use map() with lambda to convert\n",
    "# List of temperatures in Celsius\n",
    "celsius_temps = [0, 20, 37, 100]\n",
    "\n",
    "# Use map() with lambda to convert\n",
    "fahrenheit_temps = list(map(lambda c: (c * 9/5) + 32, celsius_temps))\n",
    "\n",
    "print(\"Celsius:\", celsius_temps)\n",
    "print(\"Fahrenheit:\", fahrenheit_temps)"
   ]
  },
  {
   "cell_type": "code",
   "execution_count": 45,
   "id": "3470391e-0b9b-4ad5-8d2c-4beeb168ca09",
   "metadata": {},
   "outputs": [
    {
     "name": "stdout",
     "output_type": "stream",
     "text": [
      "Original String: Hello World, Python is amazing!\n",
      "Without Vowels: Hll Wrld, Pythn s mzng!\n"
     ]
    }
   ],
   "source": [
    "#10 create a python programme that uses filter() to remove all the vowels from a given string?\n",
    "def is_not_vowel(char):\n",
    "    vowels = \"aeiouAEIOU\"\n",
    "    return char not in vowels\n",
    "\n",
    "# Input string\n",
    "text = \"Hello World, Python is amazing!\"\n",
    "\n",
    "# Use filter() to remove vowels\n",
    "result = ''.join(filter(is_not_vowel, text))\n",
    "\n",
    "print(\"Original String:\", text)\n",
    "print(\"Without Vowels:\", result)"
   ]
  },
  {
   "cell_type": "code",
   "execution_count": null,
   "id": "344302bc-a9a5-4b7d-a419-fcff1e1b34a4",
   "metadata": {},
   "outputs": [],
   "source": []
  }
 ],
 "metadata": {
  "kernelspec": {
   "display_name": "Python 3 (ipykernel)",
   "language": "python",
   "name": "python3"
  },
  "language_info": {
   "codemirror_mode": {
    "name": "ipython",
    "version": 3
   },
   "file_extension": ".py",
   "mimetype": "text/x-python",
   "name": "python",
   "nbconvert_exporter": "python",
   "pygments_lexer": "ipython3",
   "version": "3.13.5"
  }
 },
 "nbformat": 4,
 "nbformat_minor": 5
}
