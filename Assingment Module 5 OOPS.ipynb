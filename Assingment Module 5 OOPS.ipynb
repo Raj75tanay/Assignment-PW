{
 "cells": [
  {
   "cell_type": "code",
   "execution_count": 1,
   "id": "b502d376-55d4-49d5-87e8-2c89ea49ac46",
   "metadata": {},
   "outputs": [],
   "source": [
    "# Assignment _Module 5 _Python OOPS"
   ]
  },
  {
   "cell_type": "code",
   "execution_count": 2,
   "id": "8cdc6a4b-97bb-46e8-8ee7-0f0025b1822b",
   "metadata": {},
   "outputs": [],
   "source": [
    "#Part A : Subjective Question"
   ]
  },
  {
   "cell_type": "code",
   "execution_count": 3,
   "id": "469cbe41-26ad-4d2e-a70c-cc80110d5e89",
   "metadata": {},
   "outputs": [],
   "source": [
    "#1. What is object oriented Programming(OOPS)?\n",
    "# Ans-Object-Oriented Programming (OOP or OOPS) is a style of programming)that organizes software design around objects\n",
    "#rather than functions or logic.It means writing code where real-world entities (like Car, Student, Employee, Bank Account) \n",
    "#are represented as objects that have attributes (data) and behaviors (methods/functions)."
   ]
  },
  {
   "cell_type": "code",
   "execution_count": 4,
   "id": "8b04f842-a776-4399-8914-a83e39db95f2",
   "metadata": {},
   "outputs": [],
   "source": [
    "#2.What is Class in OOPS?\n",
    "#Ans-Class is basically a blueprint or template for creating objects.\n",
    "#A class by itself does not represent an actual entity, but objects created from it do.\n",
    "#A class encapsulates data and behavior in a single unit.\n",
    "#Once we define a class, we can create many objects from it without rewriting code."
   ]
  },
  {
   "cell_type": "code",
   "execution_count": 6,
   "id": "8f16b780-82be-4101-9a25-166ed5a6bf92",
   "metadata": {},
   "outputs": [],
   "source": [
    "#Example: Syntex\n",
    "#class ClassName:\n",
    "    # Constructor (to initialize object)\n",
    "   # def __init__(self, attribute1, attribute2):\n",
    "    #    self.attribute1 = attribute1   # Data attribute\n",
    "     #   self.attribute2 = attribute2\n",
    "\n",
    "    # Method (function inside class)\n",
    "    #def show_details(self):\n",
    "     #   print(f\"Attribute1: {self.attribute1}, Attribute2: {self.attribute2}\")\n",
    "\n"
   ]
  },
  {
   "cell_type": "code",
   "execution_count": 7,
   "id": "d9e7e9d8-6182-48c4-a80d-fb6e01ed4033",
   "metadata": {},
   "outputs": [
    {
     "name": "stdout",
     "output_type": "stream",
     "text": [
      "Tesla Model S is driving.\n",
      "Toyota Corolla is driving.\n"
     ]
    }
   ],
   "source": [
    "#3. What is an object in OOPS?\n",
    "#Ans-Object is an instance of a Class. It is the actual product built from that blueprint.\n",
    "# Example-\n",
    "# Class definition\n",
    "class Car:\n",
    "    def __init__(self, brand, model):\n",
    "        self.brand = brand      # attribute (state)\n",
    "        self.model = model      # attribute (state)\n",
    "    \n",
    "    def drive(self):            # method (behavior)\n",
    "        print(f\"{self.brand} {self.model} is driving.\")\n",
    "\n",
    "# Creating Objects\n",
    "car1 = Car(\"Tesla\", \"Model S\")   # Object 1\n",
    "car2 = Car(\"Toyota\", \"Corolla\")  # Object 2\n",
    "\n",
    "# Using Objects\n",
    "car1.drive()\n",
    "car2.drive()"
   ]
  },
  {
   "cell_type": "code",
   "execution_count": 8,
   "id": "3f6d461b-d987-4776-9df1-c4cd69d8ae21",
   "metadata": {},
   "outputs": [
    {
     "name": "stdout",
     "output_type": "stream",
     "text": [
      "Car engine starts with a key.\n",
      "Bike engine starts with a button.\n"
     ]
    }
   ],
   "source": [
    "#4.What is the difference between abstraction and encapsulation?\n",
    "#Ans-Abstraction: (a)Hiding the implementation details and showing only the essential features.\n",
    "#Focuses on what a system does.\n",
    "#(b)To hide unnecessary details and reduce complexity.\n",
    "#(c)In Python → Abstract classes & interfaces (using abc module).\n",
    "#Encapsulation:Wrapping (binding) data (variables) and methods (functions) into a single unit (class).\n",
    "#Focuses on how data and methods are bound together.\n",
    "#(b)To protect data and restrict direct access (data hiding).\n",
    "#(c)In Python → Using classes, objects, access modifiers (public, _protected, __private).\n",
    "from abc import ABC, abstractmethod\n",
    "\n",
    "class Vehicle(ABC):   # Abstract class\n",
    "    @abstractmethod\n",
    "    def start(self):\n",
    "        pass\n",
    "\n",
    "class Car(Vehicle):\n",
    "    def start(self):\n",
    "        print(\"Car engine starts with a key.\")\n",
    "\n",
    "class Bike(Vehicle):\n",
    "    def start(self):\n",
    "        print(\"Bike engine starts with a button.\")\n",
    "# Using abstraction\n",
    "v1 = Car()\n",
    "v1.start()\n",
    "\n",
    "v2 = Bike()\n",
    "v2.start()\n"
   ]
  },
  {
   "cell_type": "code",
   "execution_count": 9,
   "id": "83999093-781d-4eaf-8cf0-be468690b6b9",
   "metadata": {},
   "outputs": [
    {
     "name": "stdout",
     "output_type": "stream",
     "text": [
      "1500\n"
     ]
    }
   ],
   "source": [
    "#Example\n",
    "class Account:\n",
    "    def __init__(self, balance):\n",
    "        self.__balance = balance   # private attribute\n",
    "\n",
    "    def deposit(self, amount):\n",
    "        self.__balance += amount\n",
    "    \n",
    "    def get_balance(self):\n",
    "        return self.__balance\n",
    "\n",
    "# Using encapsulation\n",
    "acc = Account(1000)\n",
    "acc.deposit(500)\n",
    "print(acc.get_balance())   # 1500"
   ]
  },
  {
   "cell_type": "code",
   "execution_count": 10,
   "id": "adc52118-d734-4fad-b3c6-99a0be205a62",
   "metadata": {},
   "outputs": [
    {
     "ename": "AttributeError",
     "evalue": "'Account' object has no attribute '__balance'",
     "output_type": "error",
     "traceback": [
      "\u001b[1;31m---------------------------------------------------------------------------\u001b[0m",
      "\u001b[1;31mAttributeError\u001b[0m                            Traceback (most recent call last)",
      "Cell \u001b[1;32mIn[10], line 1\u001b[0m\n\u001b[1;32m----> 1\u001b[0m \u001b[38;5;28mprint\u001b[39m(acc\u001b[38;5;241m.\u001b[39m__balance)\n",
      "\u001b[1;31mAttributeError\u001b[0m: 'Account' object has no attribute '__balance'"
     ]
    }
   ],
   "source": [
    "print(acc.__balance)"
   ]
  },
  {
   "cell_type": "code",
   "execution_count": 11,
   "id": "85285269-3605-4ed7-8d75-2f02d1c0ba53",
   "metadata": {},
   "outputs": [],
   "source": [
    "# Error due to hide out"
   ]
  },
  {
   "cell_type": "code",
   "execution_count": 12,
   "id": "6d09b90c-dc30-49bd-b8b5-ea4d4309a885",
   "metadata": {},
   "outputs": [],
   "source": [
    "#5. What is Dundar Method?\n",
    "#Ans-Dunder Methods (short for Double UNDerscore Methods) are special built-in methods that start and end with two underscores (__methodname__).\n",
    "# They are also called as Magic or Special method.\n",
    "#For example: _init_,_str_, _len_ etc."
   ]
  },
  {
   "cell_type": "code",
   "execution_count": 13,
   "id": "38257091-5598-48f1-9129-3fb8ee0d052b",
   "metadata": {},
   "outputs": [
    {
     "name": "stdout",
     "output_type": "stream",
     "text": [
      "Book: Python Basics, Pages: 200\n",
      "200\n",
      "500\n"
     ]
    }
   ],
   "source": [
    "class Book:\n",
    "    def __init__(self, title, pages):\n",
    "        self.title = title\n",
    "        self.pages = pages\n",
    "    \n",
    "    def __str__(self):\n",
    "        return f\"Book: {self.title}, Pages: {self.pages}\"\n",
    "    \n",
    "    def __len__(self):\n",
    "        return self.pages\n",
    "    \n",
    "    def __add__(self, other):\n",
    "        return self.pages + other.pages\n",
    "\n",
    "# Creating objects\n",
    "b1 = Book(\"Python Basics\", 200)\n",
    "b2 = Book(\"OOPS in Depth\", 300)\n",
    "\n",
    "print(b1)          # Calls __str__\n",
    "print(len(b1))     # Calls __len__\n",
    "print(b1 + b2)     # Calls __add__"
   ]
  },
  {
   "cell_type": "code",
   "execution_count": 14,
   "id": "0673f7d1-5571-4f0c-b85f-28f978bff439",
   "metadata": {},
   "outputs": [
    {
     "name": "stdout",
     "output_type": "stream",
     "text": [
      "Tesla is driving.\n",
      "Car: Tesla, Model: Model S\n"
     ]
    }
   ],
   "source": [
    "#6.Explain the concept of inheritance in OOP?\n",
    "# Ans-Inheritance is a key feature of Object-Oriented Programming (OOP) that allows one class (child/subclass) \n",
    "#to acquire properties and behaviors (attributes and methods) of another class (parent/superclass).\n",
    "#For Example-\n",
    "# Parent class\n",
    "class Vehicle:\n",
    "    def __init__(self, brand):\n",
    "        self.brand = brand\n",
    "    \n",
    "    def drive(self):\n",
    "        print(f\"{self.brand} is driving.\")\n",
    "\n",
    "# Child class (inherits Vehicle)\n",
    "class Car(Vehicle):\n",
    "    def __init__(self, brand, model):\n",
    "        super().__init__(brand)   # calling parent constructor\n",
    "        self.model = model\n",
    "    \n",
    "    # New method in child class\n",
    "    def info(self):\n",
    "        print(f\"Car: {self.brand}, Model: {self.model}\")\n",
    "\n",
    "# Creating object of child class\n",
    "car1 = Car(\"Tesla\", \"Model S\")\n",
    "car1.drive()   # Inherited from parent\n",
    "car1.info()    # Defined in child"
   ]
  },
  {
   "cell_type": "code",
   "execution_count": 15,
   "id": "62febcff-6072-41da-a889-0de1fc0c3a9b",
   "metadata": {},
   "outputs": [
    {
     "name": "stdout",
     "output_type": "stream",
     "text": [
      "Dog barks.\n",
      "Cat meows.\n"
     ]
    }
   ],
   "source": [
    "#7. What is polymorphism in OOP?\n",
    "#Ans-The word Polymorphism comes from Greek:\n",
    "#Poly = many\n",
    "#Morph = forms\n",
    "#So, Polymorphism means \"many forms\".\n",
    "#In OOP, polymorphism allows the same method or operator to behave differently depending on the object or data type it is working with.\n",
    "#Same name, different behavior → One interface, multiple implementations.\n",
    "# Important points-\n",
    "#a)Increases flexibility and reusability of code.\n",
    "#b)Achieved in Python through:\n",
    "#c)Method Overriding (runtime polymorphism).\n",
    "#d)Method Overloading (Python doesn’t support it directly but can mimic it with default args).\n",
    "#e)Operator Overloading (using dunder methods like __add__, __sub__).\n",
    "#Exa,ple-Method Overriding (Runtime Polymorphism)\n",
    "class Animal:\n",
    "    def sound(self):\n",
    "        print(\"This animal makes a sound.\")\n",
    "\n",
    "class Dog(Animal):\n",
    "    def sound(self):   # overriding\n",
    "        print(\"Dog barks.\")\n",
    "\n",
    "class Cat(Animal):\n",
    "    def sound(self):   # overriding\n",
    "        print(\"Cat meows.\")\n",
    "\n",
    "# Polymorphism\n",
    "animals = [Dog(), Cat()]\n",
    "\n",
    "for a in animals:\n",
    "    a.sound()"
   ]
  },
  {
   "cell_type": "code",
   "execution_count": 16,
   "id": "32e39ee5-a3cf-4a90-8494-e3b77cb7bd6f",
   "metadata": {},
   "outputs": [
    {
     "name": "stdout",
     "output_type": "stream",
     "text": [
      "300\n"
     ]
    }
   ],
   "source": [
    "# Example-Operator Overloading\n",
    "class Book:\n",
    "    def __init__(self, pages):\n",
    "        self.pages = pages\n",
    "    \n",
    "    def __add__(self, other):   # Overloading +\n",
    "        return self.pages + other.pages\n",
    "\n",
    "b1 = Book(100)\n",
    "b2 = Book(200)\n",
    "\n",
    "print(b1 + b2)   # Calls __add__"
   ]
  },
  {
   "cell_type": "code",
   "execution_count": 17,
   "id": "163af4e5-aa84-4c18-a882-415ac57e6a8e",
   "metadata": {},
   "outputs": [
    {
     "name": "stdout",
     "output_type": "stream",
     "text": [
      "5\n",
      "3\n"
     ]
    }
   ],
   "source": [
    "#Example:Built-in Polymorphism\n",
    "print(len(\"Hello\"))    # works for string → 5\n",
    "print(len([1,2,3]))    # works for list → 3"
   ]
  },
  {
   "cell_type": "code",
   "execution_count": 18,
   "id": "9ac1f7e2-f432-4821-b033-7e9664511e15",
   "metadata": {},
   "outputs": [],
   "source": [
    "#same function len() → works differently depending on the data type."
   ]
  },
  {
   "cell_type": "code",
   "execution_count": 19,
   "id": "123370c6-74ad-4e2c-b147-ae9614d84693",
   "metadata": {},
   "outputs": [],
   "source": [
    "#8. How is encapsulation acheived in Python?\n",
    "#Ans-Encapsulation means wrapping data (attributes) and methods (functions) together into a single unit (a class) and restricting direct access to some of the object’s data to ensure security.\n",
    "#In Python, encapsulation is achieved using:\n",
    "#Classes & Objects → combine data + methods.\n",
    "#Access Modifiers → control visibility of attributes/methods.\n",
    "#Python does not have true private/protected keywords like Java or C++, but it uses naming conventions:\n",
    "#Public (default)\n",
    "#Accessible from anywhere.\n",
    "#Example: self.name\n",
    "class Student:\n",
    "    def __init__(self, name):\n",
    "        self.name = name  # public attribute\n",
    "    "
   ]
  },
  {
   "cell_type": "code",
   "execution_count": 20,
   "id": "472e2317-ce69-4d22-b5b1-df7e8d29c2bd",
   "metadata": {},
   "outputs": [
    {
     "name": "stdout",
     "output_type": "stream",
     "text": [
      "Alice\n"
     ]
    }
   ],
   "source": [
    "s = Student(\"Alice\")\n",
    "print(s.name) #  Accessible"
   ]
  },
  {
   "cell_type": "code",
   "execution_count": 21,
   "id": "d883274f-3650-42cd-8a62-1b159de82850",
   "metadata": {},
   "outputs": [
    {
     "name": "stdout",
     "output_type": "stream",
     "text": [
      "20\n"
     ]
    }
   ],
   "source": [
    "#Protected(convention: single underscore `_`)  \n",
    "#- Should not be accessed directly outside the class (but still possible).  \n",
    "# Used to indicate “for internal use only.”  \n",
    "class Student:\n",
    "    def __init__(self, name, age):\n",
    "        self._age = age   # protected attribute\n",
    "\n",
    "s = Student(\"Bob\", 20)\n",
    "print(s._age)   #  Possible, but not recommended"
   ]
  },
  {
   "cell_type": "code",
   "execution_count": 23,
   "id": "b4af3c1c-a106-43cb-8e55-0664ac46d5ce",
   "metadata": {},
   "outputs": [
    {
     "name": "stdout",
     "output_type": "stream",
     "text": [
      "2000\n"
     ]
    }
   ],
   "source": [
    "#c)Private (name mangling: double underscore __)\n",
    "#Cannot be accessed directly outside the class.\n",
    "#Python internally renames it to _ClassName__attribute.\n",
    "class BankAccount:\n",
    "    def __init__(self, balance):\n",
    "        self.__balance = balance  # private attribute\n",
    "\n",
    "    def deposit(self, amount):\n",
    "        self.__balance += amount\n",
    "\n",
    "    def get_balance(self):\n",
    "        return self.__balance\n",
    "        acc = BankAccount(1000)\n",
    "acc.deposit(500)\n",
    "print(acc.get_balance()) # Access through method"
   ]
  },
  {
   "cell_type": "code",
   "execution_count": 24,
   "id": "e4b0b6ff-f20b-4834-939e-e8b1f1e14591",
   "metadata": {},
   "outputs": [
    {
     "ename": "AttributeError",
     "evalue": "'Account' object has no attribute '__balance'",
     "output_type": "error",
     "traceback": [
      "\u001b[1;31m---------------------------------------------------------------------------\u001b[0m",
      "\u001b[1;31mAttributeError\u001b[0m                            Traceback (most recent call last)",
      "Cell \u001b[1;32mIn[24], line 1\u001b[0m\n\u001b[1;32m----> 1\u001b[0m \u001b[38;5;28mprint\u001b[39m(acc\u001b[38;5;241m.\u001b[39m__balance)\n",
      "\u001b[1;31mAttributeError\u001b[0m: 'Account' object has no attribute '__balance'"
     ]
    }
   ],
   "source": [
    "print(acc.__balance)# Error"
   ]
  },
  {
   "cell_type": "code",
   "execution_count": 25,
   "id": "8912804a-23bc-4a35-aa4d-5ffc1b8c5b31",
   "metadata": {},
   "outputs": [
    {
     "ename": "AttributeError",
     "evalue": "'Account' object has no attribute '_BankAccount__balance'",
     "output_type": "error",
     "traceback": [
      "\u001b[1;31m---------------------------------------------------------------------------\u001b[0m",
      "\u001b[1;31mAttributeError\u001b[0m                            Traceback (most recent call last)",
      "Cell \u001b[1;32mIn[25], line 1\u001b[0m\n\u001b[1;32m----> 1\u001b[0m \u001b[38;5;28mprint\u001b[39m(acc\u001b[38;5;241m.\u001b[39m_BankAccount__balance)\n",
      "\u001b[1;31mAttributeError\u001b[0m: 'Account' object has no attribute '_BankAccount__balance'"
     ]
    }
   ],
   "source": [
    "print(acc._BankAccount__balance)#Error"
   ]
  },
  {
   "cell_type": "code",
   "execution_count": 26,
   "id": "776ddb4f-20e8-416e-be33-675e2e525c7d",
   "metadata": {},
   "outputs": [
    {
     "name": "stdout",
     "output_type": "stream",
     "text": [
      "Name: Alice, Age: 21\n"
     ]
    }
   ],
   "source": [
    "# 9. What is constructor in Python?\n",
    "#Ans-a constructor is a special method that is automatically called when an object is created.\n",
    "#It is mainly used to initialize the object’s attributes.\n",
    "#In Python, the constructor method is:\n",
    "#__init__ is a dunder method (special method with double underscores).\n",
    "#self refers to the current object being created.\n",
    "class Student:\n",
    "    def __init__(self, name, age):   # Constructor\n",
    "        self.name = name    # initializing attributes\n",
    "        self.age = age\n",
    "    \n",
    "    def show(self):\n",
    "        print(f\"Name: {self.name}, Age: {self.age}\")\n",
    "\n",
    "# Object creation → __init__ is called automatically\n",
    "s1 = Student(\"Alice\", 21)\n",
    "s1.show()\n"
   ]
  },
  {
   "cell_type": "code",
   "execution_count": 27,
   "id": "a37da137-0b9f-4b45-9718-cff2e15e4a8e",
   "metadata": {},
   "outputs": [
    {
     "name": "stdout",
     "output_type": "stream",
     "text": [
      "Tesla Model S\n",
      "Unknown Generic\n"
     ]
    }
   ],
   "source": [
    "#Example with Default Values:\n",
    "class Car:\n",
    "    def __init__(self, brand=\"Unknown\", model=\"Generic\"):\n",
    "        self.brand = brand\n",
    "        self.model = model\n",
    "\n",
    "c1 = Car(\"Tesla\", \"Model S\")\n",
    "c2 = Car()   # Uses default values\n",
    "\n",
    "print(c1.brand, c1.model)\n",
    "print(c2.brand, c2.model)"
   ]
  },
  {
   "cell_type": "code",
   "execution_count": 28,
   "id": "599042c9-e8b7-439f-a8a5-4642c248024f",
   "metadata": {},
   "outputs": [
    {
     "name": "stdout",
     "output_type": "stream",
     "text": [
      "Hello, I am Alice\n"
     ]
    }
   ],
   "source": [
    "#10. What are the class & Static method in Python?\n",
    "#Ans- Instance Method (default method)\n",
    "#The most common type of method.\n",
    "#Takes self as the first parameter.\n",
    "#Can access and modify object(instance)-specific data.\n",
    "class Student:\n",
    "    def __init__(self, name):\n",
    "        self.name = name\n",
    "\n",
    "    def show(self):   # instance method\n",
    "        print(f\"Hello, I am {self.name}\")\n",
    "\n",
    "s = Student(\"Alice\")\n",
    "s.show()   # Instance method needs object"
   ]
  },
  {
   "cell_type": "code",
   "execution_count": 29,
   "id": "1f7a6893-65d2-4028-a6e8-e1e8c80c5628",
   "metadata": {},
   "outputs": [
    {
     "name": "stdout",
     "output_type": "stream",
     "text": [
      "15\n"
     ]
    }
   ],
   "source": [
    "#Static Method\n",
    "#Defined with @staticmethod decorator.\n",
    "#Doesn’t take self or cls as the first argument.\n",
    "#Acts like a normal function, but is placed inside a class for better organization.\n",
    "#Cannot access object(instance) data or class data directly.\n",
    "class MathUtils:\n",
    "    @staticmethod\n",
    "    def add(a, b):   # static method\n",
    "        return a + b\n",
    "\n",
    "# Usage\n",
    "print(MathUtils.add(5, 10))   # Called without creating object"
   ]
  },
  {
   "cell_type": "code",
   "execution_count": 30,
   "id": "024bbfaf-58ef-4b6b-9954-b12b5763761b",
   "metadata": {},
   "outputs": [
    {
     "name": "stdout",
     "output_type": "stream",
     "text": [
      "ABC School\n",
      "ABC School\n"
     ]
    }
   ],
   "source": [
    "#Class Method\n",
    "#Defined with @classmethod decorator.\n",
    "#Takes cls (class itself) as the first parameter (not the object).\n",
    "#Can access/modify class-level data (shared by all objects).\n",
    "#Called using class name or object.\n",
    "class Student:\n",
    "    school_name = \"ABC School\"   # class variable\n",
    "    \n",
    "    def __init__(self, name):\n",
    "        self.name = name\n",
    "    \n",
    "    @classmethod\n",
    "    def get_school(cls):   # class method\n",
    "        return cls.school_name\n",
    "\n",
    "# Usage\n",
    "print(Student.get_school())  #  Access via class\n",
    "s1 = Student(\"Alice\")\n",
    "print(s1.get_school())       #  Also works via object"
   ]
  },
  {
   "cell_type": "code",
   "execution_count": 31,
   "id": "13b129f7-5658-43f4-bc84-3d48aea9cf53",
   "metadata": {},
   "outputs": [
    {
     "name": "stdout",
     "output_type": "stream",
     "text": [
      "500\n",
      "True\n"
     ]
    }
   ],
   "source": [
    "# 11. What is overloading in Pyhton?\n",
    "#Ans-Overloading means using the same function/operator name but with different meanings based on input or context.\n",
    "#It allows one function/operator to perform different tasks.\n",
    "#Python supports two main kinds of overloading:\n",
    "#Operator Overloading (supported )\n",
    "#Method Overloading (not directly supported , but can be mimicked)\n",
    "#Example: Operator Overloading\n",
    "class Book:\n",
    "    def __init__(self, pages):\n",
    "        self.pages = pages\n",
    "    \n",
    "    def __add__(self, other):   # Overloading +\n",
    "        return self.pages + other.pages\n",
    "    \n",
    "    def __lt__(self, other):    # Overloading <\n",
    "        return self.pages < other.pages\n",
    "\n",
    "b1 = Book(200)\n",
    "b2 = Book(300)\n",
    "\n",
    "print(b1 + b2)   # Calls __add__ → 500\n",
    "print(b1 < b2)   # Calls __lt__ → True"
   ]
  },
  {
   "cell_type": "code",
   "execution_count": 32,
   "id": "410630b0-e7ad-49c2-98c2-705c161331ca",
   "metadata": {},
   "outputs": [
    {
     "name": "stdout",
     "output_type": "stream",
     "text": [
      "Hello\n",
      "Hello, Alice\n"
     ]
    }
   ],
   "source": [
    "#Example:Method Overloading\n",
    "class Demo:\n",
    "    def greet(self, name=None):\n",
    "        if name:\n",
    "            print(f\"Hello, {name}\")\n",
    "        else:\n",
    "            print(\"Hello\")\n",
    "\n",
    "d = Demo()\n",
    "d.greet()          # Hello\n",
    "d.greet(\"Alice\")   # Hello, Alice"
   ]
  },
  {
   "cell_type": "code",
   "execution_count": 35,
   "id": "f59a8f32-5c43-4d60-9f14-000f202ab5bf",
   "metadata": {},
   "outputs": [
    {
     "name": "stdout",
     "output_type": "stream",
     "text": [
      "Dog barks.\n",
      "Cat meows.\n"
     ]
    }
   ],
   "source": [
    "# 12. What is method overiding in OOP?\n",
    "#Ans-Method Overriding happens when a child class (subclass) defines a method that already exists in its parent class (superclass) with the\n",
    "#same name, parameters, and return type but provides a new implementation.\n",
    "class Animal:\n",
    "    def sound(self):\n",
    "        print(\"This animal makes a sound.\")\n",
    "\n",
    "class Dog(Animal):\n",
    "    def sound(self):   # overriding parent method\n",
    "        print(\"Dog barks.\")\n",
    "\n",
    "class Cat(Animal):\n",
    "    def sound(self):   # overriding parent method\n",
    "        print(\"Cat meows.\")\n",
    "\n",
    "# Polymorphism through overriding\n",
    "animals = [Dog(), Cat()]\n",
    "for a in animals:\n",
    "    a.sound()\n"
   ]
  },
  {
   "cell_type": "code",
   "execution_count": 36,
   "id": "5c282e66-cd4e-40ab-b0d2-31fa0f8d2d35",
   "metadata": {},
   "outputs": [],
   "source": [
    "# 13. what is property decorator in Python?\n",
    "#Ans-In Python, the @property decorator is used to turn a method into an attribute.\n",
    "#It allows you to access a method like an attribute (without calling it explicitly with ()),\n",
    "#while still keeping the benefits of methods such as validation, computation, or encapsulation.\n",
    "#It is part of encapsulation & data hiding."
   ]
  },
  {
   "cell_type": "code",
   "execution_count": 37,
   "id": "9a163412-cd00-40af-aedf-f3865d660d2d",
   "metadata": {},
   "outputs": [],
   "source": [
    "# 14.Why is the polymorphism important in OOPS?\n",
    "#Ans-Polymorphism is important in OOP because it provides:\n",
    "# a) Reusability\n",
    "# b) Flexibility\n",
    "# c)Extensibility\n",
    "# d)Cleaner, maintainable code and\n",
    "# d)Real-world modeling"
   ]
  },
  {
   "cell_type": "code",
   "execution_count": 38,
   "id": "85f387e7-e64a-4949-8e63-fd1dc77f73c8",
   "metadata": {},
   "outputs": [
    {
     "name": "stdout",
     "output_type": "stream",
     "text": [
      "Bark\n",
      "Meow\n"
     ]
    }
   ],
   "source": [
    "# 15.What is the abstrct class in python?\n",
    "# Ans An abstract class is a blueprint for other classes.\n",
    "#It is a class that cannot be instantiated (you can’t create objects directly from it).\n",
    "#It may contain one or more abstract methods → methods that are declared but have no implementation.\n",
    "#Child (sub) classes must implement those abstract methods, otherwise they will also be abstract.\n",
    "#In Python, abstract classes are defined using the abc module (abc = Abstract Base Class).\n",
    "#Example\n",
    "from abc import ABC, abstractmethod\n",
    "\n",
    "class Animal(ABC):   # Abstract class\n",
    "    @abstractmethod\n",
    "    def sound(self):   # Abstract method\n",
    "        pass\n",
    "\n",
    "class Dog(Animal):\n",
    "    def sound(self):   # Implementation in child class\n",
    "        return \"Bark\"\n",
    "\n",
    "class Cat(Animal):\n",
    "    def sound(self):\n",
    "        return \"Meow\"\n",
    "\n",
    "# a = Animal()   #  Error: Can't instantiate abstract class\n",
    "d = Dog()\n",
    "c = Cat()\n",
    "\n",
    "print(d.sound())   # Bark\n",
    "print(c.sound())   # Meow"
   ]
  },
  {
   "cell_type": "code",
   "execution_count": 39,
   "id": "b6490d00-e229-4614-b3b2-ada1ec341c5f",
   "metadata": {},
   "outputs": [],
   "source": [
    "#16. what are the advantage of OOP?\n",
    "#Ans-1. Modularity (Code Reusability)\n",
    "#Code is organized into classes and objects.\n",
    "#Once a class is written, it can be reused in other programs.\n",
    "#Example: A Car class can be reused in multiple projects.\n",
    "\n",
    "#2. Encapsulation (Data Security)\n",
    "#Data and methods are wrapped together in a class.\n",
    "#Access to sensitive data can be controlled using private/protected/public access.\n",
    "#Prevents accidental modification and hides internal details.\n",
    "\n",
    "#3. Inheritance (Code Reuse & Extensibility)\n",
    "#Child classes can reuse methods and attributes from parent classes.\n",
    "#Encourages extending existing code rather than rewriting it.\n",
    "#Example: A SportsCar class can inherit from Car and just add extra features.\n",
    "\n",
    "#4. Polymorphism (Flexibility)\n",
    "#Same function name or operator can have different meanings depending on the object.\n",
    "#Makes code more flexible and easy to extend.\n",
    "#Example: draw() works differently for Circle, Square, and Triangle.\n",
    "\n",
    "#5. Abstraction (Simplicity)\n",
    "#Hides complex implementation details, exposing only essential features.\n",
    "#Makes programs easier to use and maintain.\n",
    "#Example: You use a print() function without worrying about how it works internally.\n",
    "\n",
    "#6. Real-world Modeling\n",
    "#OOP allows programmers to map real-world entities into code (objects like Car, Employee, BankAccount).\n",
    "#Makes problem-solving more intuitive and natural.\n",
    "\n",
    "#7. Maintainability\n",
    "#Classes and objects make code more organized.\n",
    "#Easy to update or fix a specific class without disturbing other parts of the system.\n",
    "\n",
    "#8. Scalability\n",
    "#OOP is suitable for large, complex systems.\n",
    "#Teams can work on different classes/modules independently."
   ]
  },
  {
   "cell_type": "code",
   "execution_count": 41,
   "id": "1be46b65-03f7-46ae-8cf1-279746bd1442",
   "metadata": {},
   "outputs": [
    {
     "name": "stdout",
     "output_type": "stream",
     "text": [
      "Alice 25\n",
      "Bob 30\n"
     ]
    }
   ],
   "source": [
    "#17.what is difference between class variable and an instance variable?\n",
    "# Ans-\n",
    "#Class Variable\n",
    "# 1.Shared by all objects of the class\n",
    "# 2.nside the class, but outside methods\n",
    "# 3.ClassName.variable or object.variable\n",
    "# 4.Stored once in memory → shared by all objects\n",
    "# 5.Change affects all objects of that class\n",
    "# 6.Used for properties common to all objects (e.g., species = \"Human\")\n",
    "\n",
    "#Instance Variable\n",
    "# 1.Belongs to a specific object (instance)\n",
    "# 2.nside the __init__ method (or assigned via self)\n",
    "# 3.Always via self.variable\n",
    "#4.Each object has its own copy\n",
    "# 5.Change affects only that specific object\n",
    "# 6.Used for properties unique to each object (e.g., name, age)\n",
    "class Person:\n",
    "    # Class variable (shared by all objects)\n",
    "    species = \"Human\"\n",
    "\n",
    "    def __init__(self, name, age):\n",
    "        # Instance variables (unique for each object)\n",
    "        self.name = name\n",
    "        self.age = age\n",
    "\n",
    "# Create objects\n",
    "p1 = Person(\"Alice\", 25)\n",
    "p2 = Person(\"Bob\", 30)\n",
    "# Access instance variables\n",
    "print(p1.name, p1.age)   # Alice 25\n",
    "print(p2.name, p2.age)   # Bob 30"
   ]
  },
  {
   "cell_type": "code",
   "execution_count": 42,
   "id": "336511b3-1eb8-429f-a498-92001dc0aeef",
   "metadata": {},
   "outputs": [
    {
     "name": "stdout",
     "output_type": "stream",
     "text": [
      "Human\n",
      "Human\n",
      "Human\n"
     ]
    }
   ],
   "source": [
    "# Access class variable\n",
    "print(p1.species)        # Human\n",
    "print(p2.species)        # Human\n",
    "print(Person.species)    # Human"
   ]
  },
  {
   "cell_type": "code",
   "execution_count": 43,
   "id": "e5f39822-83b5-4814-9012-2d02e0f1227a",
   "metadata": {},
   "outputs": [
    {
     "name": "stdout",
     "output_type": "stream",
     "text": [
      "26\n",
      "30\n"
     ]
    }
   ],
   "source": [
    "# Changing instance variable (affects only that object)\n",
    "p1.age = 26\n",
    "print(p1.age)   # 26\n",
    "print(p2.age)   # 30"
   ]
  },
  {
   "cell_type": "code",
   "execution_count": 44,
   "id": "d1ddb460-c2aa-46f7-9839-346841e1e844",
   "metadata": {},
   "outputs": [
    {
     "name": "stdout",
     "output_type": "stream",
     "text": [
      "Homo Sapiens\n",
      "Homo Sapiens\n"
     ]
    }
   ],
   "source": [
    " #Changing class variable (affects all objects if not overridden)\n",
    "Person.species = \"Homo Sapiens\"\n",
    "print(p1.species)  # Homo Sapiens\n",
    "print(p2.species)  # Homo Sapiens"
   ]
  },
  {
   "cell_type": "code",
   "execution_count": 45,
   "id": "879e5fb6-95f7-4f44-a604-7e803e4d77ff",
   "metadata": {},
   "outputs": [
    {
     "name": "stdout",
     "output_type": "stream",
     "text": [
      "Child: Programming\n",
      "Father: Gardening, Carpentry\n",
      "Mother: Cooking, Painting\n"
     ]
    }
   ],
   "source": [
    "# 18. What is multiple inhertance in python?\n",
    "#Ans-Multiple inheritance means a class can inherit attributes and methods from more than one parent class.\n",
    "#Unlike some languages (like Java, which does not support multiple inheritance directly), Python fully supports multiple inheritance.\n",
    "#This allows a child class to combine features of multiple parent classes.\n",
    "# Parent class 1\n",
    "class Father:\n",
    "    def skills(self):\n",
    "        print(\"Father: Gardening, Carpentry\")\n",
    "\n",
    "# Parent class 2\n",
    "class Mother:\n",
    "    def skills(self):\n",
    "        print(\"Mother: Cooking, Painting\")\n",
    "\n",
    "# Child class (inherits from both Father and Mother)\n",
    "class Child(Father, Mother):\n",
    "    def skills(self):\n",
    "        print(\"Child: Programming\")\n",
    "        Father.skills(self)   # explicitly call Father method\n",
    "        Mother.skills(self)   # explicitly call Mother method\n",
    "\n",
    "# Create object\n",
    "c = Child()\n",
    "c.skills()"
   ]
  },
  {
   "cell_type": "code",
   "execution_count": 46,
   "id": "ca4a6c98-d52f-4830-92e0-a9955c84911a",
   "metadata": {},
   "outputs": [],
   "source": [
    "#Python uses C3 Linearization (MRO) to determine order."
   ]
  },
  {
   "cell_type": "code",
   "execution_count": 47,
   "id": "b8186690-ce50-4a04-8463-5cf8baa7f599",
   "metadata": {},
   "outputs": [],
   "source": [
    "# 19. Explain the purpose of \"__str__\" and \"__rep__\" method in python?\n",
    "#Ans- Both are dunder methods (double underscore methods) used to define how an object should be represented as a string.\n",
    "#__str__ (User-friendly string)\n",
    "#Purpose: Defines a human-readable string representation of the object.\n",
    "#Goal: To be informative & easy to read for end users.\n",
    "#Called when:\n",
    "#You use print(object)\n",
    "#Or str(object)\n",
    "\n",
    "#__repr__ (Developer-friendly string)\n",
    "#Purpose: Defines an official string representation of the object.\n",
    "#Goal: To be unambiguous and ideally return a string that could recreate the object if passed to eval().\n",
    "#Called when:\n",
    "#You use object directly in the REPL/console\n",
    "#Or call repr(object)\n"
   ]
  },
  {
   "cell_type": "code",
   "execution_count": 48,
   "id": "78c8547b-cfc6-47e1-aa7c-aa84152d2d47",
   "metadata": {},
   "outputs": [
    {
     "name": "stdout",
     "output_type": "stream",
     "text": [
      "Parent constructor called\n",
      "Child constructor called\n",
      "Alice 21\n"
     ]
    }
   ],
   "source": [
    "# 20 What is the siginificance of the super() function in python?\n",
    "# Ans-The super() function is used to call methods from a parent (base) class in a child (derived) class without explicitly naming the parent.\n",
    "#Significance :\n",
    "#Code Reusability\n",
    "#Allows child classes to reuse parent class methods/constructors without rewriting code.\n",
    "\n",
    "#Avoids Hardcoding Class Names\n",
    "\n",
    "#You don’t need to write ParentClass.method(self, ...).\n",
    "#Instead use super().method(...).\n",
    "\n",
    "#Makes code easier to maintain.\n",
    "#Supports Multiple Inheritance\n",
    "\n",
    "#Python uses MRO (Method Resolution Order).\n",
    "#super() ensures the next class in MRO is called correctly, preventing duplicate calls (important in multiple inheritance).\n",
    "\n",
    "#Constructor Chaining\n",
    "#Used to call the parent class constructor (__init__) inside a child class.\n",
    "#Using super() with Constructor\n",
    "class Parent:\n",
    "    def __init__(self, name):\n",
    "        self.name = name\n",
    "        print(\"Parent constructor called\")\n",
    "\n",
    "class Child(Parent):\n",
    "    def __init__(self, name, age):\n",
    "        super().__init__(name)   # Calls Parent __init__\n",
    "        self.age = age\n",
    "        print(\"Child constructor called\")\n",
    "\n",
    "c = Child(\"Alice\", 21)\n",
    "print(c.name, c.age)"
   ]
  },
  {
   "cell_type": "code",
   "execution_count": 49,
   "id": "74bb59d1-9fde-4427-86f5-1678585f3941",
   "metadata": {},
   "outputs": [
    {
     "name": "stdout",
     "output_type": "stream",
     "text": [
      "Animal makes a sound\n",
      "Dog barks\n"
     ]
    }
   ],
   "source": [
    "#Using super() in Methods\n",
    "class Animal:\n",
    "    def sound(self):\n",
    "        print(\"Animal makes a sound\")\n",
    "\n",
    "class Dog(Animal):\n",
    "    def sound(self):\n",
    "        super().sound()   # Call parent method\n",
    "        print(\"Dog barks\")\n",
    "\n",
    "d = Dog()\n",
    "d.sound()"
   ]
  },
  {
   "cell_type": "code",
   "execution_count": 50,
   "id": "f60a8b42-a283-44bc-8ff5-23b713793142",
   "metadata": {},
   "outputs": [
    {
     "name": "stdout",
     "output_type": "stream",
     "text": [
      "A init\n",
      "C init\n",
      "B init\n",
      "D init\n",
      "[<class '__main__.D'>, <class '__main__.B'>, <class '__main__.C'>, <class '__main__.A'>, <class 'object'>]\n"
     ]
    }
   ],
   "source": [
    "#Multiple Inheritance with super()\n",
    "class A:\n",
    "    def __init__(self):\n",
    "        print(\"A init\")\n",
    "\n",
    "class B(A):\n",
    "    def __init__(self):\n",
    "        super().__init__()   # Calls next in MRO\n",
    "        print(\"B init\")\n",
    "\n",
    "class C(A):\n",
    "    def __init__(self):\n",
    "        super().__init__()\n",
    "        print(\"C init\")\n",
    "\n",
    "class D(B, C):   # Multiple inheritance\n",
    "    def __init__(self):\n",
    "        super().__init__()   # Uses MRO\n",
    "        print(\"D init\")\n",
    "\n",
    "d = D()\n",
    "print(D.mro())  # Shows method resolution order"
   ]
  },
  {
   "cell_type": "code",
   "execution_count": 51,
   "id": "886d866f-6719-4928-8b77-96ddde491e6e",
   "metadata": {},
   "outputs": [],
   "source": [
    "# 21.What is significance of the __del__ method in python?\n",
    "# Ans-__del__ is called a destructor method.\n",
    "\n",
    "#It is executed when an object is about to be destroyed, i.e., when its reference count drops to zero and\n",
    "#Python’s garbage collector removes it from memory."
   ]
  },
  {
   "cell_type": "code",
   "execution_count": 52,
   "id": "032aa332-7893-43d1-a0f3-48fa4b817364",
   "metadata": {},
   "outputs": [
    {
     "name": "stdout",
     "output_type": "stream",
     "text": [
      "30\n"
     ]
    }
   ],
   "source": [
    "#22. What is the difference between @staticmethod and @classmethod in Python?\n",
    "#Ans-\n",
    "#@staticmethod\n",
    "#-Method that does not depend on instance (self) or class (cls).\n",
    "#-No special first argument (self/cls not required).\n",
    "#-can't access to Instance Attributes\n",
    "#-can't access to Class Variables\n",
    "#-Utility/helper methods that logically belong to the class but don’t need object/class data.\n",
    "\n",
    "#@classmethod\n",
    "#Method that operates on the class itself, not on a specific instance.\n",
    "#Takes cls (class reference) as the first argument.\n",
    "#can't access to Instance Attributes\n",
    "#can access to Class Variables\n",
    "#Alternative constructors, class-level operations, or methods that modify class state.\n",
    "#Example 1\n",
    "class Math:\n",
    "    @staticmethod\n",
    "    def add(a, b):\n",
    "        return a + b\n",
    "\n",
    "print(Math.add(10, 20))   # Works without creating object"
   ]
  },
  {
   "cell_type": "code",
   "execution_count": 53,
   "id": "85ad8bc9-9d88-410e-a6a6-2ef825b52f25",
   "metadata": {},
   "outputs": [
    {
     "name": "stdout",
     "output_type": "stream",
     "text": [
      "ABC School\n",
      "XYZ School\n"
     ]
    }
   ],
   "source": [
    "#Example2\n",
    "class Student:\n",
    "    school_name = \"ABC School\"\n",
    "\n",
    "    def __init__(self, name):\n",
    "        self.name = name\n",
    "\n",
    "    @classmethod\n",
    "    def change_school(cls, new_name):\n",
    "        cls.school_name = new_name   # modifies class variable\n",
    "\n",
    "s1 = Student(\"Alice\")\n",
    "s2 = Student(\"Bob\")\n",
    "\n",
    "print(Student.school_name)  # ABC School\n",
    "Student.change_school(\"XYZ School\")\n",
    "print(Student.school_name)  # XYZ School"
   ]
  },
  {
   "cell_type": "code",
   "execution_count": 54,
   "id": "2cb13815-6956-4979-aa7a-95096558c639",
   "metadata": {},
   "outputs": [
    {
     "name": "stdout",
     "output_type": "stream",
     "text": [
      "Bark\n",
      "Meow\n",
      "Some generic animal sound\n"
     ]
    }
   ],
   "source": [
    "# 23. How does polymorphism work in Python with inheritance?\n",
    "#Polymorphism = “one name, many forms.”\n",
    "#In OOP, it means the same method name can have different implementations depending on the object/class that calls it.\n",
    "#When combined with inheritance, polymorphism allows child classes to override parent class methods while keeping the same method name.\n",
    "# Example-Method Overriding (Classic Polymorphism)\n",
    "class Animal:\n",
    "    def sound(self):\n",
    "        return \"Some generic animal sound\"\n",
    "\n",
    "class Dog(Animal):\n",
    "    def sound(self):   # overriding parent method\n",
    "        return \"Bark\"\n",
    "\n",
    "class Cat(Animal):\n",
    "    def sound(self):   # overriding parent method\n",
    "        return \"Meow\"\n",
    "\n",
    "# Polymorphism in action\n",
    "animals = [Dog(), Cat(), Animal()]\n",
    "for a in animals:\n",
    "    print(a.sound())"
   ]
  },
  {
   "cell_type": "code",
   "execution_count": 55,
   "id": "be1b422c-2518-47b9-ac97-6356ddefb02d",
   "metadata": {},
   "outputs": [
    {
     "name": "stdout",
     "output_type": "stream",
     "text": [
      "Bark\n",
      "Meow\n"
     ]
    }
   ],
   "source": [
    "#Using Polymorphism in Functions\n",
    "def make_sound(animal):\n",
    "    print(animal.sound())\n",
    "\n",
    "make_sound(Dog())   # Bark\n",
    "make_sound(Cat())   # Meow"
   ]
  },
  {
   "cell_type": "code",
   "execution_count": 56,
   "id": "cf145f8e-ba57-48b4-b309-76fa85309357",
   "metadata": {},
   "outputs": [
    {
     "name": "stdout",
     "output_type": "stream",
     "text": [
      "Alice has 30 marks\n"
     ]
    },
    {
     "data": {
      "text/plain": [
       "<__main__.Student at 0x12893db9be0>"
      ]
     },
     "execution_count": 56,
     "metadata": {},
     "output_type": "execute_result"
    }
   ],
   "source": [
    "# 24. What is method of chaining?\n",
    "#Ans-Method Chaining is a technique where you call multiple methods on the same object in a single line, one after another.\n",
    "#Each method returns the object itself (self), so the next method can be called on it.\n",
    "#Without Method Chaining\n",
    "class Student:\n",
    "    def __init__(self, name):\n",
    "        self.name = name\n",
    "        self.marks = 0\n",
    "\n",
    "    def add_marks(self, marks):\n",
    "        self.marks += marks\n",
    "        return self\n",
    "\n",
    "    def display(self):\n",
    "        print(f\"{self.name} has {self.marks} marks\")\n",
    "        return self\n",
    "\n",
    "s = Student(\"Alice\")\n",
    "s.add_marks(10)\n",
    "s.add_marks(20)\n",
    "s.display()"
   ]
  },
  {
   "cell_type": "code",
   "execution_count": 57,
   "id": "e8da0dd0-d857-4725-99d9-f6b4500f5d6b",
   "metadata": {},
   "outputs": [
    {
     "name": "stdout",
     "output_type": "stream",
     "text": [
      "Bob has 40 marks\n"
     ]
    },
    {
     "data": {
      "text/plain": [
       "<__main__.Student at 0x1289532afd0>"
      ]
     },
     "execution_count": 57,
     "metadata": {},
     "output_type": "execute_result"
    }
   ],
   "source": [
    "# With Method Chaining\n",
    "s = Student(\"Bob\")\n",
    "s.add_marks(15).add_marks(25).display()"
   ]
  },
  {
   "cell_type": "code",
   "execution_count": 58,
   "id": "1c9511cb-fcf5-445f-aa83-882b5eb61434",
   "metadata": {},
   "outputs": [
    {
     "name": "stdout",
     "output_type": "stream",
     "text": [
      "Hello, Alice!\n",
      "Good morning, Alice!\n"
     ]
    }
   ],
   "source": [
    "# 25. What is the purpose of the __call__ method in python?\n",
    "#The __call__ method allows an instance of a class to be called like a function.\n",
    "#If a class defines __call__, then its objects can be invoked with parentheses (), just like functions.\n",
    "#Example:\n",
    "class Greeting:\n",
    "    def __init__(self, name):\n",
    "        self.name = name\n",
    "\n",
    "    def __call__(self, message):\n",
    "        return f\"{message}, {self.name}!\"\n",
    "\n",
    "greet = Greeting(\"Alice\")\n",
    "\n",
    "print(greet(\"Hello\"))   # Object behaves like a function\n",
    "print(greet(\"Good morning\"))"
   ]
  },
  {
   "cell_type": "code",
   "execution_count": 59,
   "id": "371ca373-f357-4fdf-ac9c-10c80c7aec18",
   "metadata": {},
   "outputs": [],
   "source": [
    "# Practical Question..."
   ]
  },
  {
   "cell_type": "code",
   "execution_count": 60,
   "id": "f8c8fa13-9e2e-4e22-8d68-c2f43ead74d8",
   "metadata": {},
   "outputs": [
    {
     "name": "stdout",
     "output_type": "stream",
     "text": [
      "This animal makes a sound.\n",
      "Bark\n"
     ]
    }
   ],
   "source": [
    "# 1.Create a parent class Animal with a method speak() that prints a genric message. \n",
    "#create a child class Dog that overrides the speak() method to print \"Bark\"\n",
    "#Ans-\n",
    "# Parent class\n",
    "class Animal:\n",
    "    def speak(self):\n",
    "        print(\"This animal makes a sound.\")\n",
    "\n",
    "# Child class\n",
    "class Dog(Animal):\n",
    "    def speak(self):  # overriding parent method\n",
    "        print(\"Bark\")\n",
    "\n",
    "# Example usage\n",
    "a = Animal()\n",
    "a.speak()   # Output: This animal makes a sound.\n",
    "\n",
    "d = Dog()\n",
    "d.speak()   # Output: Bark"
   ]
  },
  {
   "cell_type": "code",
   "execution_count": 2,
   "id": "14a39348-2b3c-4c00-86ff-f11d500534c1",
   "metadata": {},
   "outputs": [
    {
     "name": "stdout",
     "output_type": "stream",
     "text": [
      "Area of Circle: 78.54\n",
      "Area of Rectangle: 24\n"
     ]
    }
   ],
   "source": [
    "#2.Write  a programme to create an abstract class shape with  a methode area().derive classsess circle and reactangle from it and \n",
    "#implement the area() method in both?\n",
    "#Ans-\n",
    "from abc import ABC, abstractmethod\n",
    "import math\n",
    "\n",
    "# Abstract class\n",
    "class Shape(ABC):\n",
    "    @abstractmethod\n",
    "    def area(self):\n",
    "        pass\n",
    "\n",
    "# Derived class: Circle\n",
    "class Circle(Shape):\n",
    "    def __init__(self, radius):\n",
    "        self.radius = radius\n",
    "    \n",
    "    def area(self):\n",
    "        return math.pi * self.radius * self.radius\n",
    "\n",
    "# Derived class: Rectangle\n",
    "class Rectangle(Shape):\n",
    "    def __init__(self, length, width):\n",
    "        self.length = length\n",
    "        self.width = width\n",
    "    \n",
    "    def area(self):\n",
    "        return self.length * self.width\n",
    "\n",
    "# Example usage\n",
    "circle = Circle(5)\n",
    "rectangle = Rectangle(4, 6)\n",
    "\n",
    "print(f\"Area of Circle: {circle.area():.2f}\")\n",
    "print(f\"Area of Rectangle: {rectangle.area()}\")"
   ]
  },
  {
   "cell_type": "code",
   "execution_count": 1,
   "id": "0d67b9c6-e3c4-4433-a6b2-bc7ff05709ec",
   "metadata": {},
   "outputs": [],
   "source": [
    "# 3.Implement a multilevel inheritace scenario where a class vechile has an attribute type. derive a class car  and further derive a class electric car that adds  a battery attribute?\n",
    "# Base class\n",
    "class Vehicle:\n",
    "    def __init__(self, vehicle_type):\n",
    "        self.type = vehicle_type\n",
    "\n",
    "    def display_info(self):\n",
    "        print(f\"Vehicle Type: {self.type}\")\n",
    "\n",
    "\n",
    "# Derived class from Vehicle\n",
    "class Car(Vehicle):\n",
    "    def __init__(self, vehicle_type, brand):\n",
    "        # Call parent constructor\n",
    "        super().__init__(vehicle_type)\n",
    "        self.brand = brand\n",
    "\n",
    "    def display_info(self):\n",
    "        super().display_info()\n",
    "        print(f\"Car Brand: {self.brand}\")\n",
    "\n",
    "\n",
    "# Further derived class from Car\n",
    "class ElectricCar(Car):\n",
    "    def __init__(self, vehicle_type, brand, battery_capacity):\n",
    "        # Call parent constructor\n",
    "        super().__init__(vehicle_type, brand)\n",
    "        self.battery = battery_capacity\n",
    "\n",
    "    def display_info(self):\n",
    "        super().display_info()\n",
    "        print(f\"Battery Capacity: {self.battery} kWh\")"
   ]
  },
  {
   "cell_type": "code",
   "execution_count": 2,
   "id": "64d37a38-f45e-4769-bcd5-27552a73eafc",
   "metadata": {},
   "outputs": [
    {
     "name": "stdout",
     "output_type": "stream",
     "text": [
      "Vehicle Type: Four Wheeler\n",
      "Car Brand: Tesla\n",
      "Battery Capacity: 85 kWh\n"
     ]
    }
   ],
   "source": [
    "e_car = ElectricCar(\"Four Wheeler\", \"Tesla\", 85)\n",
    "e_car.display_info()"
   ]
  },
  {
   "cell_type": "code",
   "execution_count": 3,
   "id": "c6a0e151-32ac-4d5f-b4a8-095dbd29059d",
   "metadata": {},
   "outputs": [
    {
     "name": "stdout",
     "output_type": "stream",
     "text": [
      "Sparrow flies high in the sky.\n",
      "Penguins cannot fly, they swim instead.\n"
     ]
    }
   ],
   "source": [
    "#4. Demonstrate polymorphism by creating a base class bird with a method fly().create two derived classes sparrow and Penguine that \n",
    "#override the fly() methode?\n",
    "# Base class\n",
    "class Bird:\n",
    "    def fly(self):\n",
    "        print(\"Birds can usually fly.\")\n",
    "\n",
    "# Derived class 1\n",
    "class Sparrow(Bird):\n",
    "    def fly(self):\n",
    "        print(\"Sparrow flies high in the sky.\")\n",
    "\n",
    "# Derived class 2\n",
    "class Penguin(Bird):\n",
    "    def fly(self):\n",
    "        print(\"Penguins cannot fly, they swim instead.\")\n",
    "\n",
    "# Demonstrating polymorphism\n",
    "def show_flight(bird_obj):\n",
    "    bird_obj.fly()   # Calls the overridden method based on object type\n",
    "\n",
    "# Create objects\n",
    "sparrow = Sparrow()\n",
    "penguin = Penguin()\n",
    "\n",
    "# Test polymorphism\n",
    "show_flight(sparrow)   # Calls Sparrow's version\n",
    "show_flight(penguin)   # Calls Penguin's version"
   ]
  },
  {
   "cell_type": "code",
   "execution_count": 6,
   "id": "2b0cd9c3-3e26-4c1f-a076-e2aac3970a07",
   "metadata": {},
   "outputs": [
    {
     "name": "stdout",
     "output_type": "stream",
     "text": [
      "Deposited: 500\n",
      "Withdrawn: 300\n",
      "Current Balance: 1200\n"
     ]
    }
   ],
   "source": [
    "# Write a programme to demonstrate encapsulation by creating a class Bank account with private atributes balace and methode to deposit,\n",
    "#withdraw and check balance?\n",
    "class BankAccount:\n",
    "    def __init__(self, initial_balance=0):\n",
    "        # Private attribute\n",
    "        self.__balance = initial_balance  \n",
    "\n",
    "    # Method to deposit money\n",
    "    def deposit(self, amount):\n",
    "        if amount > 0:\n",
    "            self.__balance += amount\n",
    "            print(f\"Deposited: {amount}\")\n",
    "        else:\n",
    "            print(\"Deposit amount must be positive.\")\n",
    "\n",
    "    # Method to withdraw money\n",
    "    def withdraw(self, amount):\n",
    "        if 0 < amount <= self.__balance:\n",
    "            self.__balance -= amount\n",
    "            print(f\"Withdrawn: {amount}\")\n",
    "        else:\n",
    "            print(\"Insufficient balance or invalid amount.\")\n",
    "\n",
    "    # Method to check balance\n",
    "    def get_balance(self):\n",
    "        return self.__balance\n",
    "\n",
    "\n",
    "# Example usage\n",
    "account = BankAccount(1000)  # Opening account with 1000\n",
    "account.deposit(500)         # Deposit money\n",
    "account.withdraw(300)        # Withdraw money\n",
    "print(\"Current Balance:\", account.get_balance())"
   ]
  },
  {
   "cell_type": "code",
   "execution_count": 7,
   "id": "6f94703e-ee23-46b8-b7c6-a8bd2538c7b4",
   "metadata": {},
   "outputs": [],
   "source": [
    "# Trying to access private attribute directly (will not work)"
   ]
  },
  {
   "cell_type": "code",
   "execution_count": 8,
   "id": "9d1ad077-4a0d-4c78-ae5b-e53da3237937",
   "metadata": {},
   "outputs": [
    {
     "name": "stdout",
     "output_type": "stream",
     "text": [
      "Strumming the guitar\n",
      "Playing the piano \n",
      "Strumming the guitar\n",
      "Playing the piano \n",
      "Playing some instrument sound.\n"
     ]
    }
   ],
   "source": [
    "#6. Demonstrate runtime polymorphism using a method play() in a base class instrument. derive classes guitar and piano that implement their own version of play().\n",
    "# Base class\n",
    "class Instrument:\n",
    "    def play(self):\n",
    "        print(\"Playing some instrument sound.\")\n",
    "\n",
    "# Derived class 1\n",
    "class Guitar(Instrument):\n",
    "    def play(self):\n",
    "        print(\"Strumming the guitar\")\n",
    "\n",
    "# Derived class 2\n",
    "class Piano(Instrument):\n",
    "    def play(self):\n",
    "        print(\"Playing the piano \")\n",
    "\n",
    "# Demonstrating runtime polymorphism\n",
    "def start_playing(instrument_obj):\n",
    "    instrument_obj.play()   # Which play() is called depends on the object\n",
    "\n",
    "# Create objects\n",
    "g = Guitar()\n",
    "p = Piano()\n",
    "\n",
    "# Test polymorphism\n",
    "start_playing(g)   # Calls Guitar's play()\n",
    "start_playing(p)   # Calls Piano's play()\n",
    "\n",
    "# Even more polymorphism with a loop\n",
    "instruments = [Guitar(), Piano(), Instrument()]\n",
    "\n",
    "for inst in instruments:\n",
    "    inst.play()   # Runtime decides which version to execute"
   ]
  },
  {
   "cell_type": "code",
   "execution_count": 9,
   "id": "3d2c210e-1238-4142-9863-7652fc58434c",
   "metadata": {},
   "outputs": [
    {
     "name": "stdout",
     "output_type": "stream",
     "text": [
      "Addition: 15\n",
      "Subtraction: 5\n"
     ]
    }
   ],
   "source": [
    "#7. Create  a class Math opearation with a class method add_number() to add two number and a static method subtract_number() to substract two numbers?\n",
    "class MathOperation:\n",
    "    # Class method (has access to the class)\n",
    "    @classmethod\n",
    "    def add_number(cls, a, b):\n",
    "        return a + b\n",
    "\n",
    "    # Static method (no access to class or instance)\n",
    "    @staticmethod\n",
    "    def subtract_number(a, b):\n",
    "        return a - b\n",
    "\n",
    "\n",
    "# Example usage\n",
    "print(\"Addition:\", MathOperation.add_number(10, 5))      # Using class method\n",
    "print(\"Subtraction:\", MathOperation.subtract_number(10, 5))  # Using static method"
   ]
  },
  {
   "cell_type": "code",
   "execution_count": 10,
   "id": "ebd59811-d87a-4099-8137-4a2ad0fe8806",
   "metadata": {},
   "outputs": [
    {
     "name": "stdout",
     "output_type": "stream",
     "text": [
      "Total Persons created: 3\n"
     ]
    }
   ],
   "source": [
    "#8. implement a class person with a class method to count the total number created?\n",
    "class Person:\n",
    "    # Class variable to track number of objects\n",
    "    count = 0\n",
    "\n",
    "    def __init__(self, name):\n",
    "        self.name = name\n",
    "        # Increment count whenever a new object is created\n",
    "        Person.count += 1\n",
    "\n",
    "    # Class method to access class variable\n",
    "    @classmethod\n",
    "    def get_count(cls):\n",
    "        return cls.count\n",
    "\n",
    "\n",
    "# Example usage\n",
    "p1 = Person(\"Alice\")\n",
    "p2 = Person(\"Bob\")\n",
    "p3 = Person(\"Charlie\")\n",
    "\n",
    "print(\"Total Persons created:\", Person.get_count())"
   ]
  },
  {
   "cell_type": "code",
   "execution_count": 11,
   "id": "52cd7220-865a-4312-9c27-56274538e436",
   "metadata": {},
   "outputs": [
    {
     "name": "stdout",
     "output_type": "stream",
     "text": [
      "3/4\n",
      "7/2\n"
     ]
    }
   ],
   "source": [
    "#9. write a class fFraction with attributes numerator and denomenator. override the str method to display the fraction as \"numerator/denomenator\"?\n",
    "class Fraction:\n",
    "    def __init__(self, numerator, denominator):\n",
    "        self.numerator = numerator\n",
    "        self.denominator = denominator\n",
    "\n",
    "    # Overriding __str__ method\n",
    "    def __str__(self):\n",
    "        return f\"{self.numerator}/{self.denominator}\"\n",
    "\n",
    "\n",
    "# Example usage\n",
    "f1 = Fraction(3, 4)\n",
    "f2 = Fraction(7, 2)\n",
    "\n",
    "print(f1)  \n",
    "print(f2)  "
   ]
  },
  {
   "cell_type": "code",
   "execution_count": 12,
   "id": "4155db94-c4ac-4d09-ab31-108cde5cf728",
   "metadata": {},
   "outputs": [
    {
     "name": "stdout",
     "output_type": "stream",
     "text": [
      "Vector(6, 8)\n"
     ]
    }
   ],
   "source": [
    "#10.Demonstarte opeartor overloading by creating a class vector and overriding the add method to add two vector?\n",
    "class Vector:\n",
    "    def __init__(self, x, y):\n",
    "        self.x = x\n",
    "        self.y = y\n",
    "\n",
    "    # Overloading + operator\n",
    "    def __add__(self, other):\n",
    "        return Vector(self.x + other.x, self.y + other.y)\n",
    "\n",
    "    # To display the vector nicely\n",
    "    def __str__(self):\n",
    "        return f\"Vector({self.x}, {self.y})\"\n",
    "\n",
    "\n",
    "# Example usage\n",
    "v1 = Vector(2, 3)\n",
    "v2 = Vector(4, 5)\n",
    "\n",
    "v3 = v1 + v2   # Uses __add__()\n",
    "print(v3)      "
   ]
  },
  {
   "cell_type": "code",
   "execution_count": 13,
   "id": "af3d38d3-799e-4f60-8461-1b0c71c6e831",
   "metadata": {},
   "outputs": [
    {
     "name": "stdout",
     "output_type": "stream",
     "text": [
      "Hello, my name is Alice and I am 25 years old.\n",
      "Hello, my name is Bob and I am 30 years old.\n"
     ]
    }
   ],
   "source": [
    "# 11. create a class person with attribute name and age.add a method greet() that prints\" Hello, my name is{name} and i am {age} years old?\n",
    "class Person:\n",
    "    def __init__(self, name, age):\n",
    "        self.name = name\n",
    "        self.age = age\n",
    "\n",
    "    def greet(self):\n",
    "        print(f\"Hello, my name is {self.name} and I am {self.age} years old.\")\n",
    "\n",
    "\n",
    "# Example usage\n",
    "p1 = Person(\"Alice\", 25)\n",
    "p2 = Person(\"Bob\", 30)\n",
    "\n",
    "p1.greet()\n",
    "p2.greet()"
   ]
  },
  {
   "cell_type": "code",
   "execution_count": 14,
   "id": "5a3b0357-4197-4610-ade1-9bd670fedae3",
   "metadata": {},
   "outputs": [
    {
     "name": "stdout",
     "output_type": "stream",
     "text": [
      "Alice's average grade: 86.25\n",
      "Bob's average grade: 71.67\n",
      "Charlie's average grade: 0.00\n"
     ]
    }
   ],
   "source": [
    "# 12. Implement  a class student with attributes name and grades.create a method average_grade() to comput the average grades?\n",
    "class Student:\n",
    "    def __init__(self, name, grades):\n",
    "        self.name = name\n",
    "        self.grades = grades  # list of grades\n",
    "\n",
    "    def average_grade(self):\n",
    "        if len(self.grades) == 0:\n",
    "            return 0   # avoid division by zero\n",
    "        return sum(self.grades) / len(self.grades)\n",
    "\n",
    "\n",
    "# Example usage\n",
    "s1 = Student(\"Alice\", [85, 90, 78, 92])\n",
    "s2 = Student(\"Bob\", [70, 65, 80])\n",
    "s3 = Student(\"Charlie\", [])\n",
    "\n",
    "print(f\"{s1.name}'s average grade: {s1.average_grade():.2f}\")\n",
    "print(f\"{s2.name}'s average grade: {s2.average_grade():.2f}\")\n",
    "print(f\"{s3.name}'s average grade: {s3.average_grade():.2f}\")"
   ]
  },
  {
   "cell_type": "code",
   "execution_count": 15,
   "id": "939974c6-06da-423c-80a3-ba73098b41b6",
   "metadata": {},
   "outputs": [
    {
     "name": "stdout",
     "output_type": "stream",
     "text": [
      "Area of rectangle: 50\n"
     ]
    }
   ],
   "source": [
    "# 13.create a class reactangle with method set_dimension() to set the dimensions and area() to calculate the area?\n",
    "class Rectangle:\n",
    "    def __init__(self):\n",
    "        self.length = 0\n",
    "        self.width = 0\n",
    "\n",
    "    # Method to set dimensions\n",
    "    def set_dimension(self, length, width):\n",
    "        self.length = length\n",
    "        self.width = width\n",
    "\n",
    "    # Method to calculate area\n",
    "    def area(self):\n",
    "        return self.length * self.width\n",
    "\n",
    "\n",
    "# Example usage\n",
    "rect = Rectangle()\n",
    "rect.set_dimension(10, 5)\n",
    "print(\"Area of rectangle:\", rect.area())"
   ]
  },
  {
   "cell_type": "code",
   "execution_count": 16,
   "id": "dfe04859-d576-44d2-9dcd-77884010e2e9",
   "metadata": {},
   "outputs": [
    {
     "name": "stdout",
     "output_type": "stream",
     "text": [
      "Employee Salary: 8000\n",
      "Manager Salary: 17000\n"
     ]
    }
   ],
   "source": [
    "# 14. create a class employee with a calculate_salary() that computes the salary based on hours workset and hourly rate.create a derived class manger that add a bonus to the salary?\n",
    "# Base class\n",
    "class Employee:\n",
    "    def __init__(self, hours_worked, hourly_rate):\n",
    "        self.hours_worked = hours_worked\n",
    "        self.hourly_rate = hourly_rate\n",
    "\n",
    "    def calculate_salary(self):\n",
    "        return self.hours_worked * self.hourly_rate\n",
    "\n",
    "\n",
    "# Derived class\n",
    "class Manager(Employee):\n",
    "    def __init__(self, hours_worked, hourly_rate, bonus):\n",
    "        super().__init__(hours_worked, hourly_rate)  # call parent constructor\n",
    "        self.bonus = bonus\n",
    "\n",
    "    def calculate_salary(self):\n",
    "        base_salary = super().calculate_salary()  # get salary from Employee\n",
    "        return base_salary + self.bonus\n",
    "\n",
    "\n",
    "# Example usage\n",
    "emp = Employee(40, 200)       # 40 hours × 200/hr\n",
    "mgr = Manager(40, 300, 5000)  # 40 hours × 300/hr + 5000 bonus\n",
    "\n",
    "print(\"Employee Salary:\", emp.calculate_salary())\n",
    "print(\"Manager Salary:\", mgr.calculate_salary())"
   ]
  },
  {
   "cell_type": "code",
   "execution_count": 17,
   "id": "33f0a608-b745-42ca-958a-df294f464e94",
   "metadata": {},
   "outputs": [
    {
     "name": "stdout",
     "output_type": "stream",
     "text": [
      "Total price of Laptop: 100000\n",
      "Total price of Phone: 60000\n"
     ]
    }
   ],
   "source": [
    "#15. craete a class product with attributes name, price, and quantity.Implement a method total_price() that calculates the total price of the product?\n",
    "class Product:\n",
    "    def __init__(self, name, price, quantity):\n",
    "        self.name = name\n",
    "        self.price = price\n",
    "        self.quantity = quantity\n",
    "\n",
    "    def total_price(self):\n",
    "        return self.price * self.quantity\n",
    "\n",
    "\n",
    "# Example usage\n",
    "p1 = Product(\"Laptop\", 50000, 2)\n",
    "p2 = Product(\"Phone\", 20000, 3)\n",
    "\n",
    "print(f\"Total price of {p1.name}: {p1.total_price()}\")\n",
    "print(f\"Total price of {p2.name}: {p2.total_price()}\")"
   ]
  },
  {
   "cell_type": "code",
   "execution_count": 18,
   "id": "cb380972-e696-49b9-b4ad-175fd18371e2",
   "metadata": {},
   "outputs": [
    {
     "name": "stdout",
     "output_type": "stream",
     "text": [
      "Cow sound: Moo\n",
      "Sheep sound: Baa\n"
     ]
    }
   ],
   "source": [
    "# 16. create a class animal with tan abstract method sound(). create two derived classess cow and sheep that implement the sound() method?\n",
    "from abc import ABC, abstractmethod\n",
    "\n",
    "# Abstract base class\n",
    "class Animal(ABC):\n",
    "    @abstractmethod\n",
    "    def sound(self):\n",
    "        pass\n",
    "\n",
    "\n",
    "# Derived class 1\n",
    "class Cow(Animal):\n",
    "    def sound(self):\n",
    "        return \"Moo\"\n",
    "\n",
    "\n",
    "# Derived class 2\n",
    "class Sheep(Animal):\n",
    "    def sound(self):\n",
    "        return \"Baa\"\n",
    "\n",
    "\n",
    "# Example usage\n",
    "cow = Cow()\n",
    "sheep = Sheep()\n",
    "\n",
    "print(\"Cow sound:\", cow.sound())\n",
    "print(\"Sheep sound:\", sheep.sound())"
   ]
  },
  {
   "cell_type": "code",
   "execution_count": 20,
   "id": "15db04e6-88e7-4c0a-8066-f18d255ed260",
   "metadata": {},
   "outputs": [
    {
     "name": "stdout",
     "output_type": "stream",
     "text": [
      "'The Great Gatsby' by F. Scott Fitzgerald, published in 1925\n",
      "'1984' by George Orwell, published in 1949\n"
     ]
    }
   ],
   "source": [
    "#17.Create a  class Book with attribute titles ,auther and year_publised. add a method get_book_info() that returns a formatted string with the book's details?\n",
    "class Book:\n",
    "    def __init__(self, title, author, year_published):\n",
    "        self.title = title\n",
    "        self.author = author\n",
    "        self.year_published = year_published\n",
    "\n",
    "    def get_book_info(self):\n",
    "        return f\"'{self.title}' by {self.author}, published in {self.year_published}\"\n",
    "    \n",
    "\n",
    "# Example usage\n",
    "book1 = Book(\"The Great Gatsby\", \"F. Scott Fitzgerald\", 1925)\n",
    "book2 = Book(\"1984\", \"George Orwell\", 1949)\n",
    "\n",
    "print(book1.get_book_info())\n",
    "print(book2.get_book_info())"
   ]
  },
  {
   "cell_type": "code",
   "execution_count": 21,
   "id": "dd2b4926-20ce-4e68-91e4-b47137d5cc1b",
   "metadata": {},
   "outputs": [
    {
     "name": "stdout",
     "output_type": "stream",
     "text": [
      "House located at 123 Main St, Price: 5000000\n",
      "Mansion located at 456 Luxury Ave, Price: 25000000, Rooms: 15\n"
     ]
    }
   ],
   "source": [
    "#18. Create  aclass House with attributes address and price. create a derived class mansion that adds on attribute number_of_rooms?\n",
    "# Base class\n",
    "class House:\n",
    "    def __init__(self, address, price):\n",
    "        self.address = address\n",
    "        self.price = price\n",
    "\n",
    "    def get_info(self):\n",
    "        return f\"House located at {self.address}, Price: {self.price}\"\n",
    "\n",
    "\n",
    "# Derived class\n",
    "class Mansion(House):\n",
    "    def __init__(self, address, price, number_of_rooms):\n",
    "        super().__init__(address, price)   # Call parent constructor\n",
    "        self.number_of_rooms = number_of_rooms\n",
    "\n",
    "    def get_info(self):\n",
    "        return f\"Mansion located at {self.address}, Price: {self.price}, Rooms: {self.number_of_rooms}\"\n",
    "\n",
    "\n",
    "# Example usage\n",
    "house = House(\"123 Main St\", 5000000)\n",
    "mansion = Mansion(\"456 Luxury Ave\", 25000000, 15)\n",
    "\n",
    "print(house.get_info())\n",
    "print(mansion.get_info())"
   ]
  },
  {
   "cell_type": "code",
   "execution_count": null,
   "id": "328d9187-87a3-48a8-b86c-73f3963eebe9",
   "metadata": {},
   "outputs": [],
   "source": []
  }
 ],
 "metadata": {
  "kernelspec": {
   "display_name": "Python 3 (ipykernel)",
   "language": "python",
   "name": "python3"
  },
  "language_info": {
   "codemirror_mode": {
    "name": "ipython",
    "version": 3
   },
   "file_extension": ".py",
   "mimetype": "text/x-python",
   "name": "python",
   "nbconvert_exporter": "python",
   "pygments_lexer": "ipython3",
   "version": "3.13.5"
  }
 },
 "nbformat": 4,
 "nbformat_minor": 5
}
