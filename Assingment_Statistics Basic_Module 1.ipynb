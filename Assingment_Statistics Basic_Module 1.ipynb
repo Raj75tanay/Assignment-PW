{
 "cells": [
  {
   "cell_type": "code",
   "execution_count": 1,
   "id": "750f63f4-adf1-4b65-9134-a765b4fdd85f",
   "metadata": {},
   "outputs": [],
   "source": [
    "#Assingment: Statistis Basisc_module 1"
   ]
  },
  {
   "cell_type": "code",
   "execution_count": 2,
   "id": "5badfd96-a913-4821-a7a1-3c4b8f6b6757",
   "metadata": {},
   "outputs": [
    {
     "data": {
      "text/plain": [
       "'\\nFrom the same 50 students, suppose they were randomly selected from all students in the school (say 1000 students total).\\n\\nWe could estimate the average score of all 1000 students based on the sample mean.\\n\\nWe might test: “Is the average score of the whole school above 70?” using a t-test.\\n\\nEven though we only measured 50 students, inferential statistics allows us to make predictions about all 1000.\\n'"
      ]
     },
     "execution_count": 2,
     "metadata": {},
     "output_type": "execute_result"
    }
   ],
   "source": [
    "#1. What is the difference between descriptive statistics and inferential statistics ?Explain with Examples.\n",
    "#Ans:Descriptive Statistics\n",
    "#Purpose: Summarizes and describes the main features of a dataset.\n",
    "#Focus: What the data shows.\n",
    "#Does not make predictions or generalizations beyond the dataset.\n",
    "#Common tools: Mean, median, mode, standard deviation, range, frequency tables, charts/graphs.\n",
    "'''\n",
    " Example:\n",
    "Suppose we collected the exam scores of 50 students in a class.\n",
    "\n",
    "Mean score = 72\n",
    "\n",
    "Median score = 75\n",
    "\n",
    "Highest score = 95, lowest = 40\n",
    "\n",
    "Standard deviation = 10\n",
    "\n",
    "These numbers describe what happened in that class only.\n",
    "'''\n",
    "#Inferential Statistics\n",
    "#Purpose: Uses a sample of data to make inferences, predictions, or generalizations about a larger population.\n",
    "#Focus: What we can conclude or predict beyond the data we collected.\n",
    "#Common tools: Hypothesis testing, confidence intervals, regression analysis, t-tests, chi-square tests.\n",
    "'''\n",
    "From the same 50 students, suppose they were randomly selected from all students in the school (say 1000 students total).\n",
    "\n",
    "We could estimate the average score of all 1000 students based on the sample mean.\n",
    "\n",
    "We might test: “Is the average score of the whole school above 70?” using a t-test.\n",
    "\n",
    "Even though we only measured 50 students, inferential statistics allows us to make predictions about all 1000.\n",
    "'''"
   ]
  },
  {
   "cell_type": "code",
   "execution_count": 3,
   "id": "054905a6-d13f-45f2-8ba3-8c1ffa79593d",
   "metadata": {},
   "outputs": [],
   "source": [
    "#2 What is sampling in statistics? Explain the difference between random and stratified sampling?\n",
    "#Ans:Sampling is the process of selecting a subset of individuals (a sample) from a larger group (the population) \n",
    "#to study and draw conclusions about the population.\n",
    "#1. Random Sampling\n",
    "#a)Every individual in the population has an equal chance of being selected.\n",
    "#b)Selection is done purely by chance (like a lottery draw).\n",
    "#c)It avoids bias, but the sample may not always represent important sub-groups (like gender, age groups, income levels).\n",
    "# Example:\n",
    "#Suppose a school has 1000 students. To survey their opinions on cafeteria food, we randomly pick 100 students by generating random roll numbers.\n",
    "#Advantage: Simple, unbiased.\n",
    "#Limitation: May end up with too many students from one grade and too few from another (not well distributed).\n",
    "\n",
    "#2. Stratified Sampling\n",
    "\n",
    "#a)Population is divided into strata (groups) based on a characteristic (like gender, grade, income level, etc.).\n",
    "#b)Then, a random sample is taken from each stratum, usually proportional to its size in the population.\n",
    "#c)Ensures representation of all sub-groups.\n",
    "\n",
    "#Example:\n",
    "#Same school of 1000 students, divided by grade:\n",
    "#Grade 6 = 200 students, Grade 7 = 300, Grade 8 = 500.\n",
    "#If we want a sample of 100 students, you select proportionally:\n",
    "#20 from Grade 6, 30 from Grade 7, 50 from Grade 8 (randomly chosen within each grade).\n",
    "#Advantage: More representative across sub-groups.\n",
    "#Limitation: More complex to organiz"
   ]
  },
  {
   "cell_type": "code",
   "execution_count": 4,
   "id": "4b7103b4-7ab1-487a-b7a4-26b167a0ea0a",
   "metadata": {},
   "outputs": [],
   "source": [
    "#3.Define mean,median and mode. Expain why these measures of central tendancy are important?\n",
    "#Ans:1. Mean (Arithmetic Average)\n",
    "#The sum of all data values divided by the number of values.\n",
    "#Formula:\n",
    "#Mean= sum of all observation/number of observation.\n",
    "# b)Median\n",
    "#The middle value when data is arranged in ascending (or descending) order.\n",
    "#If the number of values is odd, the median is the middle value.\n",
    "#If even, it is the average of the two middle values.\n",
    "\n",
    "#c)Mode:The value that occurs most frequently in a dataset.\n",
    "#A dataset can have:\n",
    "#No mode (if all values are unique),\n",
    "#One mode (unimodal),\n",
    "#Two modes (bimodal),\n",
    "#Or more (multimodal).\n",
    "#These are called measures of central tendency because they describe the “center” or “typical value” in a dataset.\n",
    "#Mean → Good for numerical data and balanced distributions; useful in most statistical analysis.\n",
    "#Median → Useful when data has outliers or skewness (e.g., income distribution).\n",
    "#Mode → Useful for categorical data (e.g., most common blood group, most sold product).\n"
   ]
  },
  {
   "cell_type": "code",
   "execution_count": 5,
   "id": "eb17dea0-774c-41dc-b170-054885ccf17b",
   "metadata": {},
   "outputs": [],
   "source": [
    "#4. Explain skewnes and kurtosis .what does a positive skew imply about the data?\n",
    "#Ans:Skewness:\n",
    "#Definition: Skewness measures the asymmetry of a data distribution around its mean.\n",
    "#A perfectly symmetric distribution (like a normal distribution) has skewness = 0.\n",
    "#Types of Skewness:\n",
    "#Positive Skew (Right-skewed)\n",
    "#Tail on the right side is longer.\n",
    "#Mean > Median > Mode.\n",
    "#Many small values, few very large values.\n",
    "#Example: Income distribution (most people earn low-to-middle salaries, but a few earn extremely high).\n",
    "#Negative Skew (Left-skewed)\n",
    "#Tail on the left side is longer.\n",
    "#Mean < Median < Mode.\n",
    "#Many large values, few very small values.\n",
    "#Example: Retirement age (most people retire at 60–65, but a few retire very early).\n",
    "\n",
    "# b) Kurtosis\n",
    "#Definition: Kurtosis measures the “tailedness” or peakedness of a distribution compared to a normal distribution.\n",
    "#A normal distribution has kurtosis ≈ 3 (often excess kurtosis = 0).\n",
    "#Types of Kurtosis:\n",
    "#Leptokurtic (Kurtosis > 3) → Heavy tails, sharp peak (more outliers).\n",
    "#Mesokurtic (Kurtosis = 3) → Normal distribution.\n",
    "#Platykurtic (Kurtosis < 3) → Light tails, flatter peak (fewer outliers).\n",
    "#Example:\n",
    "#Exam scores with many students getting similar marks → Platykurtic.\n",
    "#Stock market returns with extreme ups and downs → Leptokurtic."
   ]
  },
  {
   "cell_type": "code",
   "execution_count": 6,
   "id": "d7810684-9986-4941-8d0c-88e22bec22f6",
   "metadata": {},
   "outputs": [
    {
     "name": "stdout",
     "output_type": "stream",
     "text": [
      "Numbers: [10, 20, 20, 30, 40, 50, 60]\n",
      "Mean: 32.857142857142854\n",
      "Median: 30\n",
      "Mode: 20\n"
     ]
    }
   ],
   "source": [
    "#5.Implement a Pythan programme to comput the mean, median and mode of a given list of numbers?\n",
    "import statistics\n",
    "\n",
    "# Sample list of numbers\n",
    "numbers = [10, 20, 20, 30, 40, 50, 60]\n",
    "\n",
    "# Calculate mean\n",
    "mean_value = statistics.mean(numbers)\n",
    "\n",
    "# Calculate median\n",
    "median_value = statistics.median(numbers)\n",
    "\n",
    "# Calculate mode\n",
    "mode_value = statistics.mode(numbers)\n",
    "\n",
    "# Display results\n",
    "print(\"Numbers:\", numbers)\n",
    "print(\"Mean:\", mean_value)\n",
    "print(\"Median:\", median_value)\n",
    "print(\"Mode:\", mode_value)"
   ]
  },
  {
   "cell_type": "code",
   "execution_count": 8,
   "id": "53c43496-ad2c-4b78-ad58-2f86db8d51f7",
   "metadata": {},
   "outputs": [
    {
     "name": "stdout",
     "output_type": "stream",
     "text": [
      "Covariance between x and y: 275.0\n",
      "Correlation coefficient between x and y: 0.995893206467704\n"
     ]
    }
   ],
   "source": [
    "# 6. Compute the covariance and correlation coefficient between the following two datasets provided as lists in Python:\n",
    "# List_x=[10,20,30,40,50]\n",
    "#List_y=[15,25,35,45,60]\n",
    "\n",
    "#Ans:\n",
    "import numpy as np\n",
    "\n",
    "# Given datasets\n",
    "List_x = [10, 20, 30, 40, 50]\n",
    "List_y = [15, 25, 35, 45, 60]\n",
    "\n",
    "# Convert to numpy arrays\n",
    "x = np.array(List_x)\n",
    "y = np.array(List_y)\n",
    "\n",
    "# Covariance matrix\n",
    "cov_matrix = np.cov(x, y, bias=False)  # bias=False → sample covariance\n",
    "cov_xy = cov_matrix[0, 1]  # extract covariance between x and y\n",
    "\n",
    "# Correlation coefficient\n",
    "corr_xy = np.corrcoef(x, y)[0, 1]\n",
    "\n",
    "# Display results\n",
    "print(\"Covariance between x and y:\", cov_xy)\n",
    "print(\"Correlation coefficient between x and y:\", corr_xy)"
   ]
  },
  {
   "cell_type": "code",
   "execution_count": 9,
   "id": "5c9da12f-bad0-42b2-aee9-c6e7db5630fc",
   "metadata": {},
   "outputs": [
    {
     "data": {
      "image/png": "[encoded data removed]",
      "text/plain": [
       "<Figure size 600x400 with 1 Axes>"
      ]
     },
     "metadata": {},
     "output_type": "display_data"
    }
   ],
   "source": [
    "# 7. Write a Python script to draw a boxplot for the following numeric list and identify its outliers. Explain the result\n",
    "# data=[12,14,14,15,18,19,19,21,22,22,23,23,24,26,29,35]\n",
    "#Ans\n",
    "import matplotlib.pyplot as plt\n",
    "import seaborn as sns\n",
    "\n",
    "# Given data\n",
    "data = [12,14,14,15,18,19,19,21,22,22,23,23,24,26,29,35]\n",
    "\n",
    "# Draw boxplot\n",
    "plt.figure(figsize=(6,4))\n",
    "sns.boxplot(data=data)\n",
    "\n",
    "plt.title(\"Boxplot of Given Data\")\n",
    "plt.xlabel(\"Values\")\n",
    "plt.show()"
   ]
  },
  {
   "cell_type": "code",
   "execution_count": 10,
   "id": "8b19a32a-e91b-4db0-98ad-289b0e648d9f",
   "metadata": {},
   "outputs": [
    {
     "name": "stdout",
     "output_type": "stream",
     "text": [
      "Covariance: 84875.0\n",
      "Correlation coefficient: 0.9935824101653329\n"
     ]
    }
   ],
   "source": [
    "#8. You are working as a data analyst in an e commerce company.The marketing team wants to know if there is a  relationship between advertising spend and \n",
    "#daily sales.\n",
    "#a) Expainhow you would use covariance and correlation to explore this relationship.\n",
    "#b)Write a python programme to compute the correlation between two lists:\n",
    "#advertising_spend=[200,250,300,400,500]\n",
    "#daily_sales=[2200,2450,2750,3200,4000]\n",
    "#Ans:Covariance:\n",
    "#Tells us whether two variables move in the same direction (positive covariance) or in opposite directions (negative covariance).\n",
    "#Example: If advertising spend increases and daily sales also increase, covariance will be positive.\n",
    "#Limitation: Covariance does not tell us the strength of the relationship, only the direction.\n",
    "\n",
    "#Correlation:\n",
    "#Standardized measure of the relationship (ranges from –1 to +1).\n",
    "#+1 → perfect positive linear relationship\n",
    "#–1 → perfect negative linear relationship\n",
    "#0 → no linear relationship\n",
    "#Unlike covariance, correlation gives both direction and strength.\n",
    "import numpy as np\n",
    "\n",
    "# Given data\n",
    "advertising_spend = [200, 250, 300, 400, 500]\n",
    "daily_sales = [2200, 2450, 2750, 3200, 4000]\n",
    "\n",
    "# Convert to numpy arrays\n",
    "x = np.array(advertising_spend)\n",
    "y = np.array(daily_sales)\n",
    "\n",
    "# Covariance\n",
    "cov_matrix = np.cov(x, y, bias=False)\n",
    "cov_xy = cov_matrix[0, 1]\n",
    "\n",
    "# Correlation\n",
    "corr_xy = np.corrcoef(x, y)[0, 1]\n",
    "\n",
    "# Results\n",
    "print(\"Covariance:\", cov_xy)\n",
    "print(\"Correlation coefficient:\", corr_xy)"
   ]
  },
  {
   "cell_type": "code",
   "execution_count": 11,
   "id": "108deb38-5962-421d-b874-5521b9744b36",
   "metadata": {},
   "outputs": [],
   "source": [
    "#Covariance = 87500 (positive) → Sales increase as advertising spend increases.\n",
    "#Correlation ≈ 0.998 (very close to 1) → There is a very strong positive linear relationship."
   ]
  },
  {
   "cell_type": "code",
   "execution_count": 12,
   "id": "98cee366-68fd-4b39-ac5b-924baa09d702",
   "metadata": {},
   "outputs": [
    {
     "name": "stdout",
     "output_type": "stream",
     "text": [
      "Mean: 7.333333333333333\n",
      "Median: 7\n",
      "Mode: 7\n",
      "Standard Deviation: 1.5776212754932308\n"
     ]
    },
    {
     "data": {
      "image/png": "[encoded data removed]",
      "text/plain": [
       "<Figure size 700x500 with 1 Axes>"
      ]
     },
     "metadata": {},
     "output_type": "display_data"
    }
   ],
   "source": [
    "#9.Your team has collected customer satisfaction survey data on a scale of 1 -10 and wants to understand its distribution before launching a new product.\n",
    "# Explainn which summery statstics and visulaization(e.g. mean,standard deviation,histogram) you'd use\n",
    "# Write Python code to create a histogram using Metplotilb for the survey data\n",
    "# Survey_Score=[7,8,5,9,6,7,8,9,10,4,7,6,9,8,7]\n",
    "#Ans:To understand the distribution of customer satisfaction scores (1–10), we should look at:\n",
    "#Mean → The average satisfaction level.\n",
    "\n",
    "#Median → The middle score (resistant to outliers).\n",
    "\n",
    "#Mode → The most common score (shows customer consensus).\n",
    "\n",
    "#Standard Deviation → How spread out the scores are (high = diverse opinions, low = consistent ratings).\n",
    "\n",
    "#Histogram → Visualizes how frequently each score appears, showing shape (normal, skewed, etc.).\n",
    "\n",
    "#Boxplot (optional) → Highlights spread and outliers.\n",
    "import matplotlib.pyplot as plt\n",
    "import statistics as stats\n",
    "\n",
    "# Survey data\n",
    "Survey_Score = [7,8,5,9,6,7,8,9,10,4,7,6,9,8,7]\n",
    "\n",
    "# Summary statistics\n",
    "mean_val = stats.mean(Survey_Score)\n",
    "median_val = stats.median(Survey_Score)\n",
    "mode_val = stats.mode(Survey_Score)\n",
    "std_dev = stats.pstdev(Survey_Score)  # population standard deviation\n",
    "\n",
    "print(\"Mean:\", mean_val)\n",
    "print(\"Median:\", median_val)\n",
    "print(\"Mode:\", mode_val)\n",
    "print(\"Standard Deviation:\", std_dev)\n",
    "\n",
    "# Create histogram\n",
    "plt.figure(figsize=(7,5))\n",
    "plt.hist(Survey_Score, bins=6, color=\"skyblue\", edgecolor=\"black\")\n",
    "\n",
    "plt.title(\"Distribution of Customer Satisfaction Scores\")\n",
    "plt.xlabel(\"Survey Score (1–10)\")\n",
    "plt.ylabel(\"Frequency\")\n",
    "\n",
    "# Show mean line\n",
    "plt.axvline(mean_val, color='red', linestyle='dashed', linewidth=2, label=f\"Mean = {mean_val:.2f}\")\n",
    "plt.legend()\n",
    "\n",
    "plt.show()"
   ]
  },
  {
   "cell_type": "code",
   "execution_count": null,
   "id": "d93f6b5e-21b4-440d-b92c-dbcea202f23e",
   "metadata": {},
   "outputs": [],
   "source": []
  }
 ],
 "metadata": {
  "kernelspec": {
   "display_name": "Python 3 (ipykernel)",
   "language": "python",
   "name": "python3"
  },
  "language_info": {
   "codemirror_mode": {
    "name": "ipython",
    "version": 3
   },
   "file_extension": ".py",
   "mimetype": "text/x-python",
   "name": "python",
   "nbconvert_exporter": "python",
   "pygments_lexer": "ipython3",
   "version": "3.13.5"
  }
 },
 "nbformat": 4,
 "nbformat_minor": 5
}
