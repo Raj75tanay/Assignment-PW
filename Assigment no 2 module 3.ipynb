{
 "cells": [
  {
   "cell_type": "code",
   "execution_count": 1,
   "id": "8a913cc2-8494-40fb-a5c1-d42f6cc60b04",
   "metadata": {},
   "outputs": [],
   "source": [
    "#Assignment no2_Module 3\n",
    "#Data Types and Structure\n",
    "# Theoratical Question(Part A)\n",
    "#1.What are data structure and why are they important?\n",
    "# Ans- It’s way of organizing and storing data so that can be accessed and manipulated # effectively .\n",
    "# 2.Explain the difference between mutable and immutable data types with example\n",
    "#Ans-Mutatable means where we can replace the data like in list for example\n",
    "#Shopping list=[ “Baigen”,Apple”,2] \n",
    "#Shopping_list[0]=”Mango”\n",
    "#Shopping_list=[“Mango”,Apple”,2]  Mango replaced \n",
    "#Whereas immutable means not replaced like in Tuples \n",
    "# 3.What are the difference between List and tuples?\n",
    "#Feature\tList\tTuple\n",
    "#Definition\tMutable ordered collection\tImmutable ordered collection\n",
    "#Syntax\tmy_list = [1, 2, 3]\tmy_tuple = (1, 2, 3)\n",
    "#Mutability\t Mutable (can change values)\t Immutable (cannot change values)\n",
    "#Methods Available\tMany (append(), remove(), etc.)\tFew (count(), index() only\n",
    "\t\t\n",
    "#Use Case\tWhen data can change\tWhen data must remain constant\n",
    "#Memory Consumption\tHigher\tLower\n",
    "#Iteration Safety\tLess safe in multi-threaded programs\tSafer due to immutability\n",
    "#Can be used as #dictionary key?\tNo (unless converted to tuple)\t Yes (if it contains only immutable types)\n",
    "#4. Describe how dictionaries store data?\n",
    "#Ans-dictionary in Python is a collection of key-value pairs.\n",
    "#Key → Hash → Index → Value.\n",
    "#5. Why might you use asset instead of a list in Python.\n",
    "#Ans- Because Set is collection of unique elements which enhanced it’s application to many solutions.\n",
    "#6. What is a string in python and how is it different from the list?\n",
    "#String is a sequence of characters enclosed in quotes and immutable which make it different from the lists.\n",
    "#7. How do the tuples ensure data integrity in Python?\n",
    "#Ans- Tuples in Python help ensure data integrity through their immutability\n",
    "#8. What is a hash table and how does it relate to dictionaries in Python?\n",
    "#Ans- A hash table is a data structure that stores data in key-value pairs, allowing very fast data lookup. Hashing avoids the need to search every element.\n",
    "#9.Can lists contain different data types in python?\n",
    "#Ans- Yes\n",
    "#10.Explain why the string are immutable in python?\n",
    "#Ans-Because Strings are immutable that is once a string is created, you cannot change any of its characters.\n",
    "#11.what advantage do the dictionaries offer over lists for certain task?\n",
    "#Ans- Dictionaries (dict) and Lists (list) are both useful, but dictionaries offer key #advantages in certain tasks, especially when you need to associate keys with #values.\n",
    "#Feature\tDictionary (dict)\tList (list)\n",
    "# Key-based access\tAccess by key (e.g., data[\"name\"])\tAccess by index (e.g., data[0])\n",
    "# Faster lookups\tVery fast: average O(1) time\tSlower: average O(n) time\n",
    "# More descriptive #access\tKeys make code more readable (user[\"age\"])\tList indices are less meaningful (user[2])\n",
    "# Unordered #mapping\tGreat for mapping relationships (e.g., name → marks)\tSequential only\n",
    "# Flexible structure\tKeys can be strings, numbers, tuples\tOnly positional data\n",
    "#12. Describe a scenario where using a tuple would be preferable over a list?\n",
    "#Ans-it can be used where values are fixed and not changes over the time during the programming.\n",
    "#13. How do sets handle duplicate values in Python?\n",
    "# Ans- Sets is collection of basically unordered, unindexed, mutable and unique elements and the unique property handles the duplicate values.\n",
    "#14. How does the “in” keywords work differently for list and dictionaries?\n",
    "#Ans- For list it will check its presence whereas in dictionaries check for the key\n",
    " # values.\n",
    "#15. Can you modify the elements of tuple? Explain why or why not?\n",
    "# No, we can’t modify the elements of tiple because it’s immutable.\n",
    "#16. What is a nested dictionary, and give an example of its use case ?\n",
    "#Ans- A nested dictionary is a dictionary where one or more values are dictionaries #themselves.\n",
    "#This allows us to represent hierarchical or structured data in a clean and organized #way — like a table with rows and columns, or records with sub-records.\n",
    "#17. Describe the time complexity of accessing elements in dictionary?\n",
    "#Ans- time respond is very fast \n",
    "#18. In what situation are lists preferred over dictionaries?\n",
    "# Ans- Lists and dictionaries serve different purposes, and lists are better in situations where order and sequence matter, or where indexed data is more appropriate.\n",
    "#19. Why are dictionaries considered unordered and how does that affect data #retrieval?\n",
    "# Ans- The order in which you insert key-value pairs is not guaranteed and to be the same #as the order in which you retrieve them.\n",
    "#20. Explain the difference between a list and a dictionary in terms of data retrieval?\n",
    "#Ans- A list is an ordered collection of elements whereas dictionary is an unordered #collection of elements.\n",
    "\n"
   ]
  },
  {
   "cell_type": "code",
   "execution_count": 2,
   "id": "46877844-0ec5-41d9-aa80-5541650e87ae",
   "metadata": {},
   "outputs": [],
   "source": [
    "#Practical Questions"
   ]
  },
  {
   "cell_type": "code",
   "execution_count": 3,
   "id": "8158adf4-702e-494a-b74b-d38f7e05d128",
   "metadata": {},
   "outputs": [
    {
     "name": "stdout",
     "output_type": "stream",
     "text": [
      "Rajesh kumar\n"
     ]
    }
   ],
   "source": [
    "#1.write code to create stringwith your name and print it\n",
    "my_name=\"Rajesh kumar\"\n",
    "print(my_name)"
   ]
  },
  {
   "cell_type": "code",
   "execution_count": 4,
   "id": "5d3a6336-0536-4c9f-8698-922445c09d86",
   "metadata": {},
   "outputs": [
    {
     "data": {
      "text/plain": [
       "11"
      ]
     },
     "execution_count": 4,
     "metadata": {},
     "output_type": "execute_result"
    }
   ],
   "source": [
    "#2Write a code to find length of string Hello World\n",
    "a=(\"Hello world\")\n",
    "len(a)"
   ]
  },
  {
   "cell_type": "code",
   "execution_count": 5,
   "id": "e7185756-98eb-4020-b951-b0f56c41d908",
   "metadata": {},
   "outputs": [
    {
     "name": "stdout",
     "output_type": "stream",
     "text": [
      "Pyt\n"
     ]
    }
   ],
   "source": [
    "#3 write a code to slice the first 3 characters from string\" Python Programming\"\n",
    "a=\"Python Programming\"\n",
    "sliced_a = a[:3]\n",
    "print(sliced_a)"
   ]
  },
  {
   "cell_type": "code",
   "execution_count": 7,
   "id": "2a3dff99-125d-4f38-88ed-757051321a60",
   "metadata": {},
   "outputs": [
    {
     "name": "stdout",
     "output_type": "stream",
     "text": [
      "HELLO\n"
     ]
    }
   ],
   "source": [
    "# 4 write a code to convert \"hello\" to upper case\n",
    "a= \"hello\"\n",
    "upper_a = a.upper()\n",
    "print(upper_a)"
   ]
  },
  {
   "cell_type": "code",
   "execution_count": 8,
   "id": "2f5fb77c-1998-4a2b-b57e-0f90ec399a17",
   "metadata": {},
   "outputs": [
    {
     "name": "stdout",
     "output_type": "stream",
     "text": [
      "I like orange\n"
     ]
    }
   ],
   "source": [
    "# 5 write a code to replace the word \" apple\" with \"orange\" in a string\" I like apple\"\n",
    "text = \"I like apple\"\n",
    "new_text = text.replace(\"apple\", \"orange\")\n",
    "print(new_text)"
   ]
  },
  {
   "cell_type": "code",
   "execution_count": 9,
   "id": "42c84802-164d-41a7-9fb9-c4549ab2f803",
   "metadata": {},
   "outputs": [
    {
     "name": "stdout",
     "output_type": "stream",
     "text": [
      "[1, 2, 3, 4, 5]\n"
     ]
    }
   ],
   "source": [
    "# 6 write  a code to create a list with numbers 1 to 5 and print it\n",
    "numbers = [1, 2, 3, 4, 5]\n",
    "print(numbers)"
   ]
  },
  {
   "cell_type": "code",
   "execution_count": 10,
   "id": "ef1a6179-69ec-477a-a61a-2e9a0c78eb67",
   "metadata": {},
   "outputs": [
    {
     "name": "stdout",
     "output_type": "stream",
     "text": [
      "[1, 2, 3, 4, 10]\n"
     ]
    }
   ],
   "source": [
    "# 7 write a code to append 10 to the list[1,2,3,4]\n",
    "numbers = [1, 2, 3, 4]\n",
    "numbers.append(10)\n",
    "print(numbers)"
   ]
  },
  {
   "cell_type": "code",
   "execution_count": 12,
   "id": "c744aa27-d520-4c19-a601-353532333763",
   "metadata": {},
   "outputs": [
    {
     "name": "stdout",
     "output_type": "stream",
     "text": [
      "[1, 2, 4, 5]\n"
     ]
    }
   ],
   "source": [
    "# 8 write a code to remove the number 3 from the list [1,2,3,4,5]\n",
    "numbers = [1,2,3,4,5]\n",
    "numbers.remove(3)\n",
    "print(numbers)"
   ]
  },
  {
   "cell_type": "code",
   "execution_count": 13,
   "id": "e3e7b902-4327-408d-b698-2a5cd65c6902",
   "metadata": {},
   "outputs": [
    {
     "name": "stdout",
     "output_type": "stream",
     "text": [
      "b\n"
     ]
    }
   ],
   "source": [
    "# 9 write a code to acess the second element in the list['a','b','c','d']\n",
    "letters = ['a', 'b', 'c', 'd']\n",
    "second_element = letters[1]\n",
    "print(second_element)"
   ]
  },
  {
   "cell_type": "code",
   "execution_count": 14,
   "id": "17404b0d-e818-42c0-9202-a60046c5576d",
   "metadata": {},
   "outputs": [
    {
     "name": "stdout",
     "output_type": "stream",
     "text": [
      "[50, 40, 30, 20, 10]\n"
     ]
    }
   ],
   "source": [
    "# 10 write a code to reveres the list[10,20,30,40,50]\n",
    "numbers = [10, 20, 30, 40, 50]\n",
    "numbers.reverse()\n",
    "print(numbers)"
   ]
  },
  {
   "cell_type": "code",
   "execution_count": 15,
   "id": "4525cbe3-02f6-4fdd-92b2-1bed87748cb9",
   "metadata": {},
   "outputs": [
    {
     "name": "stdout",
     "output_type": "stream",
     "text": [
      "(100, 200, 300)\n"
     ]
    }
   ],
   "source": [
    "# 11 write a code to create a tuple with elements 100,200,300 and print it\n",
    "my_tuple = (100, 200, 300)\n",
    "print(my_tuple)"
   ]
  },
  {
   "cell_type": "code",
   "execution_count": 16,
   "id": "4d9997e2-0647-4f7e-9909-f68e36b362d9",
   "metadata": {},
   "outputs": [
    {
     "data": {
      "text/plain": [
       "tuple"
      ]
     },
     "execution_count": 16,
     "metadata": {},
     "output_type": "execute_result"
    }
   ],
   "source": [
    "type(my_tuple)\n"
   ]
  },
  {
   "cell_type": "code",
   "execution_count": 19,
   "id": "259ac1ce-1090-445c-8390-d0b98d8fdbdd",
   "metadata": {},
   "outputs": [
    {
     "name": "stdout",
     "output_type": "stream",
     "text": [
      "blue\n"
     ]
    }
   ],
   "source": [
    "#12 Write a code to acess the second to last element of tuple('red','green','blue','yellow')\n",
    "colors = ('red', 'green', 'blue', 'yellow')\n",
    "second_last = colors[-2]\n",
    "print(second_last)"
   ]
  },
  {
   "cell_type": "code",
   "execution_count": 20,
   "id": "bdccdb51-30bf-4f0a-94e1-380f921b2011",
   "metadata": {},
   "outputs": [
    {
     "name": "stdout",
     "output_type": "stream",
     "text": [
      "5\n"
     ]
    }
   ],
   "source": [
    "# 13 Write  a code to find the minimum number in the tuple(10,20,5,15)\n",
    "numbers = (10, 20, 5, 15)\n",
    "min_number = min(numbers)\n",
    "print(min_number)"
   ]
  },
  {
   "cell_type": "code",
   "execution_count": 21,
   "id": "b02d19a3-95b6-414e-aa55-059450dfd282",
   "metadata": {},
   "outputs": [
    {
     "name": "stdout",
     "output_type": "stream",
     "text": [
      "1\n"
     ]
    }
   ],
   "source": [
    "# 14 write a code to find the index of the element \"cat\" in tuple ('dog','cat','rabbit')\n",
    "animals = ('dog', 'cat', 'rabbit')\n",
    "index_of_cat = animals.index('cat')\n",
    "print(index_of_cat)"
   ]
  },
  {
   "cell_type": "code",
   "execution_count": 22,
   "id": "aa664b73-0d80-491f-9b18-952927e177d1",
   "metadata": {},
   "outputs": [
    {
     "name": "stdout",
     "output_type": "stream",
     "text": [
      "Kiwi is not in the tuple.\n"
     ]
    }
   ],
   "source": [
    "#15 write  acode to create a tuple containg three different fruits and check if \"kiwi\" is in it.\n",
    "fruits = (\"apple\", \"banana\", \"mango\")\n",
    "\n",
    "if \"kiwi\" in fruits:\n",
    "    print(\"Kiwi is in the tuple.\")\n",
    "else:\n",
    "    print(\"Kiwi is not in the tuple.\")"
   ]
  },
  {
   "cell_type": "code",
   "execution_count": 23,
   "id": "3f782fa4-007f-42cd-8bc8-fa6c8dd0e79a",
   "metadata": {},
   "outputs": [
    {
     "name": "stdout",
     "output_type": "stream",
     "text": [
      "Kiwi is in the tuple.\n"
     ]
    }
   ],
   "source": [
    "fruits = (\"apple\", \"banana\", \"kiwi\")\n",
    "\n",
    "if \"kiwi\" in fruits:\n",
    "    print(\"Kiwi is in the tuple.\")\n",
    "else:\n",
    "    print(\"Kiwi is not in the tuple.\")"
   ]
  },
  {
   "cell_type": "code",
   "execution_count": 24,
   "id": "3c1bde4f-1ecd-4f06-a406-e2d18ed1bfd5",
   "metadata": {},
   "outputs": [
    {
     "name": "stdout",
     "output_type": "stream",
     "text": [
      "{'a', 'c', 'b'}\n"
     ]
    }
   ],
   "source": [
    "# 16 write a code to create a set with element 'a','b','c' and print it\n",
    "my_set = {'a', 'b', 'c'}\n",
    "print(my_set)\n"
   ]
  },
  {
   "cell_type": "code",
   "execution_count": 27,
   "id": "fdc099db-5fc2-4720-8c58-cb7b16225a71",
   "metadata": {},
   "outputs": [
    {
     "name": "stdout",
     "output_type": "stream",
     "text": [
      "set()\n"
     ]
    }
   ],
   "source": [
    "# 17 write a code to clear all elements from the set { 1,2,3,4,5}\n",
    "my_set = {1, 2, 3, 4, 5}\n",
    "my_set.clear()\n",
    "print(my_set)"
   ]
  },
  {
   "cell_type": "code",
   "execution_count": 29,
   "id": "d28cb11a-b4d0-4f7c-97a0-4c0e199e7cbb",
   "metadata": {},
   "outputs": [
    {
     "name": "stdout",
     "output_type": "stream",
     "text": [
      "{1, 2, 3}\n"
     ]
    }
   ],
   "source": [
    "# 18 Write a code to remove the element 4 from the set {1,2,3,4}\n",
    "my_set = {1, 2, 3, 4}\n",
    "my_set.remove(4)\n",
    "print(my_set)"
   ]
  },
  {
   "cell_type": "code",
   "execution_count": 31,
   "id": "fcf7af74-81e7-4f11-88c7-c22458928787",
   "metadata": {},
   "outputs": [
    {
     "name": "stdout",
     "output_type": "stream",
     "text": [
      "{1, 2, 3, 4, 5}\n"
     ]
    }
   ],
   "source": [
    "# 19 write a code to find union of two sets {1,2,3} and {3,4,5}\n",
    "set1 = {1, 2, 3}\n",
    "set2 = {3, 4, 5}\n",
    "union_set = set1.union(set2)\n",
    "print(union_set)"
   ]
  },
  {
   "cell_type": "code",
   "execution_count": 32,
   "id": "9b7139d8-cf60-4250-8c0f-71225754af9f",
   "metadata": {},
   "outputs": [
    {
     "name": "stdout",
     "output_type": "stream",
     "text": [
      "{2, 3}\n"
     ]
    }
   ],
   "source": [
    "# 20  write a code to find the intersection of two sets {1,2,3) and{2,3,4}\n",
    "set1 = {1, 2, 3}\n",
    "set2 = {2, 3, 4}\n",
    "intersection_set = set1.intersection(set2)\n",
    "print(intersection_set)"
   ]
  },
  {
   "cell_type": "code",
   "execution_count": 33,
   "id": "9ce95892-833f-4dcb-9edb-0b0f3b3ffc0b",
   "metadata": {},
   "outputs": [
    {
     "name": "stdout",
     "output_type": "stream",
     "text": [
      "{'name': 'Alice', 'age': 25, 'city': 'New York'}\n"
     ]
    }
   ],
   "source": [
    "#21 Write a code to create a dicitionary with the keys\"names\",\"age\" and \"city\" and print it\n",
    "person = {\n",
    "    \"name\": \"Alice\",\n",
    "    \"age\": 25,\n",
    "    \"city\": \"New York\"\n",
    "}\n",
    "\n",
    "print(person)"
   ]
  },
  {
   "cell_type": "code",
   "execution_count": 1,
   "id": "f2d22c36-8f3a-4680-97dd-d74fe2c64871",
   "metadata": {},
   "outputs": [
    {
     "name": "stdout",
     "output_type": "stream",
     "text": [
      "{'name': 'Johan', 'age': 25, 'country': 'USA'}\n"
     ]
    }
   ],
   "source": [
    "# 22 write a code to add a new key pair \"country\":\"USA\" TO THE DICITIONARY{'name':'Johan','age':25}\n",
    "# Original dictionary\n",
    "person = {'name': 'Johan', 'age': 25}\n",
    "\n",
    "# Adding new key-value pair\n",
    "person['country'] = 'USA'\n",
    "\n",
    "# Printing updated dictionary\n",
    "print(person)"
   ]
  },
  {
   "cell_type": "code",
   "execution_count": 3,
   "id": "3af417c3-57d7-45a1-b35b-4ff4a1c6b5dd",
   "metadata": {},
   "outputs": [
    {
     "name": "stdout",
     "output_type": "stream",
     "text": [
      "Alice\n"
     ]
    }
   ],
   "source": [
    "# 23 Write a code to acess the value associated with the key\"name\" in the dicitionary{'name':''Alice','age':30}\n",
    "#  dictionary\n",
    "person = {'name': 'Alice', 'age': 30}\n",
    "\n",
    "# Code to acess the key name\n",
    "print(person[\"name\"])"
   ]
  },
  {
   "cell_type": "code",
   "execution_count": 5,
   "id": "92332ab5-4ff3-4a50-89fd-46e0bc1cfe9b",
   "metadata": {},
   "outputs": [
    {
     "name": "stdout",
     "output_type": "stream",
     "text": [
      "{'name': 'Bob', 'city': 'New york'}\n"
     ]
    }
   ],
   "source": [
    "# 24 Write a code to remove the key\"age\" from the dicitinory {'name':'Bob\",'age':22,'city':'New york'}\n",
    "#  dictionary\n",
    "person = {'name':'Bob','age':22,'city':'New york'}\n",
    "\n",
    "# Code toremove the key age\n",
    "person.pop('age')\n",
    "print(person)"
   ]
  },
  {
   "cell_type": "code",
   "execution_count": 8,
   "id": "29ccc387-4d40-4e37-8056-1ee21a52e555",
   "metadata": {},
   "outputs": [
    {
     "name": "stdout",
     "output_type": "stream",
     "text": [
      "Key 'city' exists in the dictionary.\n"
     ]
    }
   ],
   "source": [
    "#25 Write a code to check if the key\" city\" exist in dicitinory {'name':'Alice','city':'Paris'}\n",
    "#  dictionary\n",
    "person = {'name':'Alice','city':'Paris'}\n",
    "\n",
    "# Code to check the key city\n",
    "if 'city' in person:\n",
    "    print(\"Key 'city' exists in the dictionary.\")\n",
    "else:\n",
    "    print(\"Key 'city' does not exist in the dictionary.\")"
   ]
  },
  {
   "cell_type": "code",
   "execution_count": 9,
   "id": "ff70c785-a853-46f1-a12a-3c4dc10d426a",
   "metadata": {},
   "outputs": [
    {
     "name": "stdout",
     "output_type": "stream",
     "text": [
      "List: [1, 2, 3, 4, 5]\n",
      "Tuple: ('apple', 'banana', 'cherry')\n",
      "Dictionary: {'name': 'John', 'age': 30, 'city': 'New York'}\n"
     ]
    }
   ],
   "source": [
    "# 26 Write a code to create a list, a tuple and a dicitonary and print them all\n",
    "# Creating a list\n",
    "my_list = [1, 2, 3, 4, 5]\n",
    "\n",
    "# Creating a tuple\n",
    "my_tuple = ('apple', 'banana', 'cherry')\n",
    "\n",
    "# Creating a dictionary\n",
    "my_dict = {'name': 'John', 'age': 30, 'city': 'New York'}\n",
    "\n",
    "# Printing all\n",
    "print(\"List:\", my_list)\n",
    "print(\"Tuple:\", my_tuple)\n",
    "print(\"Dictionary:\", my_dict)"
   ]
  },
  {
   "cell_type": "code",
   "execution_count": 11,
   "id": "9619a469-8ca9-4707-8473-01fded57f360",
   "metadata": {},
   "outputs": [
    {
     "name": "stdout",
     "output_type": "stream",
     "text": [
      "Sorted list: [2, 12, 25, 36, 50]\n"
     ]
    }
   ],
   "source": [
    "#  27 write  a code to create a list of 5 random numbers between  1 and 100, sort it in asending order and print result\n",
    "# Create a list of 5 random numbers between 1 and 100\n",
    "numbers = [2,25,12,36,50]\n",
    "\n",
    "# Sort in ascending order\n",
    "numbers.sort()\n",
    "\n",
    "# Print result\n",
    "print(\"Sorted list:\", numbers)"
   ]
  },
  {
   "cell_type": "code",
   "execution_count": 12,
   "id": "1d3f5950-0c33-4880-b663-09072f4a9f91",
   "metadata": {},
   "outputs": [
    {
     "name": "stdout",
     "output_type": "stream",
     "text": [
      "Element at third index: mango\n"
     ]
    }
   ],
   "source": [
    "# 28 write a code to create a list with strings and print the element at third index\n",
    "# Creating a list with strings\n",
    "fruits = [\"apple\", \"banana\", \"cherry\", \"mango\", \"orange\"]\n",
    "\n",
    "# Printing the element at third index\n",
    "print(\"Element at third index:\", fruits[3])"
   ]
  },
  {
   "cell_type": "code",
   "execution_count": 13,
   "id": "8a4dc344-15f1-433b-a124-e87e805df6a5",
   "metadata": {},
   "outputs": [
    {
     "name": "stdout",
     "output_type": "stream",
     "text": [
      "Combined dictionary: {'name': 'Alice', 'age': 25, 'city': 'Paris', 'country': 'France'}\n"
     ]
    }
   ],
   "source": [
    "# Write a code to combine two dicitinories into one and print the result\n",
    "# Two dictionaries\n",
    "dict1 = {'name': 'Alice', 'age': 25}\n",
    "dict2 = {'city': 'Paris', 'country': 'France'}\n",
    "\n",
    "# Combine dictionaries\n",
    "combined_dict = {**dict1, **dict2}\n",
    "\n",
    "# Print result\n",
    "print(\"Combined dictionary:\", combined_dict)"
   ]
  },
  {
   "cell_type": "code",
   "execution_count": 14,
   "id": "744fbd3e-9d07-4fba-b373-c578236f9789",
   "metadata": {},
   "outputs": [
    {
     "name": "stdout",
     "output_type": "stream",
     "text": [
      "Set: {'banana', 'apple', 'cherry'}\n"
     ]
    }
   ],
   "source": [
    "# 30 write a code to convert a list of strings into a set\n",
    "# List of strings\n",
    "fruits_list = [\"apple\", \"banana\", \"cherry\", \"apple\", \"banana\"]\n",
    "\n",
    "# Convert list to set\n",
    "fruits_set = set(fruits_list)\n",
    "\n",
    "# Print result\n",
    "print(\"Set:\", fruits_set)"
   ]
  },
  {
   "cell_type": "code",
   "execution_count": null,
   "id": "a5fbf194-06d2-42e1-871d-740a2203efec",
   "metadata": {},
   "outputs": [],
   "source": []
  }
 ],
 "metadata": {
  "kernelspec": {
   "display_name": "Python 3 (ipykernel)",
   "language": "python",
   "name": "python3"
  },
  "language_info": {
   "codemirror_mode": {
    "name": "ipython",
    "version": 3
   },
   "file_extension": ".py",
   "mimetype": "text/x-python",
   "name": "python",
   "nbconvert_exporter": "python",
   "pygments_lexer": "ipython3",
   "version": "3.13.5"
  }
 },
 "nbformat": 4,
 "nbformat_minor": 5
}
